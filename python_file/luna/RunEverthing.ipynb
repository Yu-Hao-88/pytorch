{
 "cells": [
  {
   "cell_type": "code",
   "execution_count": 22,
   "id": "5666581c",
   "metadata": {},
   "outputs": [],
   "source": [
    "import datetime\n",
    "\n",
    "from util.util import importstr\n",
    "from util.logconf import logging\n",
    "log = logging.getLogger('nb')"
   ]
  },
  {
   "cell_type": "code",
   "execution_count": 23,
   "id": "d73a1d2a",
   "metadata": {},
   "outputs": [],
   "source": [
    "def run(app, *argv):\n",
    "    argv = list(argv)\n",
    "    argv.insert(0, '--num-workers=4') #此處假設 CPU 是 4 核心\n",
    "    log.info(\"Runnung: {}({!r}).main()\".format(app, argv))\n",
    "    \n",
    "    app_cls = importstr(*app.rsplit('.', 1)) #這是比 __import__ 更簡潔的呼叫方法\n",
    "    app_cls(argv).main()\n",
    "    \n",
    "    log.info(\"Finished: {}.({!r}).main()\".format(app, argv))"
   ]
  },
  {
   "cell_type": "code",
   "execution_count": 24,
   "id": "9d4f64c3",
   "metadata": {},
   "outputs": [],
   "source": [
    "import os\n",
    "import shutil\n",
    "\n",
    "# clean up any old data that might be around.\n",
    "# We don't call this by default because it's destructive, \n",
    "# and would waste a lot of time if it ran when nothing \n",
    "# on the application side had changed.\n",
    "def cleanCache():\n",
    "    shutil.rmtree('data-unversioned/cache')\n",
    "    os.mkdir('data-unversioned/cache')\n",
    "\n",
    "# cleanCache()"
   ]
  },
  {
   "cell_type": "code",
   "execution_count": 25,
   "id": "65200b0a",
   "metadata": {},
   "outputs": [],
   "source": [
    "training_epochs = 11\n",
    "experiment_epochs = 10\n",
    "final_epochs = 50\n",
    "\n",
    "training_epochs = 2\n",
    "experiment_epochs = 2\n",
    "final_epochs = 5\n",
    "seg_epochs = 10"
   ]
  },
  {
   "cell_type": "code",
   "execution_count": 7,
   "id": "f19fabcb",
   "metadata": {
    "scrolled": false
   },
   "outputs": [
    {
     "name": "stderr",
     "output_type": "stream",
     "text": [
      "2021-08-30 15:19:03,738 INFO     pid:17516 nb:004:run Runnung: precache.LunaPrepCacheApp(['--num-workers=4']).main()\n",
      "2021-08-30 15:19:04,668 INFO     pid:17516 precache:043:main Starting LunaPrepCacheApp, Namespace(batch_size=1024, num_workers=4)\n",
      "2021-08-30 15:19:07,859 INFO     pid:17516 dsets:296:__init__ <dsets.LunaDataset object at 0x00000180AEB97B70>: 495958 training samples, 494743 neg, 1215 pos, unbalanced ratio\n",
      "2021-08-30 15:19:07,859 WARNING  pid:17516 util.util:209:enumerateWithEstimate Stuffing cache ----/485, starting\n",
      "2021-08-30 15:19:40,864 INFO     pid:17516 util.util:229:enumerateWithEstimate Stuffing cache   16/485, done at 2021-08-30 15:30:45, 0:11:22\n",
      "2021-08-30 15:20:35,724 INFO     pid:17516 util.util:229:enumerateWithEstimate Stuffing cache   64/485, done at 2021-08-30 15:29:00, 0:09:38\n",
      "2021-08-30 15:24:09,337 INFO     pid:17516 util.util:229:enumerateWithEstimate Stuffing cache  256/485, done at 2021-08-30 15:28:27, 0:09:05\n",
      "2021-08-30 15:28:28,907 WARNING  pid:17516 util.util:240:enumerateWithEstimate Stuffing cache ----/485, done at 2021-08-30 15:28:28\n",
      "2021-08-30 15:28:28,918 INFO     pid:17516 nb:009:run Finished: precache.LunaPrepCacheApp.(['--num-workers=4']).main()\n"
     ]
    }
   ],
   "source": [
    "run('precache.LunaPrepCacheApp') #每章只需預備一次快取就行了"
   ]
  },
  {
   "cell_type": "code",
   "execution_count": 9,
   "id": "034cdf69",
   "metadata": {},
   "outputs": [
    {
     "name": "stderr",
     "output_type": "stream",
     "text": [
      "2021-08-30 15:28:36,618 INFO     pid:17516 nb:004:run Runnung: training.LunaTrainingApp(['--num-workers=4', '--epochs=1', 'unbalanced']).main()\n",
      "2021-08-30 15:28:37,318 INFO     pid:17516 training:130:initModel Using CUDA; 1 devices.\n",
      "2021-08-30 15:28:39,262 INFO     pid:17516 training:193:main Starting LunaTrainingApp, Namespace(augment_flip=False, augment_noise=False, augment_offset=False, augment_rotate=False, augment_scale=False, augmented=False, balanced=False, batch_size=32, comment='unbalanced', epochs=1, num_workers=4, tb_prefix='log')\n",
      "2021-08-30 15:28:39,638 INFO     pid:17516 dsets:296:__init__ <dsets.LunaDataset object at 0x00000180AEBA6208>: 495958 training samples, 494743 neg, 1215 pos, unbalanced ratio\n",
      "2021-08-30 15:28:39,689 INFO     pid:17516 dsets:296:__init__ <dsets.LunaDataset object at 0x00000180B5237828>: 55107 validation samples, 54971 neg, 136 pos, unbalanced ratio\n",
      "2021-08-30 15:28:39,690 INFO     pid:17516 training:206:main Epoch 1 of 1, 15499/1723 batches of size 32*1\n",
      "2021-08-30 15:28:39,695 WARNING  pid:17516 util.util:209:enumerateWithEstimate E1 Training ----/15499, starting\n",
      "2021-08-30 15:28:53,820 INFO     pid:17516 util.util:229:enumerateWithEstimate E1 Training   16/15499, done at 2021-08-30 15:34:40, 0:05:46\n",
      "2021-08-30 15:28:56,631 INFO     pid:17516 util.util:229:enumerateWithEstimate E1 Training   64/15499, done at 2021-08-30 15:42:01, 0:13:07\n",
      "2021-08-30 15:29:08,223 INFO     pid:17516 util.util:229:enumerateWithEstimate E1 Training  256/15499, done at 2021-08-30 15:43:53, 0:14:59\n",
      "2021-08-30 15:29:55,657 INFO     pid:17516 util.util:229:enumerateWithEstimate E1 Training 1024/15499, done at 2021-08-30 15:44:36, 0:15:42\n",
      "2021-08-30 15:33:10,922 INFO     pid:17516 util.util:229:enumerateWithEstimate E1 Training 4096/15499, done at 2021-08-30 15:45:07, 0:16:14\n",
      "2021-08-30 15:45:34,381 WARNING  pid:17516 util.util:240:enumerateWithEstimate E1 Training ----/15499, done at 2021-08-30 15:45:34\n",
      "2021-08-30 15:45:36,248 INFO     pid:17516 training:312:logMetrics E1 LunaTrainingApp\n",
      "2021-08-30 15:45:36,274 INFO     pid:17516 training:369:logMetrics E1 trn      nan loss,   1.2% correct, 0.0025 precision, 0.9942 recall, 0.0049 f1 score\n",
      "2021-08-30 15:45:36,275 INFO     pid:17516 training:382:logMetrics E1 trn_neg  nan loss,   1.0% correct (4791 of 494743)\n",
      "2021-08-30 15:45:36,275 INFO     pid:17516 training:395:logMetrics E1 trn_pos  nan loss,  99.4% correct (1208 of 1215)\n",
      "2021-08-30 15:45:36,302 WARNING  pid:17516 util.util:209:enumerateWithEstimate E1 Validation  ----/1723, starting\n",
      "2021-08-30 15:45:41,790 INFO     pid:17516 util.util:229:enumerateWithEstimate E1 Validation    16/1723, done at 2021-08-30 15:47:09, 0:01:28\n",
      "2021-08-30 15:45:43,538 INFO     pid:17516 util.util:229:enumerateWithEstimate E1 Validation    64/1723, done at 2021-08-30 15:46:49, 0:01:08\n",
      "2021-08-30 15:45:50,425 INFO     pid:17516 util.util:229:enumerateWithEstimate E1 Validation   256/1723, done at 2021-08-30 15:46:44, 0:01:03\n",
      "2021-08-30 15:46:18,299 INFO     pid:17516 util.util:229:enumerateWithEstimate E1 Validation  1024/1723, done at 2021-08-30 15:46:43, 0:01:02\n",
      "2021-08-30 15:46:43,545 WARNING  pid:17516 util.util:240:enumerateWithEstimate E1 Validation  ----/1723, done at 2021-08-30 15:46:43\n",
      "2021-08-30 15:46:43,545 INFO     pid:17516 training:312:logMetrics E1 LunaTrainingApp\n",
      "2021-08-30 15:46:43,547 INFO     pid:17516 training:369:logMetrics E1 val      nan loss,   0.2% correct, 0.0025 precision, 1.0000 recall, 0.0049 f1 score\n",
      "2021-08-30 15:46:43,547 INFO     pid:17516 training:382:logMetrics E1 val_neg  nan loss,   0.0% correct (0 of 54971)\n",
      "2021-08-30 15:46:43,548 INFO     pid:17516 training:395:logMetrics E1 val_pos  nan loss, 100.0% correct (136 of 136)\n",
      "2021-08-30 15:46:43,555 INFO     pid:17516 nb:009:run Finished: training.LunaTrainingApp.(['--num-workers=4', '--epochs=1', 'unbalanced']).main()\n"
     ]
    }
   ],
   "source": [
    "run('training.LunaTrainingApp', '--epochs=1', 'unbalanced')"
   ]
  },
  {
   "cell_type": "code",
   "execution_count": 10,
   "id": "3148d92e",
   "metadata": {},
   "outputs": [
    {
     "name": "stderr",
     "output_type": "stream",
     "text": [
      "2021-08-30 15:46:43,565 INFO     pid:17516 nb:004:run Runnung: training.LunaTrainingApp(['--num-workers=4', '--epochs=2', '--balanced', 'balanced']).main()\n",
      "2021-08-30 15:46:43,571 INFO     pid:17516 training:130:initModel Using CUDA; 1 devices.\n",
      "2021-08-30 15:46:43,573 INFO     pid:17516 training:193:main Starting LunaTrainingApp, Namespace(augment_flip=False, augment_noise=False, augment_offset=False, augment_rotate=False, augment_scale=False, augmented=False, balanced=True, batch_size=32, comment='balanced', epochs=2, num_workers=4, tb_prefix='log')\n",
      "2021-08-30 15:46:44,004 INFO     pid:17516 dsets:296:__init__ <dsets.LunaDataset object at 0x00000180AE893BA8>: 495958 training samples, 494743 neg, 1215 pos, 1:1 ratio\n",
      "2021-08-30 15:46:44,054 INFO     pid:17516 dsets:296:__init__ <dsets.LunaDataset object at 0x00000180B8DC0780>: 55107 validation samples, 54971 neg, 136 pos, unbalanced ratio\n",
      "2021-08-30 15:46:44,054 INFO     pid:17516 training:206:main Epoch 1 of 2, 6250/1723 batches of size 32*1\n",
      "2021-08-30 15:46:44,055 WARNING  pid:17516 util.util:209:enumerateWithEstimate E1 Training ----/6250, starting\n",
      "2021-08-30 15:46:55,207 INFO     pid:17516 util.util:229:enumerateWithEstimate E1 Training   16/6250, done at 2021-08-30 15:52:07, 0:05:13\n",
      "2021-08-30 15:46:57,739 INFO     pid:17516 util.util:229:enumerateWithEstimate E1 Training   64/6250, done at 2021-08-30 15:52:20, 0:05:26\n",
      "2021-08-30 15:47:09,551 INFO     pid:17516 util.util:229:enumerateWithEstimate E1 Training  256/6250, done at 2021-08-30 15:53:04, 0:06:10\n",
      "2021-08-30 15:47:58,010 INFO     pid:17516 util.util:229:enumerateWithEstimate E1 Training 1024/6250, done at 2021-08-30 15:53:22, 0:06:28\n",
      "2021-08-30 15:51:15,975 INFO     pid:17516 util.util:229:enumerateWithEstimate E1 Training 4096/6250, done at 2021-08-30 15:53:33, 0:06:38\n",
      "2021-08-30 15:53:34,882 WARNING  pid:17516 util.util:240:enumerateWithEstimate E1 Training ----/6250, done at 2021-08-30 15:53:34\n",
      "2021-08-30 15:53:35,099 INFO     pid:17516 training:312:logMetrics E1 LunaTrainingApp\n",
      "2021-08-30 15:53:35,103 INFO     pid:17516 training:369:logMetrics E1 trn      0.3087 loss,  87.4% correct, 0.9072 precision, 0.8341 recall, 0.8691 f1 score\n",
      "2021-08-30 15:53:35,104 INFO     pid:17516 training:382:logMetrics E1 trn_neg  0.2791 loss,  91.5% correct (91469 of 100000)\n",
      "2021-08-30 15:53:35,104 INFO     pid:17516 training:395:logMetrics E1 trn_pos  0.3383 loss,  83.4% correct (83409 of 100000)\n",
      "2021-08-30 15:53:35,124 WARNING  pid:17516 util.util:209:enumerateWithEstimate E1 Validation  ----/1723, starting\n",
      "2021-08-30 15:53:40,392 INFO     pid:17516 util.util:229:enumerateWithEstimate E1 Validation    16/1723, done at 2021-08-30 15:55:03, 0:01:23\n",
      "2021-08-30 15:53:42,230 INFO     pid:17516 util.util:229:enumerateWithEstimate E1 Validation    64/1723, done at 2021-08-30 15:54:49, 0:01:09\n",
      "2021-08-30 15:53:49,333 INFO     pid:17516 util.util:229:enumerateWithEstimate E1 Validation   256/1723, done at 2021-08-30 15:54:44, 0:01:05\n",
      "2021-08-30 15:54:17,384 INFO     pid:17516 util.util:229:enumerateWithEstimate E1 Validation  1024/1723, done at 2021-08-30 15:54:43, 0:01:03\n",
      "2021-08-30 15:54:42,683 WARNING  pid:17516 util.util:240:enumerateWithEstimate E1 Validation  ----/1723, done at 2021-08-30 15:54:42\n",
      "2021-08-30 15:54:42,685 INFO     pid:17516 training:312:logMetrics E1 LunaTrainingApp\n",
      "2021-08-30 15:54:42,687 INFO     pid:17516 training:369:logMetrics E1 val      0.2047 loss,  94.6% correct, 0.0349 precision, 0.7794 recall, 0.0667 f1 score\n",
      "2021-08-30 15:54:42,687 INFO     pid:17516 training:382:logMetrics E1 val_neg  0.2039 loss,  94.7% correct (52036 of 54971)\n",
      "2021-08-30 15:54:42,688 INFO     pid:17516 training:395:logMetrics E1 val_pos  0.5248 loss,  77.9% correct (106 of 136)\n",
      "2021-08-30 15:54:42,696 INFO     pid:17516 training:206:main Epoch 2 of 2, 6250/1723 batches of size 32*1\n",
      "2021-08-30 15:54:42,697 WARNING  pid:17516 util.util:209:enumerateWithEstimate E2 Training ----/6250, starting\n",
      "2021-08-30 15:54:53,671 INFO     pid:17516 util.util:229:enumerateWithEstimate E2 Training   16/6250, done at 2021-08-30 15:58:45, 0:03:52\n",
      "2021-08-30 15:54:56,352 INFO     pid:17516 util.util:229:enumerateWithEstimate E2 Training   64/6250, done at 2021-08-30 16:00:17, 0:05:24\n",
      "2021-08-30 15:55:08,174 INFO     pid:17516 util.util:229:enumerateWithEstimate E2 Training  256/6250, done at 2021-08-30 16:01:03, 0:06:10\n",
      "2021-08-30 15:55:57,376 INFO     pid:17516 util.util:229:enumerateWithEstimate E2 Training 1024/6250, done at 2021-08-30 16:01:25, 0:06:32\n",
      "2021-08-30 15:59:26,179 INFO     pid:17516 util.util:229:enumerateWithEstimate E2 Training 4096/6250, done at 2021-08-30 16:01:49, 0:06:56\n",
      "2021-08-30 16:01:54,966 WARNING  pid:17516 util.util:240:enumerateWithEstimate E2 Training ----/6250, done at 2021-08-30 16:01:54\n",
      "2021-08-30 16:01:55,149 INFO     pid:17516 training:312:logMetrics E2 LunaTrainingApp\n",
      "2021-08-30 16:01:55,152 INFO     pid:17516 training:369:logMetrics E2 trn      0.2457 loss,  90.5% correct, 0.9365 precision, 0.8695 recall, 0.9018 f1 score\n",
      "2021-08-30 16:01:55,152 INFO     pid:17516 training:382:logMetrics E2 trn_neg  0.2239 loss,  94.1% correct (94108 of 100000)\n",
      "2021-08-30 16:01:55,153 INFO     pid:17516 training:395:logMetrics E2 trn_pos  0.2675 loss,  87.0% correct (86951 of 100000)\n",
      "2021-08-30 16:01:55,171 WARNING  pid:17516 util.util:209:enumerateWithEstimate E2 Validation  ----/1723, starting\n",
      "2021-08-30 16:02:00,397 INFO     pid:17516 util.util:229:enumerateWithEstimate E2 Validation    16/1723, done at 2021-08-30 16:03:21, 0:01:22\n",
      "2021-08-30 16:02:02,128 INFO     pid:17516 util.util:229:enumerateWithEstimate E2 Validation    64/1723, done at 2021-08-30 16:03:06, 0:01:06\n",
      "2021-08-30 16:02:09,130 INFO     pid:17516 util.util:229:enumerateWithEstimate E2 Validation   256/1723, done at 2021-08-30 16:03:03, 0:01:03\n",
      "2021-08-30 16:02:36,780 INFO     pid:17516 util.util:229:enumerateWithEstimate E2 Validation  1024/1723, done at 2021-08-30 16:03:02, 0:01:02\n",
      "2021-08-30 16:03:01,923 WARNING  pid:17516 util.util:240:enumerateWithEstimate E2 Validation  ----/1723, done at 2021-08-30 16:03:01\n",
      "2021-08-30 16:03:01,924 INFO     pid:17516 training:312:logMetrics E2 LunaTrainingApp\n",
      "2021-08-30 16:03:01,925 INFO     pid:17516 training:369:logMetrics E2 val      0.1777 loss,  94.8% correct, 0.0389 precision, 0.8529 recall, 0.0743 f1 score\n",
      "2021-08-30 16:03:01,926 INFO     pid:17516 training:382:logMetrics E2 val_neg  0.1769 loss,  94.8% correct (52102 of 54971)\n",
      "2021-08-30 16:03:01,926 INFO     pid:17516 training:395:logMetrics E2 val_pos  0.4729 loss,  85.3% correct (116 of 136)\n",
      "2021-08-30 16:03:01,953 INFO     pid:17516 nb:009:run Finished: training.LunaTrainingApp.(['--num-workers=4', '--epochs=2', '--balanced', 'balanced']).main()\n"
     ]
    }
   ],
   "source": [
    "run('training.LunaTrainingApp', f'--epochs={training_epochs}', '--balanced', 'balanced')"
   ]
  },
  {
   "cell_type": "code",
   "execution_count": null,
   "id": "96d84010",
   "metadata": {},
   "outputs": [],
   "source": [
    "run('training.LunaTrainingApp', f'--epochs={experiment_epochs}', '--balanced', '--augment-flip', 'flip')"
   ]
  },
  {
   "cell_type": "code",
   "execution_count": null,
   "id": "12abe174",
   "metadata": {},
   "outputs": [],
   "source": [
    "run('training.LunaTrainingApp', f'--epochs={experiment_epochs}', '--balanced', '--augment-offset', 'offset')"
   ]
  },
  {
   "cell_type": "code",
   "execution_count": null,
   "id": "f87618ef",
   "metadata": {},
   "outputs": [],
   "source": [
    "run('.training.LunaTrainingApp', f'--epochs={experiment_epochs}', '--balanced', '--augment-scale', 'scale')"
   ]
  },
  {
   "cell_type": "code",
   "execution_count": null,
   "id": "8b4ed9a4",
   "metadata": {},
   "outputs": [],
   "source": [
    "run('training.LunaTrainingApp', f'--epochs={experiment_epochs}', '--balanced', '--augment-rotate', 'rotate')"
   ]
  },
  {
   "cell_type": "code",
   "execution_count": null,
   "id": "e596a5a9",
   "metadata": {},
   "outputs": [],
   "source": [
    "run('training.LunaTrainingApp', f'--epochs={experiment_epochs}', '--balanced', '--augment-noise', 'noise')"
   ]
  },
  {
   "cell_type": "code",
   "execution_count": 11,
   "id": "d1b347c6",
   "metadata": {
    "scrolled": false
   },
   "outputs": [
    {
     "name": "stderr",
     "output_type": "stream",
     "text": [
      "2021-08-30 16:03:01,960 INFO     pid:17516 nb:004:run Runnung: training.LunaTrainingApp(['--num-workers=4', '--epochs=2', '--balanced', '--augmented', 'fully-augmented']).main()\n",
      "2021-08-30 16:03:01,966 INFO     pid:17516 training:130:initModel Using CUDA; 1 devices.\n",
      "2021-08-30 16:03:01,969 INFO     pid:17516 training:193:main Starting LunaTrainingApp, Namespace(augment_flip=False, augment_noise=False, augment_offset=False, augment_rotate=False, augment_scale=False, augmented=True, balanced=True, batch_size=32, comment='fully-augmented', epochs=2, num_workers=4, tb_prefix='log')\n",
      "2021-08-30 16:03:02,369 INFO     pid:17516 dsets:296:__init__ <dsets.LunaDataset object at 0x00000180B8D86C50>: 495958 training samples, 494743 neg, 1215 pos, 1:1 ratio\n",
      "2021-08-30 16:03:02,416 INFO     pid:17516 dsets:296:__init__ <dsets.LunaDataset object at 0x00000180B8DC0C18>: 55107 validation samples, 54971 neg, 136 pos, unbalanced ratio\n",
      "2021-08-30 16:03:02,417 INFO     pid:17516 training:206:main Epoch 1 of 2, 6250/1723 batches of size 32*1\n",
      "2021-08-30 16:03:02,417 WARNING  pid:17516 util.util:209:enumerateWithEstimate E1 Training ----/6250, starting\n",
      "2021-08-30 16:03:14,170 INFO     pid:17516 util.util:229:enumerateWithEstimate E1 Training   16/6250, done at 2021-08-30 16:10:56, 0:07:43\n",
      "2021-08-30 16:03:17,017 INFO     pid:17516 util.util:229:enumerateWithEstimate E1 Training   64/6250, done at 2021-08-30 16:09:43, 0:06:30\n",
      "2021-08-30 16:03:28,959 INFO     pid:17516 util.util:229:enumerateWithEstimate E1 Training  256/6250, done at 2021-08-30 16:09:42, 0:06:28\n",
      "2021-08-30 16:04:20,486 INFO     pid:17516 util.util:229:enumerateWithEstimate E1 Training 1024/6250, done at 2021-08-30 16:10:04, 0:06:51\n",
      "2021-08-30 16:07:56,739 INFO     pid:17516 util.util:229:enumerateWithEstimate E1 Training 4096/6250, done at 2021-08-30 16:10:25, 0:07:12\n",
      "2021-08-30 16:10:28,569 WARNING  pid:17516 util.util:240:enumerateWithEstimate E1 Training ----/6250, done at 2021-08-30 16:10:28\n",
      "2021-08-30 16:10:28,853 INFO     pid:17516 training:312:logMetrics E1 LunaTrainingApp\n",
      "2021-08-30 16:10:28,856 INFO     pid:17516 training:369:logMetrics E1 trn      0.2871 loss,  88.1% correct, 0.9119 precision, 0.8428 recall, 0.8760 f1 score\n",
      "2021-08-30 16:10:28,857 INFO     pid:17516 training:382:logMetrics E1 trn_neg  0.2585 loss,  91.9% correct (91853 of 100000)\n",
      "2021-08-30 16:10:28,857 INFO     pid:17516 training:395:logMetrics E1 trn_pos  0.3158 loss,  84.3% correct (84277 of 100000)\n",
      "2021-08-30 16:10:28,874 WARNING  pid:17516 util.util:209:enumerateWithEstimate E1 Validation  ----/1723, starting\n",
      "2021-08-30 16:10:34,288 INFO     pid:17516 util.util:229:enumerateWithEstimate E1 Validation    16/1723, done at 2021-08-30 16:11:59, 0:01:26\n",
      "2021-08-30 16:10:36,200 INFO     pid:17516 util.util:229:enumerateWithEstimate E1 Validation    64/1723, done at 2021-08-30 16:11:45, 0:01:12\n",
      "2021-08-30 16:10:43,496 INFO     pid:17516 util.util:229:enumerateWithEstimate E1 Validation   256/1723, done at 2021-08-30 16:11:40, 0:01:06\n",
      "2021-08-30 16:11:12,840 INFO     pid:17516 util.util:229:enumerateWithEstimate E1 Validation  1024/1723, done at 2021-08-30 16:11:39, 0:01:06\n",
      "2021-08-30 16:11:39,552 WARNING  pid:17516 util.util:240:enumerateWithEstimate E1 Validation  ----/1723, done at 2021-08-30 16:11:39\n",
      "2021-08-30 16:11:39,553 INFO     pid:17516 training:312:logMetrics E1 LunaTrainingApp\n",
      "2021-08-30 16:11:39,555 INFO     pid:17516 training:369:logMetrics E1 val      0.2773 loss,  92.8% correct, 0.0296 precision, 0.8824 recall, 0.0572 f1 score\n",
      "2021-08-30 16:11:39,556 INFO     pid:17516 training:382:logMetrics E1 val_neg  0.2774 loss,  92.8% correct (51034 of 54971)\n",
      "2021-08-30 16:11:39,556 INFO     pid:17516 training:395:logMetrics E1 val_pos  0.2402 loss,  88.2% correct (120 of 136)\n",
      "2021-08-30 16:11:39,564 INFO     pid:17516 training:206:main Epoch 2 of 2, 6250/1723 batches of size 32*1\n",
      "2021-08-30 16:11:39,566 WARNING  pid:17516 util.util:209:enumerateWithEstimate E2 Training ----/6250, starting\n",
      "2021-08-30 16:11:51,374 INFO     pid:17516 util.util:229:enumerateWithEstimate E2 Training   16/6250, done at 2021-08-30 16:19:05, 0:07:15\n",
      "2021-08-30 16:11:54,069 INFO     pid:17516 util.util:229:enumerateWithEstimate E2 Training   64/6250, done at 2021-08-30 16:17:59, 0:06:08\n",
      "2021-08-30 16:12:06,518 INFO     pid:17516 util.util:229:enumerateWithEstimate E2 Training  256/6250, done at 2021-08-30 16:18:26, 0:06:36\n",
      "2021-08-30 16:12:58,555 INFO     pid:17516 util.util:229:enumerateWithEstimate E2 Training 1024/6250, done at 2021-08-30 16:18:46, 0:06:56\n",
      "2021-08-30 16:16:32,002 INFO     pid:17516 util.util:229:enumerateWithEstimate E2 Training 4096/6250, done at 2021-08-30 16:19:00, 0:07:09\n",
      "2021-08-30 16:19:01,804 WARNING  pid:17516 util.util:240:enumerateWithEstimate E2 Training ----/6250, done at 2021-08-30 16:19:01\n",
      "2021-08-30 16:19:02,110 INFO     pid:17516 training:312:logMetrics E2 LunaTrainingApp\n",
      "2021-08-30 16:19:02,114 INFO     pid:17516 training:369:logMetrics E2 trn      0.1763 loss,  93.8% correct, 0.9555 precision, 0.9186 recall, 0.9367 f1 score\n",
      "2021-08-30 16:19:02,115 INFO     pid:17516 training:382:logMetrics E2 trn_neg  0.1588 loss,  95.7% correct (95717 of 100000)\n",
      "2021-08-30 16:19:02,115 INFO     pid:17516 training:395:logMetrics E2 trn_pos  0.1939 loss,  91.9% correct (91864 of 100000)\n",
      "2021-08-30 16:19:02,134 WARNING  pid:17516 util.util:209:enumerateWithEstimate E2 Validation  ----/1723, starting\n",
      "2021-08-30 16:19:07,864 INFO     pid:17516 util.util:229:enumerateWithEstimate E2 Validation    16/1723, done at 2021-08-30 16:20:30, 0:01:22\n",
      "2021-08-30 16:19:09,609 INFO     pid:17516 util.util:229:enumerateWithEstimate E2 Validation    64/1723, done at 2021-08-30 16:20:14, 0:01:06\n",
      "2021-08-30 16:19:16,581 INFO     pid:17516 util.util:229:enumerateWithEstimate E2 Validation   256/1723, done at 2021-08-30 16:20:10, 0:01:03\n",
      "2021-08-30 16:19:44,785 INFO     pid:17516 util.util:229:enumerateWithEstimate E2 Validation  1024/1723, done at 2021-08-30 16:20:10, 0:01:03\n",
      "2021-08-30 16:20:10,486 WARNING  pid:17516 util.util:240:enumerateWithEstimate E2 Validation  ----/1723, done at 2021-08-30 16:20:10\n",
      "2021-08-30 16:20:10,487 INFO     pid:17516 training:312:logMetrics E2 LunaTrainingApp\n",
      "2021-08-30 16:20:10,489 INFO     pid:17516 training:369:logMetrics E2 val      0.1661 loss,  95.3% correct, 0.0476 precision, 0.9412 recall, 0.0906 f1 score\n",
      "2021-08-30 16:20:10,489 INFO     pid:17516 training:382:logMetrics E2 val_neg  0.1661 loss,  95.3% correct (52409 of 54971)\n",
      "2021-08-30 16:20:10,490 INFO     pid:17516 training:395:logMetrics E2 val_pos  0.1625 loss,  94.1% correct (128 of 136)\n",
      "2021-08-30 16:20:10,517 INFO     pid:17516 nb:009:run Finished: training.LunaTrainingApp.(['--num-workers=4', '--epochs=2', '--balanced', '--augmented', 'fully-augmented']).main()\n"
     ]
    }
   ],
   "source": [
    "run('training.LunaTrainingApp', f'--epochs={training_epochs}', '--balanced', '--augmented', 'fully-augmented')"
   ]
  },
  {
   "cell_type": "markdown",
   "id": "93ef59b5",
   "metadata": {},
   "source": [
    "# 第13章"
   ]
  },
  {
   "cell_type": "code",
   "execution_count": 31,
   "id": "5c285fbb",
   "metadata": {},
   "outputs": [
    {
     "name": "stderr",
     "output_type": "stream",
     "text": [
      "2021-09-04 18:19:06,157 INFO     pid:6352 nb:004:run Runnung: precache.LunaPrepCacheApp(['--num-workers=4']).main()\n",
      "2021-09-04 18:19:06,158 INFO     pid:6352 precache:043:main Starting LunaPrepCacheApp, Namespace(batch_size=1024, num_workers=4)\n"
     ]
    },
    {
     "ename": "TypeError",
     "evalue": "__new__() takes 5 positional arguments but 7 were given",
     "output_type": "error",
     "traceback": [
      "\u001b[1;31m---------------------------------------------------------------------------\u001b[0m",
      "\u001b[1;31mTypeError\u001b[0m                                 Traceback (most recent call last)",
      "\u001b[1;32m<ipython-input-31-d6c7ebcc7768>\u001b[0m in \u001b[0;36m<module>\u001b[1;34m\u001b[0m\n\u001b[1;32m----> 1\u001b[1;33m \u001b[0mrun\u001b[0m\u001b[1;33m(\u001b[0m\u001b[1;34m'precache.LunaPrepCacheApp'\u001b[0m\u001b[1;33m)\u001b[0m \u001b[1;31m#每章只需預備一次快取就行了\u001b[0m\u001b[1;33m\u001b[0m\u001b[1;33m\u001b[0m\u001b[0m\n\u001b[0m",
      "\u001b[1;32m<ipython-input-23-5c4bace3dfa3>\u001b[0m in \u001b[0;36mrun\u001b[1;34m(app, *argv)\u001b[0m\n\u001b[0;32m      5\u001b[0m \u001b[1;33m\u001b[0m\u001b[0m\n\u001b[0;32m      6\u001b[0m     \u001b[0mapp_cls\u001b[0m \u001b[1;33m=\u001b[0m \u001b[0mimportstr\u001b[0m\u001b[1;33m(\u001b[0m\u001b[1;33m*\u001b[0m\u001b[0mapp\u001b[0m\u001b[1;33m.\u001b[0m\u001b[0mrsplit\u001b[0m\u001b[1;33m(\u001b[0m\u001b[1;34m'.'\u001b[0m\u001b[1;33m,\u001b[0m \u001b[1;36m1\u001b[0m\u001b[1;33m)\u001b[0m\u001b[1;33m)\u001b[0m \u001b[1;31m#這是比 __import__ 更簡潔的呼叫方法\u001b[0m\u001b[1;33m\u001b[0m\u001b[1;33m\u001b[0m\u001b[0m\n\u001b[1;32m----> 7\u001b[1;33m     \u001b[0mapp_cls\u001b[0m\u001b[1;33m(\u001b[0m\u001b[0margv\u001b[0m\u001b[1;33m)\u001b[0m\u001b[1;33m.\u001b[0m\u001b[0mmain\u001b[0m\u001b[1;33m(\u001b[0m\u001b[1;33m)\u001b[0m\u001b[1;33m\u001b[0m\u001b[1;33m\u001b[0m\u001b[0m\n\u001b[0m\u001b[0;32m      8\u001b[0m \u001b[1;33m\u001b[0m\u001b[0m\n\u001b[0;32m      9\u001b[0m     \u001b[0mlog\u001b[0m\u001b[1;33m.\u001b[0m\u001b[0minfo\u001b[0m\u001b[1;33m(\u001b[0m\u001b[1;34m\"Finished: {}.({!r}).main()\"\u001b[0m\u001b[1;33m.\u001b[0m\u001b[0mformat\u001b[0m\u001b[1;33m(\u001b[0m\u001b[0mapp\u001b[0m\u001b[1;33m,\u001b[0m \u001b[0margv\u001b[0m\u001b[1;33m)\u001b[0m\u001b[1;33m)\u001b[0m\u001b[1;33m\u001b[0m\u001b[1;33m\u001b[0m\u001b[0m\n",
      "\u001b[1;32mD:\\gitkraken\\pytorch\\python_file\\luna\\precache.py\u001b[0m in \u001b[0;36mmain\u001b[1;34m(self)\u001b[0m\n\u001b[0;32m     45\u001b[0m         \u001b[0mself\u001b[0m\u001b[1;33m.\u001b[0m\u001b[0mcli_args\u001b[0m \u001b[1;33m=\u001b[0m \u001b[0mparser\u001b[0m\u001b[1;33m.\u001b[0m\u001b[0mparse_args\u001b[0m\u001b[1;33m(\u001b[0m\u001b[0msys_argv\u001b[0m\u001b[1;33m)\u001b[0m\u001b[1;33m\u001b[0m\u001b[1;33m\u001b[0m\u001b[0m\n\u001b[0;32m     46\u001b[0m \u001b[1;33m\u001b[0m\u001b[0m\n\u001b[1;32m---> 47\u001b[1;33m     \u001b[1;32mdef\u001b[0m \u001b[0mmain\u001b[0m\u001b[1;33m(\u001b[0m\u001b[0mself\u001b[0m\u001b[1;33m)\u001b[0m\u001b[1;33m:\u001b[0m\u001b[1;33m\u001b[0m\u001b[1;33m\u001b[0m\u001b[0m\n\u001b[0m\u001b[0;32m     48\u001b[0m         log.info(\"testStarting {}, {}\".format(\n\u001b[0;32m     49\u001b[0m             type(self).__name__, self.cli_args))\n",
      "\u001b[1;32mD:\\gitkraken\\pytorch\\python_file\\luna\\dsets.py\u001b[0m in \u001b[0;36m__init__\u001b[1;34m(self, val_stride, isValSet_bool, series_uid, sortby_str, ratio_int, augmentation_dict, candidateInfo_list)\u001b[0m\n\u001b[0;32m    384\u001b[0m         \u001b[1;31m# 將傳回值複製一份，這樣即使改變 candidateInfo_list 也不會影響原來的資料\u001b[0m\u001b[1;33m\u001b[0m\u001b[1;33m\u001b[0m\u001b[1;33m\u001b[0m\u001b[0m\n\u001b[0;32m    385\u001b[0m         \u001b[1;32mif\u001b[0m \u001b[0mcandidateInfo_list\u001b[0m\u001b[1;33m:\u001b[0m\u001b[1;33m\u001b[0m\u001b[1;33m\u001b[0m\u001b[0m\n\u001b[1;32m--> 386\u001b[1;33m             \u001b[0mself\u001b[0m\u001b[1;33m.\u001b[0m\u001b[0mcandidateInfo_list\u001b[0m \u001b[1;33m=\u001b[0m \u001b[0mcopy\u001b[0m\u001b[1;33m.\u001b[0m\u001b[0mcopy\u001b[0m\u001b[1;33m(\u001b[0m\u001b[0mcandidateInfo_list\u001b[0m\u001b[1;33m)\u001b[0m\u001b[1;33m\u001b[0m\u001b[1;33m\u001b[0m\u001b[0m\n\u001b[0m\u001b[0;32m    387\u001b[0m             \u001b[0mself\u001b[0m\u001b[1;33m.\u001b[0m\u001b[0muse_cache\u001b[0m \u001b[1;33m=\u001b[0m \u001b[1;32mFalse\u001b[0m\u001b[1;33m\u001b[0m\u001b[1;33m\u001b[0m\u001b[0m\n\u001b[0;32m    388\u001b[0m         \u001b[1;32melse\u001b[0m\u001b[1;33m:\u001b[0m\u001b[1;33m\u001b[0m\u001b[1;33m\u001b[0m\u001b[0m\n",
      "\u001b[1;32mD:\\gitkraken\\pytorch\\python_file\\luna\\dsets.py\u001b[0m in \u001b[0;36mgetCandidateInfoList\u001b[1;34m(requireOnDisk_bool)\u001b[0m\n\u001b[0;32m    108\u001b[0m                     \u001b[1;32mTrue\u001b[0m\u001b[1;33m,\u001b[0m  \u001b[1;31m# 將 isNodule_bool(是否為結節) 設為 True\u001b[0m\u001b[1;33m\u001b[0m\u001b[1;33m\u001b[0m\u001b[0m\n\u001b[0;32m    109\u001b[0m                     \u001b[1;32mTrue\u001b[0m\u001b[1;33m,\u001b[0m  \u001b[1;31m# 將 hasAnnotation_bool(是否有標註) 設為 True\u001b[0m\u001b[1;33m\u001b[0m\u001b[1;33m\u001b[0m\u001b[0m\n\u001b[1;32m--> 110\u001b[1;33m                     \u001b[0misMal_bool\u001b[0m\u001b[1;33m,\u001b[0m\u001b[1;33m\u001b[0m\u001b[1;33m\u001b[0m\u001b[0m\n\u001b[0m\u001b[0;32m    111\u001b[0m                     \u001b[0mannotationDiameter_mm\u001b[0m\u001b[1;33m,\u001b[0m\u001b[1;33m\u001b[0m\u001b[1;33m\u001b[0m\u001b[0m\n\u001b[0;32m    112\u001b[0m                     \u001b[0mseries_uid\u001b[0m\u001b[1;33m,\u001b[0m\u001b[1;33m\u001b[0m\u001b[1;33m\u001b[0m\u001b[0m\n",
      "\u001b[1;31mTypeError\u001b[0m: __new__() takes 5 positional arguments but 7 were given"
     ]
    }
   ],
   "source": [
    "run('precache.LunaPrepCacheApp') #每章只需預備一次快取就行了"
   ]
  },
  {
   "cell_type": "code",
   "execution_count": 37,
   "id": "b56edfa2",
   "metadata": {},
   "outputs": [
    {
     "name": "stderr",
     "output_type": "stream",
     "text": [
      "2021-09-04 18:24:12,461 INFO     pid:6352 nb:004:run Runnung: training.LunaTrainingApp(['--num-workers=4', '--epochs=5', '--balanced', '--augmented', 'final-cls']).main()\n",
      "2021-09-04 18:24:12,467 INFO     pid:6352 training:154:initModel Using CUDA; 1 devices.\n"
     ]
    },
    {
     "ename": "AttributeError",
     "evalue": "'LunaTrainingApp' object has no attribute 'model'",
     "output_type": "error",
     "traceback": [
      "\u001b[1;31m---------------------------------------------------------------------------\u001b[0m",
      "\u001b[1;31mAttributeError\u001b[0m                            Traceback (most recent call last)",
      "\u001b[1;32m<ipython-input-37-6341145b3be4>\u001b[0m in \u001b[0;36m<module>\u001b[1;34m\u001b[0m\n\u001b[1;32m----> 1\u001b[1;33m \u001b[0mrun\u001b[0m\u001b[1;33m(\u001b[0m\u001b[1;34m'training.LunaTrainingApp'\u001b[0m\u001b[1;33m,\u001b[0m \u001b[1;34mf'--epochs={final_epochs}'\u001b[0m\u001b[1;33m,\u001b[0m \u001b[1;34m'--balanced'\u001b[0m\u001b[1;33m,\u001b[0m \u001b[1;34m'--augmented'\u001b[0m\u001b[1;33m,\u001b[0m \u001b[1;34m'final-cls'\u001b[0m\u001b[1;33m)\u001b[0m\u001b[1;33m\u001b[0m\u001b[1;33m\u001b[0m\u001b[0m\n\u001b[0m",
      "\u001b[1;32m<ipython-input-23-5c4bace3dfa3>\u001b[0m in \u001b[0;36mrun\u001b[1;34m(app, *argv)\u001b[0m\n\u001b[0;32m      5\u001b[0m \u001b[1;33m\u001b[0m\u001b[0m\n\u001b[0;32m      6\u001b[0m     \u001b[0mapp_cls\u001b[0m \u001b[1;33m=\u001b[0m \u001b[0mimportstr\u001b[0m\u001b[1;33m(\u001b[0m\u001b[1;33m*\u001b[0m\u001b[0mapp\u001b[0m\u001b[1;33m.\u001b[0m\u001b[0mrsplit\u001b[0m\u001b[1;33m(\u001b[0m\u001b[1;34m'.'\u001b[0m\u001b[1;33m,\u001b[0m \u001b[1;36m1\u001b[0m\u001b[1;33m)\u001b[0m\u001b[1;33m)\u001b[0m \u001b[1;31m#這是比 __import__ 更簡潔的呼叫方法\u001b[0m\u001b[1;33m\u001b[0m\u001b[1;33m\u001b[0m\u001b[0m\n\u001b[1;32m----> 7\u001b[1;33m     \u001b[0mapp_cls\u001b[0m\u001b[1;33m(\u001b[0m\u001b[0margv\u001b[0m\u001b[1;33m)\u001b[0m\u001b[1;33m.\u001b[0m\u001b[0mmain\u001b[0m\u001b[1;33m(\u001b[0m\u001b[1;33m)\u001b[0m\u001b[1;33m\u001b[0m\u001b[1;33m\u001b[0m\u001b[0m\n\u001b[0m\u001b[0;32m      8\u001b[0m \u001b[1;33m\u001b[0m\u001b[0m\n\u001b[0;32m      9\u001b[0m     \u001b[0mlog\u001b[0m\u001b[1;33m.\u001b[0m\u001b[0minfo\u001b[0m\u001b[1;33m(\u001b[0m\u001b[1;34m\"Finished: {}.({!r}).main()\"\u001b[0m\u001b[1;33m.\u001b[0m\u001b[0mformat\u001b[0m\u001b[1;33m(\u001b[0m\u001b[0mapp\u001b[0m\u001b[1;33m,\u001b[0m \u001b[0margv\u001b[0m\u001b[1;33m)\u001b[0m\u001b[1;33m)\u001b[0m\u001b[1;33m\u001b[0m\u001b[1;33m\u001b[0m\u001b[0m\n",
      "\u001b[1;32mD:\\gitkraken\\pytorch\\python_file\\luna\\training.py\u001b[0m in \u001b[0;36m__init__\u001b[1;34m(self, sys_argv)\u001b[0m\n\u001b[0;32m    134\u001b[0m \u001b[1;33m\u001b[0m\u001b[0m\n\u001b[0;32m    135\u001b[0m         \u001b[0mself\u001b[0m\u001b[1;33m.\u001b[0m\u001b[0msegmentation_model\u001b[0m\u001b[1;33m,\u001b[0m \u001b[0mself\u001b[0m\u001b[1;33m.\u001b[0m\u001b[0maugmentation_model\u001b[0m \u001b[1;33m=\u001b[0m \u001b[0mself\u001b[0m\u001b[1;33m.\u001b[0m\u001b[0minitModel\u001b[0m\u001b[1;33m(\u001b[0m\u001b[1;33m)\u001b[0m  \u001b[1;31m# 初始化模型\u001b[0m\u001b[1;33m\u001b[0m\u001b[1;33m\u001b[0m\u001b[0m\n\u001b[1;32m--> 136\u001b[1;33m         \u001b[0mself\u001b[0m\u001b[1;33m.\u001b[0m\u001b[0moptimizer\u001b[0m \u001b[1;33m=\u001b[0m \u001b[0mself\u001b[0m\u001b[1;33m.\u001b[0m\u001b[0minitOptimizer\u001b[0m\u001b[1;33m(\u001b[0m\u001b[1;33m)\u001b[0m  \u001b[1;31m# 初始化優化器\u001b[0m\u001b[1;33m\u001b[0m\u001b[1;33m\u001b[0m\u001b[0m\n\u001b[0m\u001b[0;32m    137\u001b[0m \u001b[1;33m\u001b[0m\u001b[0m\n\u001b[0;32m    138\u001b[0m     \u001b[1;32mdef\u001b[0m \u001b[0minitModel\u001b[0m\u001b[1;33m(\u001b[0m\u001b[0mself\u001b[0m\u001b[1;33m)\u001b[0m\u001b[1;33m:\u001b[0m\u001b[1;33m\u001b[0m\u001b[1;33m\u001b[0m\u001b[0m\n",
      "\u001b[1;32mD:\\gitkraken\\pytorch\\python_file\\luna\\training.py\u001b[0m in \u001b[0;36minitOptimizer\u001b[1;34m(self)\u001b[0m\n\u001b[0;32m    174\u001b[0m         \u001b[1;31m# 使用 SGD 優化器\u001b[0m\u001b[1;33m\u001b[0m\u001b[1;33m\u001b[0m\u001b[1;33m\u001b[0m\u001b[0m\n\u001b[0;32m    175\u001b[0m         \u001b[1;31m# return SGD(self.segmentation_model.parameters(), lr=0.001, momentum=0.99)\u001b[0m\u001b[1;33m\u001b[0m\u001b[1;33m\u001b[0m\u001b[1;33m\u001b[0m\u001b[0m\n\u001b[1;32m--> 176\u001b[1;33m         \u001b[1;31m# 將分割模型的參數傳進 Adam 優化器\u001b[0m\u001b[1;33m\u001b[0m\u001b[1;33m\u001b[0m\u001b[1;33m\u001b[0m\u001b[0m\n\u001b[0m\u001b[0;32m    177\u001b[0m         \u001b[1;32mreturn\u001b[0m \u001b[0mAdam\u001b[0m\u001b[1;33m(\u001b[0m\u001b[0mself\u001b[0m\u001b[1;33m.\u001b[0m\u001b[0msegmentation_model\u001b[0m\u001b[1;33m.\u001b[0m\u001b[0mparameters\u001b[0m\u001b[1;33m(\u001b[0m\u001b[1;33m)\u001b[0m\u001b[1;33m)\u001b[0m\u001b[1;33m\u001b[0m\u001b[1;33m\u001b[0m\u001b[0m\n\u001b[0;32m    178\u001b[0m \u001b[1;33m\u001b[0m\u001b[0m\n",
      "\u001b[1;31mAttributeError\u001b[0m: 'LunaTrainingApp' object has no attribute 'model'"
     ]
    }
   ],
   "source": [
    "run('training.LunaTrainingApp', f'--epochs={final_epochs}', '--balanced', '--augmented', 'final-cls')"
   ]
  },
  {
   "cell_type": "code",
   "execution_count": 19,
   "id": "7da493d6",
   "metadata": {},
   "outputs": [
    {
     "name": "stderr",
     "output_type": "stream",
     "text": [
      "2021-09-04 18:04:10,573 INFO     pid:6352 nb:004:run Runnung: train_seg.LunaTrainingApp(['--num-workers=4', '--epochs=10', '--augmented', 'final-seg']).main()\n"
     ]
    },
    {
     "ename": "ModuleNotFoundError",
     "evalue": "No module named 'train_seg'",
     "output_type": "error",
     "traceback": [
      "\u001b[1;31m---------------------------------------------------------------------------\u001b[0m",
      "\u001b[1;31mModuleNotFoundError\u001b[0m                       Traceback (most recent call last)",
      "\u001b[1;32m<ipython-input-19-283da42267a6>\u001b[0m in \u001b[0;36m<module>\u001b[1;34m\u001b[0m\n\u001b[1;32m----> 1\u001b[1;33m \u001b[0mrun\u001b[0m\u001b[1;33m(\u001b[0m\u001b[1;34m'train_seg.LunaTrainingApp'\u001b[0m\u001b[1;33m,\u001b[0m \u001b[1;34mf'--epochs={seg_epochs}'\u001b[0m\u001b[1;33m,\u001b[0m \u001b[1;34m'--augmented'\u001b[0m\u001b[1;33m,\u001b[0m \u001b[1;34m'final-seg'\u001b[0m\u001b[1;33m)\u001b[0m\u001b[1;33m\u001b[0m\u001b[1;33m\u001b[0m\u001b[0m\n\u001b[0m",
      "\u001b[1;32m<ipython-input-9-5c4bace3dfa3>\u001b[0m in \u001b[0;36mrun\u001b[1;34m(app, *argv)\u001b[0m\n\u001b[0;32m      4\u001b[0m     \u001b[0mlog\u001b[0m\u001b[1;33m.\u001b[0m\u001b[0minfo\u001b[0m\u001b[1;33m(\u001b[0m\u001b[1;34m\"Runnung: {}({!r}).main()\"\u001b[0m\u001b[1;33m.\u001b[0m\u001b[0mformat\u001b[0m\u001b[1;33m(\u001b[0m\u001b[0mapp\u001b[0m\u001b[1;33m,\u001b[0m \u001b[0margv\u001b[0m\u001b[1;33m)\u001b[0m\u001b[1;33m)\u001b[0m\u001b[1;33m\u001b[0m\u001b[1;33m\u001b[0m\u001b[0m\n\u001b[0;32m      5\u001b[0m \u001b[1;33m\u001b[0m\u001b[0m\n\u001b[1;32m----> 6\u001b[1;33m     \u001b[0mapp_cls\u001b[0m \u001b[1;33m=\u001b[0m \u001b[0mimportstr\u001b[0m\u001b[1;33m(\u001b[0m\u001b[1;33m*\u001b[0m\u001b[0mapp\u001b[0m\u001b[1;33m.\u001b[0m\u001b[0mrsplit\u001b[0m\u001b[1;33m(\u001b[0m\u001b[1;34m'.'\u001b[0m\u001b[1;33m,\u001b[0m \u001b[1;36m1\u001b[0m\u001b[1;33m)\u001b[0m\u001b[1;33m)\u001b[0m \u001b[1;31m#這是比 __import__ 更簡潔的呼叫方法\u001b[0m\u001b[1;33m\u001b[0m\u001b[1;33m\u001b[0m\u001b[0m\n\u001b[0m\u001b[0;32m      7\u001b[0m     \u001b[0mapp_cls\u001b[0m\u001b[1;33m(\u001b[0m\u001b[0margv\u001b[0m\u001b[1;33m)\u001b[0m\u001b[1;33m.\u001b[0m\u001b[0mmain\u001b[0m\u001b[1;33m(\u001b[0m\u001b[1;33m)\u001b[0m\u001b[1;33m\u001b[0m\u001b[1;33m\u001b[0m\u001b[0m\n\u001b[0;32m      8\u001b[0m \u001b[1;33m\u001b[0m\u001b[0m\n",
      "\u001b[1;32mD:\\gitkraken\\pytorch\\python_file\\luna\\util\\util.py\u001b[0m in \u001b[0;36mimportstr\u001b[1;34m(module_str, from_)\u001b[0m\n\u001b[0;32m     44\u001b[0m         \u001b[0mmodule_str\u001b[0m\u001b[1;33m,\u001b[0m \u001b[0mfrom_\u001b[0m \u001b[1;33m=\u001b[0m \u001b[0mmodule_str\u001b[0m\u001b[1;33m.\u001b[0m\u001b[0mrsplit\u001b[0m\u001b[1;33m(\u001b[0m\u001b[1;34m':'\u001b[0m\u001b[1;33m)\u001b[0m\u001b[1;33m\u001b[0m\u001b[1;33m\u001b[0m\u001b[0m\n\u001b[0;32m     45\u001b[0m \u001b[1;33m\u001b[0m\u001b[0m\n\u001b[1;32m---> 46\u001b[1;33m     \u001b[0mmodule\u001b[0m \u001b[1;33m=\u001b[0m \u001b[0m__import__\u001b[0m\u001b[1;33m(\u001b[0m\u001b[0mmodule_str\u001b[0m\u001b[1;33m)\u001b[0m\u001b[1;33m\u001b[0m\u001b[1;33m\u001b[0m\u001b[0m\n\u001b[0m\u001b[0;32m     47\u001b[0m     \u001b[1;32mfor\u001b[0m \u001b[0msub_str\u001b[0m \u001b[1;32min\u001b[0m \u001b[0mmodule_str\u001b[0m\u001b[1;33m.\u001b[0m\u001b[0msplit\u001b[0m\u001b[1;33m(\u001b[0m\u001b[1;34m'.'\u001b[0m\u001b[1;33m)\u001b[0m\u001b[1;33m[\u001b[0m\u001b[1;36m1\u001b[0m\u001b[1;33m:\u001b[0m\u001b[1;33m]\u001b[0m\u001b[1;33m:\u001b[0m\u001b[1;33m\u001b[0m\u001b[1;33m\u001b[0m\u001b[0m\n\u001b[0;32m     48\u001b[0m         \u001b[0mmodule\u001b[0m \u001b[1;33m=\u001b[0m \u001b[0mgetattr\u001b[0m\u001b[1;33m(\u001b[0m\u001b[0mmodule\u001b[0m\u001b[1;33m,\u001b[0m \u001b[0msub_str\u001b[0m\u001b[1;33m)\u001b[0m\u001b[1;33m\u001b[0m\u001b[1;33m\u001b[0m\u001b[0m\n",
      "\u001b[1;31mModuleNotFoundError\u001b[0m: No module named 'train_seg'"
     ]
    }
   ],
   "source": [
    "run('train_seg.LunaTrainingApp', f'--epochs={seg_epochs}', '--augmented', 'final-seg')"
   ]
  }
 ],
 "metadata": {
  "kernelspec": {
   "display_name": "Python 3",
   "language": "python",
   "name": "python3"
  },
  "language_info": {
   "codemirror_mode": {
    "name": "ipython",
    "version": 3
   },
   "file_extension": ".py",
   "mimetype": "text/x-python",
   "name": "python",
   "nbconvert_exporter": "python",
   "pygments_lexer": "ipython3",
   "version": "3.6.8"
  }
 },
 "nbformat": 4,
 "nbformat_minor": 5
}
