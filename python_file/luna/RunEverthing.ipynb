{
 "cells": [
  {
   "cell_type": "code",
   "execution_count": 1,
   "id": "92ca3711",
   "metadata": {},
   "outputs": [],
   "source": [
    "import datetime\n",
    "\n",
    "from util.util import importstr\n",
    "from util.logconf import logging\n",
    "log = logging.getLogger('nb')"
   ]
  },
  {
   "cell_type": "code",
   "execution_count": 2,
   "id": "d73a1d2a",
   "metadata": {},
   "outputs": [],
   "source": [
    "def run(app, *argv):\n",
    "    argv = list(argv)\n",
    "    argv.insert(0, '--num-workers=4') #此處假設 CPU 是 4 核心\n",
    "    log.info(\"Runnung: {}({!r}).main()\".format(app, argv))\n",
    "    \n",
    "    app_cls = importstr(*app.rsplit('.', 1)) #這是比 __import__ 更簡潔的呼叫方法\n",
    "    app_cls(argv).main()\n",
    "    \n",
    "    log.info(\"Finished: {}.({!r}).main()\".format(app, argv))"
   ]
  },
  {
   "cell_type": "code",
   "execution_count": 3,
   "id": "35ebb342",
   "metadata": {},
   "outputs": [],
   "source": [
    "import os\n",
    "import shutil\n",
    "\n",
    "# clean up any old data that might be around.\n",
    "# We don't call this by default because it's destructive, \n",
    "# and would waste a lot of time if it ran when nothing \n",
    "# on the application side had changed.\n",
    "def cleanCache():\n",
    "    shutil.rmtree('data-unversioned/cache')\n",
    "    os.mkdir('data-unversioned/cache')\n",
    "\n",
    "# cleanCache()"
   ]
  },
  {
   "cell_type": "code",
   "execution_count": 8,
   "id": "222a627a",
   "metadata": {},
   "outputs": [],
   "source": [
    "training_epochs = 11\n",
    "experiment_epochs = 10\n",
    "final_epochs = 50\n",
    "\n",
    "training_epochs = 2\n",
    "experiment_epochs = 2\n",
    "final_epochs = 5\n",
    "seg_epochs = 10"
   ]
  },
  {
   "cell_type": "code",
   "execution_count": 7,
   "id": "28430732",
   "metadata": {
    "scrolled": false
   },
   "outputs": [
    {
     "name": "stderr",
     "output_type": "stream",
     "text": [
      "2021-08-30 15:19:03,738 INFO     pid:17516 nb:004:run Runnung: precache.LunaPrepCacheApp(['--num-workers=4']).main()\n",
      "2021-08-30 15:19:04,668 INFO     pid:17516 precache:043:main Starting LunaPrepCacheApp, Namespace(batch_size=1024, num_workers=4)\n",
      "2021-08-30 15:19:07,859 INFO     pid:17516 dsets:296:__init__ <dsets.LunaDataset object at 0x00000180AEB97B70>: 495958 training samples, 494743 neg, 1215 pos, unbalanced ratio\n",
      "2021-08-30 15:19:07,859 WARNING  pid:17516 util.util:209:enumerateWithEstimate Stuffing cache ----/485, starting\n",
      "2021-08-30 15:19:40,864 INFO     pid:17516 util.util:229:enumerateWithEstimate Stuffing cache   16/485, done at 2021-08-30 15:30:45, 0:11:22\n",
      "2021-08-30 15:20:35,724 INFO     pid:17516 util.util:229:enumerateWithEstimate Stuffing cache   64/485, done at 2021-08-30 15:29:00, 0:09:38\n",
      "2021-08-30 15:24:09,337 INFO     pid:17516 util.util:229:enumerateWithEstimate Stuffing cache  256/485, done at 2021-08-30 15:28:27, 0:09:05\n",
      "2021-08-30 15:28:28,907 WARNING  pid:17516 util.util:240:enumerateWithEstimate Stuffing cache ----/485, done at 2021-08-30 15:28:28\n",
      "2021-08-30 15:28:28,918 INFO     pid:17516 nb:009:run Finished: precache.LunaPrepCacheApp.(['--num-workers=4']).main()\n"
     ]
    }
   ],
   "source": [
    "run('precache.LunaPrepCacheApp') #每章只需預備一次快取就行了"
   ]
  },
  {
   "cell_type": "code",
   "execution_count": 9,
   "id": "9ea70356",
   "metadata": {},
   "outputs": [
    {
     "name": "stderr",
     "output_type": "stream",
     "text": [
      "2021-08-30 15:28:36,618 INFO     pid:17516 nb:004:run Runnung: training.LunaTrainingApp(['--num-workers=4', '--epochs=1', 'unbalanced']).main()\n",
      "2021-08-30 15:28:37,318 INFO     pid:17516 training:130:initModel Using CUDA; 1 devices.\n",
      "2021-08-30 15:28:39,262 INFO     pid:17516 training:193:main Starting LunaTrainingApp, Namespace(augment_flip=False, augment_noise=False, augment_offset=False, augment_rotate=False, augment_scale=False, augmented=False, balanced=False, batch_size=32, comment='unbalanced', epochs=1, num_workers=4, tb_prefix='log')\n",
      "2021-08-30 15:28:39,638 INFO     pid:17516 dsets:296:__init__ <dsets.LunaDataset object at 0x00000180AEBA6208>: 495958 training samples, 494743 neg, 1215 pos, unbalanced ratio\n",
      "2021-08-30 15:28:39,689 INFO     pid:17516 dsets:296:__init__ <dsets.LunaDataset object at 0x00000180B5237828>: 55107 validation samples, 54971 neg, 136 pos, unbalanced ratio\n",
      "2021-08-30 15:28:39,690 INFO     pid:17516 training:206:main Epoch 1 of 1, 15499/1723 batches of size 32*1\n",
      "2021-08-30 15:28:39,695 WARNING  pid:17516 util.util:209:enumerateWithEstimate E1 Training ----/15499, starting\n",
      "2021-08-30 15:28:53,820 INFO     pid:17516 util.util:229:enumerateWithEstimate E1 Training   16/15499, done at 2021-08-30 15:34:40, 0:05:46\n",
      "2021-08-30 15:28:56,631 INFO     pid:17516 util.util:229:enumerateWithEstimate E1 Training   64/15499, done at 2021-08-30 15:42:01, 0:13:07\n",
      "2021-08-30 15:29:08,223 INFO     pid:17516 util.util:229:enumerateWithEstimate E1 Training  256/15499, done at 2021-08-30 15:43:53, 0:14:59\n",
      "2021-08-30 15:29:55,657 INFO     pid:17516 util.util:229:enumerateWithEstimate E1 Training 1024/15499, done at 2021-08-30 15:44:36, 0:15:42\n",
      "2021-08-30 15:33:10,922 INFO     pid:17516 util.util:229:enumerateWithEstimate E1 Training 4096/15499, done at 2021-08-30 15:45:07, 0:16:14\n",
      "2021-08-30 15:45:34,381 WARNING  pid:17516 util.util:240:enumerateWithEstimate E1 Training ----/15499, done at 2021-08-30 15:45:34\n",
      "2021-08-30 15:45:36,248 INFO     pid:17516 training:312:logMetrics E1 LunaTrainingApp\n",
      "2021-08-30 15:45:36,274 INFO     pid:17516 training:369:logMetrics E1 trn      nan loss,   1.2% correct, 0.0025 precision, 0.9942 recall, 0.0049 f1 score\n",
      "2021-08-30 15:45:36,275 INFO     pid:17516 training:382:logMetrics E1 trn_neg  nan loss,   1.0% correct (4791 of 494743)\n",
      "2021-08-30 15:45:36,275 INFO     pid:17516 training:395:logMetrics E1 trn_pos  nan loss,  99.4% correct (1208 of 1215)\n",
      "2021-08-30 15:45:36,302 WARNING  pid:17516 util.util:209:enumerateWithEstimate E1 Validation  ----/1723, starting\n",
      "2021-08-30 15:45:41,790 INFO     pid:17516 util.util:229:enumerateWithEstimate E1 Validation    16/1723, done at 2021-08-30 15:47:09, 0:01:28\n",
      "2021-08-30 15:45:43,538 INFO     pid:17516 util.util:229:enumerateWithEstimate E1 Validation    64/1723, done at 2021-08-30 15:46:49, 0:01:08\n",
      "2021-08-30 15:45:50,425 INFO     pid:17516 util.util:229:enumerateWithEstimate E1 Validation   256/1723, done at 2021-08-30 15:46:44, 0:01:03\n",
      "2021-08-30 15:46:18,299 INFO     pid:17516 util.util:229:enumerateWithEstimate E1 Validation  1024/1723, done at 2021-08-30 15:46:43, 0:01:02\n",
      "2021-08-30 15:46:43,545 WARNING  pid:17516 util.util:240:enumerateWithEstimate E1 Validation  ----/1723, done at 2021-08-30 15:46:43\n",
      "2021-08-30 15:46:43,545 INFO     pid:17516 training:312:logMetrics E1 LunaTrainingApp\n",
      "2021-08-30 15:46:43,547 INFO     pid:17516 training:369:logMetrics E1 val      nan loss,   0.2% correct, 0.0025 precision, 1.0000 recall, 0.0049 f1 score\n",
      "2021-08-30 15:46:43,547 INFO     pid:17516 training:382:logMetrics E1 val_neg  nan loss,   0.0% correct (0 of 54971)\n",
      "2021-08-30 15:46:43,548 INFO     pid:17516 training:395:logMetrics E1 val_pos  nan loss, 100.0% correct (136 of 136)\n",
      "2021-08-30 15:46:43,555 INFO     pid:17516 nb:009:run Finished: training.LunaTrainingApp.(['--num-workers=4', '--epochs=1', 'unbalanced']).main()\n"
     ]
    }
   ],
   "source": [
    "run('training.LunaTrainingApp', '--epochs=1', 'unbalanced')"
   ]
  },
  {
   "cell_type": "code",
   "execution_count": null,
   "id": "4ab60400",
   "metadata": {},
   "outputs": [
    {
     "name": "stderr",
     "output_type": "stream",
     "text": [
      "2021-08-30 15:46:43,565 INFO     pid:17516 nb:004:run Runnung: training.LunaTrainingApp(['--num-workers=4', '--epochs=2', '--balanced', 'balanced']).main()\n",
      "2021-08-30 15:46:43,571 INFO     pid:17516 training:130:initModel Using CUDA; 1 devices.\n",
      "2021-08-30 15:46:43,573 INFO     pid:17516 training:193:main Starting LunaTrainingApp, Namespace(augment_flip=False, augment_noise=False, augment_offset=False, augment_rotate=False, augment_scale=False, augmented=False, balanced=True, batch_size=32, comment='balanced', epochs=2, num_workers=4, tb_prefix='log')\n",
      "2021-08-30 15:46:44,004 INFO     pid:17516 dsets:296:__init__ <dsets.LunaDataset object at 0x00000180AE893BA8>: 495958 training samples, 494743 neg, 1215 pos, 1:1 ratio\n",
      "2021-08-30 15:46:44,054 INFO     pid:17516 dsets:296:__init__ <dsets.LunaDataset object at 0x00000180B8DC0780>: 55107 validation samples, 54971 neg, 136 pos, unbalanced ratio\n",
      "2021-08-30 15:46:44,054 INFO     pid:17516 training:206:main Epoch 1 of 2, 6250/1723 batches of size 32*1\n",
      "2021-08-30 15:46:44,055 WARNING  pid:17516 util.util:209:enumerateWithEstimate E1 Training ----/6250, starting\n",
      "2021-08-30 15:46:55,207 INFO     pid:17516 util.util:229:enumerateWithEstimate E1 Training   16/6250, done at 2021-08-30 15:52:07, 0:05:13\n",
      "2021-08-30 15:46:57,739 INFO     pid:17516 util.util:229:enumerateWithEstimate E1 Training   64/6250, done at 2021-08-30 15:52:20, 0:05:26\n",
      "2021-08-30 15:47:09,551 INFO     pid:17516 util.util:229:enumerateWithEstimate E1 Training  256/6250, done at 2021-08-30 15:53:04, 0:06:10\n",
      "2021-08-30 15:47:58,010 INFO     pid:17516 util.util:229:enumerateWithEstimate E1 Training 1024/6250, done at 2021-08-30 15:53:22, 0:06:28\n",
      "2021-08-30 15:51:15,975 INFO     pid:17516 util.util:229:enumerateWithEstimate E1 Training 4096/6250, done at 2021-08-30 15:53:33, 0:06:38\n",
      "2021-08-30 15:53:34,882 WARNING  pid:17516 util.util:240:enumerateWithEstimate E1 Training ----/6250, done at 2021-08-30 15:53:34\n",
      "2021-08-30 15:53:35,099 INFO     pid:17516 training:312:logMetrics E1 LunaTrainingApp\n",
      "2021-08-30 15:53:35,103 INFO     pid:17516 training:369:logMetrics E1 trn      0.3087 loss,  87.4% correct, 0.9072 precision, 0.8341 recall, 0.8691 f1 score\n",
      "2021-08-30 15:53:35,104 INFO     pid:17516 training:382:logMetrics E1 trn_neg  0.2791 loss,  91.5% correct (91469 of 100000)\n",
      "2021-08-30 15:53:35,104 INFO     pid:17516 training:395:logMetrics E1 trn_pos  0.3383 loss,  83.4% correct (83409 of 100000)\n",
      "2021-08-30 15:53:35,124 WARNING  pid:17516 util.util:209:enumerateWithEstimate E1 Validation  ----/1723, starting\n",
      "2021-08-30 15:53:40,392 INFO     pid:17516 util.util:229:enumerateWithEstimate E1 Validation    16/1723, done at 2021-08-30 15:55:03, 0:01:23\n",
      "2021-08-30 15:53:42,230 INFO     pid:17516 util.util:229:enumerateWithEstimate E1 Validation    64/1723, done at 2021-08-30 15:54:49, 0:01:09\n",
      "2021-08-30 15:53:49,333 INFO     pid:17516 util.util:229:enumerateWithEstimate E1 Validation   256/1723, done at 2021-08-30 15:54:44, 0:01:05\n",
      "2021-08-30 15:54:17,384 INFO     pid:17516 util.util:229:enumerateWithEstimate E1 Validation  1024/1723, done at 2021-08-30 15:54:43, 0:01:03\n",
      "2021-08-30 15:54:42,683 WARNING  pid:17516 util.util:240:enumerateWithEstimate E1 Validation  ----/1723, done at 2021-08-30 15:54:42\n",
      "2021-08-30 15:54:42,685 INFO     pid:17516 training:312:logMetrics E1 LunaTrainingApp\n",
      "2021-08-30 15:54:42,687 INFO     pid:17516 training:369:logMetrics E1 val      0.2047 loss,  94.6% correct, 0.0349 precision, 0.7794 recall, 0.0667 f1 score\n",
      "2021-08-30 15:54:42,687 INFO     pid:17516 training:382:logMetrics E1 val_neg  0.2039 loss,  94.7% correct (52036 of 54971)\n",
      "2021-08-30 15:54:42,688 INFO     pid:17516 training:395:logMetrics E1 val_pos  0.5248 loss,  77.9% correct (106 of 136)\n",
      "2021-08-30 15:54:42,696 INFO     pid:17516 training:206:main Epoch 2 of 2, 6250/1723 batches of size 32*1\n",
      "2021-08-30 15:54:42,697 WARNING  pid:17516 util.util:209:enumerateWithEstimate E2 Training ----/6250, starting\n",
      "2021-08-30 15:54:53,671 INFO     pid:17516 util.util:229:enumerateWithEstimate E2 Training   16/6250, done at 2021-08-30 15:58:45, 0:03:52\n",
      "2021-08-30 15:54:56,352 INFO     pid:17516 util.util:229:enumerateWithEstimate E2 Training   64/6250, done at 2021-08-30 16:00:17, 0:05:24\n",
      "2021-08-30 15:55:08,174 INFO     pid:17516 util.util:229:enumerateWithEstimate E2 Training  256/6250, done at 2021-08-30 16:01:03, 0:06:10\n"
     ]
    }
   ],
   "source": [
    "run('training.LunaTrainingApp', f'--epochs={training_epochs}', '--balanced', 'balanced')"
   ]
  },
  {
   "cell_type": "code",
   "execution_count": null,
   "id": "7b111157",
   "metadata": {},
   "outputs": [],
   "source": [
    "run('training.LunaTrainingApp', f'--epochs={experiment_epochs}', '--balanced', '--augment-flip', 'flip')"
   ]
  },
  {
   "cell_type": "code",
   "execution_count": null,
   "id": "756b5ea4",
   "metadata": {},
   "outputs": [],
   "source": [
    "run('training.LunaTrainingApp', f'--epochs={experiment_epochs}', '--balanced', '--augment-offset', 'offset')"
   ]
  },
  {
   "cell_type": "code",
   "execution_count": null,
   "id": "8e562cbf",
   "metadata": {},
   "outputs": [],
   "source": [
    "run('.training.LunaTrainingApp', f'--epochs={experiment_epochs}', '--balanced', '--augment-scale', 'scale')"
   ]
  },
  {
   "cell_type": "code",
   "execution_count": null,
   "id": "84bf6ea7",
   "metadata": {},
   "outputs": [],
   "source": [
    "run('training.LunaTrainingApp', f'--epochs={experiment_epochs}', '--balanced', '--augment-rotate', 'rotate')"
   ]
  },
  {
   "cell_type": "code",
   "execution_count": null,
   "id": "bb0aebb6",
   "metadata": {},
   "outputs": [],
   "source": [
    "run('training.LunaTrainingApp', f'--epochs={experiment_epochs}', '--balanced', '--augment-noise', 'noise')"
   ]
  },
  {
   "cell_type": "code",
   "execution_count": null,
   "id": "fb08fb0f",
   "metadata": {},
   "outputs": [],
   "source": [
    "run('training.LunaTrainingApp', f'--epochs={training_epochs}', '--balanced', '--augmented', 'fully-augmented')"
   ]
  }
 ],
 "metadata": {
  "kernelspec": {
   "display_name": "Python 3",
   "language": "python",
   "name": "python3"
  },
  "language_info": {
   "codemirror_mode": {
    "name": "ipython",
    "version": 3
   },
   "file_extension": ".py",
   "mimetype": "text/x-python",
   "name": "python",
   "nbconvert_exporter": "python",
   "pygments_lexer": "ipython3",
   "version": "3.6.8"
  }
 },
 "nbformat": 4,
 "nbformat_minor": 5
}
