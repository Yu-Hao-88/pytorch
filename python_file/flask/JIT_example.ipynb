{
 "cells": [
  {
   "cell_type": "code",
   "execution_count": 1,
   "id": "6231fac4",
   "metadata": {},
   "outputs": [],
   "source": [
    "import torch\n",
    "import re\n",
    "def xprint(s):\n",
    "    s = str(s)\n",
    "    s = re.sub(' *#.*','',s)\n",
    "    print(s)"
   ]
  },
  {
   "cell_type": "code",
   "execution_count": 2,
   "id": "5354b2ee",
   "metadata": {},
   "outputs": [],
   "source": [
    "def myfn(x):\n",
    "    y = x[0]\n",
    "    for i in range(1, x.size(0)):\n",
    "        y = y + x[i]\n",
    "    return y"
   ]
  },
  {
   "cell_type": "code",
   "execution_count": 3,
   "id": "b95ee4fe",
   "metadata": {},
   "outputs": [
    {
     "name": "stdout",
     "output_type": "stream",
     "text": [
      "def myfn(x: Tensor) -> Tensor:\n",
      "  y = torch.select(x, 0, 0)\n",
      "  y0 = torch.add(y, torch.select(x, 0, 1))\n",
      "  y1 = torch.add(y0, torch.select(x, 0, 2))\n",
      "  y2 = torch.add(y1, torch.select(x, 0, 3))\n",
      "  return torch.add(y2, torch.select(x, 0, 4))\n",
      "\n"
     ]
    }
   ],
   "source": [
    "#追蹤法\n",
    "inp = torch.randn(5,5)\n",
    "traced_fn = torch.jit.trace(myfn, inp)\n",
    "print(traced_fn.code) #迴圈被固定為 4 次了"
   ]
  },
  {
   "cell_type": "code",
   "execution_count": 4,
   "id": "1c335494",
   "metadata": {},
   "outputs": [
    {
     "name": "stdout",
     "output_type": "stream",
     "text": [
      "def myfn(x: Tensor) -> Tensor:\n",
      "  y = torch.select(x, 0, 0)\n",
      "  _0 = torch.__range_length(1, torch.size(x, 0), 1)\n",
      "  y0 = y\n",
      "  for _1 in range(_0):\n",
      "    i = torch.__derive_index(_1, 1, 1)\n",
      "    y1 = torch.add(y0, torch.select(x, 0, i))\n",
      "    y0 = y1\n",
      "  return y0\n",
      "\n"
     ]
    }
   ],
   "source": [
    "#抄寫法\n",
    "scripted_fn = torch.jit.script(myfn)\n",
    "print(scripted_fn.code)"
   ]
  },
  {
   "cell_type": "code",
   "execution_count": 5,
   "id": "f9c128dd",
   "metadata": {},
   "outputs": [
    {
     "name": "stdout",
     "output_type": "stream",
     "text": [
      "graph(%x.1 : Tensor):\n",
      "  %10 : bool = prim::Constant[value=1]()\n",
      "  %2 : int = prim::Constant[value=0]()\n",
      "  %5 : int = prim::Constant[value=1]()\n",
      "  %y.1 : Tensor = aten::select(%x.1, %2, %2)\n",
      "  %7 : int = aten::size(%x.1, %2)\n",
      "  %9 : int = aten::__range_length(%5, %7, %5)\n",
      "  %y : Tensor = prim::Loop(%9, %10, %y.1)\n",
      "    block0(%11 : int, %y.11 : Tensor):\n",
      "      %i.1 : int = aten::__derive_index(%11, %5, %5)\n",
      "      %19 : Tensor = aten::select(%x.1, %2, %i.1)\n",
      "      %y.5 : Tensor = aten::add(%y.11, %19, %5)\n",
      "      -> (%10, %y.5)\n",
      "  return (%y)\n",
      "\n"
     ]
    }
   ],
   "source": [
    "xprint(scripted_fn.graph)"
   ]
  }
 ],
 "metadata": {
  "kernelspec": {
   "display_name": "Python 3",
   "language": "python",
   "name": "python3"
  },
  "language_info": {
   "codemirror_mode": {
    "name": "ipython",
    "version": 3
   },
   "file_extension": ".py",
   "mimetype": "text/x-python",
   "name": "python",
   "nbconvert_exporter": "python",
   "pygments_lexer": "ipython3",
   "version": "3.6.8"
  }
 },
 "nbformat": 4,
 "nbformat_minor": 5
}
