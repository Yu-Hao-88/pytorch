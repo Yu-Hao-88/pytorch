{
 "cells": [
  {
   "cell_type": "code",
   "execution_count": 1,
   "id": "dfd7e9c6",
   "metadata": {
    "scrolled": true
   },
   "outputs": [
    {
     "name": "stdout",
     "output_type": "stream",
     "text": [
      "Files already downloaded and verified\n",
      "Files already downloaded and verified\n"
     ]
    }
   ],
   "source": [
    "from torchvision import datasets\n",
    "\n",
    "data_path = '../data/p1ch7' #下載存放路徑\n",
    "cifar10 = datasets.CIFAR10(data_path, train=True, download=True)#產生訓練資料集物件(若資料未曾被下載至本機，TorchVision 便會進行下載)\n",
    "cifar10_val = datasets.CIFAR10(data_path, train=False, download=True) #當指定 Train=False 會下載驗證資料集"
   ]
  },
  {
   "cell_type": "code",
   "execution_count": 2,
   "id": "812fcf44",
   "metadata": {
    "scrolled": true
   },
   "outputs": [
    {
     "data": {
      "text/plain": [
       "(torchvision.datasets.cifar.CIFAR10,\n",
       " torchvision.datasets.vision.VisionDataset,\n",
       " torch.utils.data.dataset.Dataset,\n",
       " typing.Generic,\n",
       " object)"
      ]
     },
     "execution_count": 2,
     "metadata": {},
     "output_type": "execute_result"
    }
   ],
   "source": [
    "type(cifar10).__mro__  #先用 type() 取得所屬類別，再用 __mro__取得類別的繼承順序"
   ]
  },
  {
   "cell_type": "code",
   "execution_count": 3,
   "id": "d568571e",
   "metadata": {},
   "outputs": [
    {
     "data": {
      "text/plain": [
       "50000"
      ]
     },
     "execution_count": 3,
     "metadata": {},
     "output_type": "execute_result"
    }
   ],
   "source": [
    "len(cifar10)"
   ]
  },
  {
   "cell_type": "code",
   "execution_count": 4,
   "id": "126ef5dc",
   "metadata": {},
   "outputs": [
    {
     "data": {
      "text/plain": [
       "(<PIL.Image.Image image mode=RGB size=32x32 at 0x21EA0D73278>, 1, 'automobile')"
      ]
     },
     "execution_count": 4,
     "metadata": {},
     "output_type": "execute_result"
    }
   ],
   "source": [
    "#建立一個 class_names 的字典\n",
    "class_names = ['airplane', 'automobile', 'bird', 'cat', 'deer', 'dog', 'frog', 'horse', 'ship', 'truck']\n",
    "img, label = cifar10[99] #存取 cifar10 資料集中索引為 99 的項目\n",
    "img, label, class_names[label]\n",
    "#RGB 圖\n",
    "#圖片大小 32x32\n",
    "#類別索引 1\n",
    "#索引對應的類別 automobile"
   ]
  },
  {
   "cell_type": "code",
   "execution_count": 5,
   "id": "c2fb5714",
   "metadata": {},
   "outputs": [
    {
     "data": {
      "image/png": "[encoded data removed]",
      "text/plain": [
       "<Figure size 432x288 with 1 Axes>"
      ]
     },
     "metadata": {
      "needs_background": "light"
     },
     "output_type": "display_data"
    }
   ],
   "source": [
    "from matplotlib import pyplot as plt\n",
    "\n",
    "plt.imshow(img)\n",
    "plt.show()"
   ]
  },
  {
   "cell_type": "code",
   "execution_count": 6,
   "id": "3b25bde1",
   "metadata": {},
   "outputs": [
    {
     "data": {
      "text/plain": [
       "['AutoAugment',\n",
       " 'AutoAugmentPolicy',\n",
       " 'CenterCrop',\n",
       " 'ColorJitter',\n",
       " 'Compose',\n",
       " 'ConvertImageDtype',\n",
       " 'FiveCrop',\n",
       " 'GaussianBlur',\n",
       " 'Grayscale',\n",
       " 'InterpolationMode',\n",
       " 'Lambda',\n",
       " 'LinearTransformation',\n",
       " 'Normalize',\n",
       " 'PILToTensor',\n",
       " 'Pad',\n",
       " 'RandomAdjustSharpness',\n",
       " 'RandomAffine',\n",
       " 'RandomApply',\n",
       " 'RandomAutocontrast',\n",
       " 'RandomChoice',\n",
       " 'RandomCrop',\n",
       " 'RandomEqualize',\n",
       " 'RandomErasing',\n",
       " 'RandomGrayscale',\n",
       " 'RandomHorizontalFlip',\n",
       " 'RandomInvert',\n",
       " 'RandomOrder',\n",
       " 'RandomPerspective',\n",
       " 'RandomPosterize',\n",
       " 'RandomResizedCrop',\n",
       " 'RandomRotation',\n",
       " 'RandomSizedCrop',\n",
       " 'RandomSolarize',\n",
       " 'RandomVerticalFlip',\n",
       " 'Resize',\n",
       " 'Scale',\n",
       " 'TenCrop',\n",
       " 'ToPILImage',\n",
       " 'ToTensor',\n",
       " '__builtins__',\n",
       " '__cached__',\n",
       " '__doc__',\n",
       " '__file__',\n",
       " '__loader__',\n",
       " '__name__',\n",
       " '__package__',\n",
       " '__path__',\n",
       " '__spec__',\n",
       " 'autoaugment',\n",
       " 'functional',\n",
       " 'functional_pil',\n",
       " 'functional_tensor',\n",
       " 'transforms']"
      ]
     },
     "execution_count": 6,
     "metadata": {},
     "output_type": "execute_result"
    }
   ],
   "source": [
    "from torchvision import transforms\n",
    "dir(transforms)"
   ]
  },
  {
   "cell_type": "code",
   "execution_count": 7,
   "id": "ffce77fd",
   "metadata": {},
   "outputs": [
    {
     "data": {
      "text/plain": [
       "torch.Size([3, 32, 32])"
      ]
     },
     "execution_count": 7,
     "metadata": {},
     "output_type": "execute_result"
    }
   ],
   "source": [
    "to_tensor = transforms.ToTensor()\n",
    "img_t = to_tensor(img)\n",
    "img_t.shape #印出轉換出來的張量 shape C x H x W"
   ]
  },
  {
   "cell_type": "code",
   "execution_count": 8,
   "id": "d517d1bf",
   "metadata": {},
   "outputs": [
    {
     "name": "stdout",
     "output_type": "stream",
     "text": [
      "Files already downloaded and verified\n"
     ]
    }
   ],
   "source": [
    "#將 ToTensor() 當成輸入參數\n",
    "tensor_cifar10 = datasets.CIFAR10(data_path, train=True, download=True, transform=transforms.ToTensor())"
   ]
  },
  {
   "cell_type": "code",
   "execution_count": 9,
   "id": "e59334a2",
   "metadata": {},
   "outputs": [
    {
     "data": {
      "text/plain": [
       "torch.Tensor"
      ]
     },
     "execution_count": 9,
     "metadata": {},
     "output_type": "execute_result"
    }
   ],
   "source": [
    "img_t, _ = tensor_cifar10[99] #將 tensor_cifar10 中索引為 99 的項目存入 img_t\n",
    "type(img_t) #輸出 img_t 的資料類型"
   ]
  },
  {
   "cell_type": "code",
   "execution_count": 10,
   "id": "22b8d817",
   "metadata": {},
   "outputs": [
    {
     "data": {
      "text/plain": [
       "(torch.Size([3, 32, 32]), torch.float32)"
      ]
     },
     "execution_count": 10,
     "metadata": {},
     "output_type": "execute_result"
    }
   ],
   "source": [
    "img_t.shape, img_t.dtype"
   ]
  },
  {
   "cell_type": "code",
   "execution_count": 11,
   "id": "384ceab6",
   "metadata": {},
   "outputs": [
    {
     "data": {
      "text/plain": [
       "(tensor(0.), tensor(1.))"
      ]
     },
     "execution_count": 11,
     "metadata": {},
     "output_type": "execute_result"
    }
   ],
   "source": [
    "img_t.min(), img_t.max() #輸出 img_t 的最小值及最大值\n",
    "#原始 PIL 圖片中，各像素質的範圍在 0~255 之間，經過 ToTensor 轉換後這些值會變成 32位元浮點數，範圍在 0.0~1.0 之間"
   ]
  },
  {
   "cell_type": "code",
   "execution_count": 12,
   "id": "d1560ba5",
   "metadata": {},
   "outputs": [
    {
     "data": {
      "image/png": "[encoded data removed]",
      "text/plain": [
       "<Figure size 432x288 with 1 Axes>"
      ]
     },
     "metadata": {
      "needs_background": "light"
     },
     "output_type": "display_data"
    }
   ],
   "source": [
    "#確認張量代表的圖片和之前相同\n",
    "plt.imshow(img_t.permute(1, 2, 0)) #將張量的 shape 從 C x H x W 改為 H x W x C，以符合 Matplotlib 的要求\n",
    "plt.show()"
   ]
  },
  {
   "cell_type": "code",
   "execution_count": 13,
   "id": "48b35efd",
   "metadata": {},
   "outputs": [
    {
     "data": {
      "text/plain": [
       "torch.Size([3, 32, 32, 50000])"
      ]
     },
     "execution_count": 13,
     "metadata": {},
     "output_type": "execute_result"
    }
   ],
   "source": [
    "import torch\n",
    "\n",
    "#將所有圖片堆疊至一個額外的軸上，方便計算平均值和標準差\n",
    "imgs = torch.stack([img_t for img_t, _ in tensor_cifar10], dim=3) #堆疊至第 3 軸\n",
    "imgs.shape"
   ]
  },
  {
   "cell_type": "code",
   "execution_count": 14,
   "id": "1b8bb0f8",
   "metadata": {
    "scrolled": false
   },
   "outputs": [
    {
     "data": {
      "text/plain": [
       "tensor([0.4914, 0.4822, 0.4465])"
      ]
     },
     "execution_count": 14,
     "metadata": {},
     "output_type": "execute_result"
    }
   ],
   "source": [
    "#計算每個通道的平均值\n",
    "mean = imgs.view(3, -1).mean(dim=1)\n",
    "mean\n",
    "#view(3, -1)會指定保留第 0 軸(通道軸)，其餘軸的維度則合併在第 1 軸\n",
    "#因此 原本為 3x32x32x50000 -> 3x51200000\n",
    "#接著就可以沿著第 1 軸計算各個通道中元素的平均值"
   ]
  },
  {
   "cell_type": "code",
   "execution_count": 15,
   "id": "4a1bd9ea",
   "metadata": {},
   "outputs": [
    {
     "data": {
      "text/plain": [
       "tensor([0.2470, 0.2435, 0.2616])"
      ]
     },
     "execution_count": 15,
     "metadata": {},
     "output_type": "execute_result"
    }
   ],
   "source": [
    "#計算每個通道的標準差\n",
    "std = imgs.view(3, -1).std(dim=1)\n",
    "std"
   ]
  },
  {
   "cell_type": "code",
   "execution_count": 16,
   "id": "9a48d05f",
   "metadata": {},
   "outputs": [
    {
     "data": {
      "text/plain": [
       "Dataset CIFAR10\n",
       "    Number of datapoints: 10000\n",
       "    Root location: ../data/p1ch7\n",
       "    Split: Test\n",
       "    StandardTransform\n",
       "Transform: Compose(\n",
       "               ToTensor()\n",
       "               Normalize(mean=(0.4913996458053589, 0.48215845227241516, 0.44653093814849854), std=(0.24703224003314972, 0.24348513782024384, 0.26158785820007324))\n",
       "           )"
      ]
     },
     "execution_count": 16,
     "metadata": {},
     "output_type": "execute_result"
    }
   ],
   "source": [
    "transformed_cifar10 = datasets.CIFAR10( #對訓練資料集進行正規化\n",
    "    data_path, train=True, download=False,\n",
    "    transform=transforms.Compose([\n",
    "        transforms.ToTensor(),\n",
    "        transforms.Normalize(tuple(mean.tolist()), #個通道的平均值 (0.4914, 0.4822, 0.4465)\n",
    "                             tuple(std.tolist())) #個通道的標準差 (0.2470, 0.2435, 0.2616)\n",
    "    ]))\n",
    "\n",
    "cifar10_val = datasets.CIFAR10( #對驗證資料集進行正規化\n",
    "    data_path, train=False, download=False,\n",
    "    transform=transforms.Compose([\n",
    "        transforms.ToTensor(),\n",
    "        transforms.Normalize(tuple(mean.tolist()), #驗證集必須使用和訓練集相同的平均值及標準差來正規化\n",
    "                             tuple(std.tolist()))\n",
    "    ]))\n",
    "cifar10_val"
   ]
  },
  {
   "cell_type": "code",
   "execution_count": 17,
   "id": "0d635e17",
   "metadata": {},
   "outputs": [
    {
     "name": "stderr",
     "output_type": "stream",
     "text": [
      "Clipping input data to the valid range for imshow with RGB data ([0..1] for floats or [0..255] for integers).\n"
     ]
    },
    {
     "data": {
      "image/png": "[encoded data removed]",
      "text/plain": [
       "<Figure size 432x288 with 1 Axes>"
      ]
     },
     "metadata": {
      "needs_background": "light"
     },
     "output_type": "display_data"
    }
   ],
   "source": [
    "img_t, _ = transformed_cifar10[99]\n",
    "plt.imshow(img_t.permute(1, 2, 0))\n",
    "plt.show()\n",
    "\n",
    "#某些 RGB 值會因為正規化而超出 0.0~1.0 的範圍，進而改變整個通道的數值量級，Matplotlib 會北超出範圍的像素以黑色表示"
   ]
  },
  {
   "cell_type": "code",
   "execution_count": 18,
   "id": "790ae577",
   "metadata": {},
   "outputs": [],
   "source": [
    "#7.2 區分鳥和飛機\n",
    "label_map = {0: 0, 2: 1} #將飛機的類別標籤對應到 0 (原本為 0)；將小鳥的標籤對應到 1 (原本為 2)\n",
    "class_name = ['airplane', 'bird']\n",
    "cifar2 = [(img, label_map[label])  #取出原有訓練資料集中，飛機及小鳥的圖片\n",
    "           for img, label in transformed_cifar10\n",
    "           if label in [0, 2]]\n",
    "cifar2_val = [(img, label_map[label]) #取出原有驗證資料集中，飛機及小鳥的圖片\n",
    "               for img, label in cifar10_val\n",
    "               if label in [0, 2]]\n"
   ]
  },
  {
   "cell_type": "code",
   "execution_count": 19,
   "id": "eed307cf",
   "metadata": {},
   "outputs": [],
   "source": [
    "import torch.nn as nn\n",
    "\n",
    "n_out = 2\n",
    "#一張圖片的 shape 為 32x32x5 = 3072\n",
    "model = nn.Sequential( \n",
    "    nn.Linear(3072, 512), #(輸入特徵數, 隱藏層大小(輸出特徵數))\n",
    "    nn.Tanh(),\n",
    "    nn.Linear(512, n_out) #(上一層隱藏層的大小(輸入特徵數), 輸出特徵數(類別數量))\n",
    ")"
   ]
  },
  {
   "cell_type": "code",
   "execution_count": 20,
   "id": "9c25688e",
   "metadata": {},
   "outputs": [],
   "source": [
    "#softmax 介紹\n",
    "def softmax(x):\n",
    "    return torch.exp(x) / torch.exp(x).sum() #使用 exp() 可將輸入元素指數化"
   ]
  },
  {
   "cell_type": "code",
   "execution_count": 21,
   "id": "b3c2dea9",
   "metadata": {},
   "outputs": [
    {
     "data": {
      "text/plain": [
       "tensor([0.0900, 0.2447, 0.6652])"
      ]
     },
     "execution_count": 21,
     "metadata": {},
     "output_type": "execute_result"
    }
   ],
   "source": [
    "x = torch.tensor([1.0, 2.0, 3.0])\n",
    "softmax(x)"
   ]
  },
  {
   "cell_type": "code",
   "execution_count": 22,
   "id": "89b8bb65",
   "metadata": {},
   "outputs": [
    {
     "data": {
      "text/plain": [
       "tensor(1.)"
      ]
     },
     "execution_count": 22,
     "metadata": {},
     "output_type": "execute_result"
    }
   ],
   "source": [
    "softmax(x).sum()"
   ]
  },
  {
   "cell_type": "code",
   "execution_count": 23,
   "id": "fbceac63",
   "metadata": {},
   "outputs": [
    {
     "data": {
      "text/plain": [
       "tensor([[0.0900, 0.2447, 0.6652],\n",
       "        [0.0900, 0.2447, 0.6652]])"
      ]
     },
     "execution_count": 23,
     "metadata": {},
     "output_type": "execute_result"
    }
   ],
   "source": [
    "softmax = nn.Softmax(dim=1) #將 softmax 函數套用在第 1 軸(沿著同一列不同行)\n",
    "x = torch.tensor([[1.0, 2.0, 3.0],\n",
    "                  [1.0, 2.0, 3.0]])\n",
    "softmax(x)"
   ]
  },
  {
   "cell_type": "code",
   "execution_count": 24,
   "id": "fa4b3471",
   "metadata": {},
   "outputs": [],
   "source": [
    "model = nn.Sequential( \n",
    "    nn.Linear(3072, 512), #(輸入特徵數, 隱藏層大小(輸出特徵數))\n",
    "    nn.Tanh(),\n",
    "    nn.Linear(512, n_out), #(上一層隱藏層的大小(輸入特徵數), 輸出特徵數(類別數量))\n",
    "    nn.Softmax(dim=1)\n",
    ")"
   ]
  },
  {
   "cell_type": "code",
   "execution_count": 25,
   "id": "a58addcf",
   "metadata": {},
   "outputs": [
    {
     "name": "stderr",
     "output_type": "stream",
     "text": [
      "Clipping input data to the valid range for imshow with RGB data ([0..1] for floats or [0..255] for integers).\n"
     ]
    },
    {
     "data": {
      "image/png": "[encoded data removed]",
      "text/plain": [
       "<Figure size 432x288 with 1 Axes>"
      ]
     },
     "metadata": {
      "needs_background": "light"
     },
     "output_type": "display_data"
    }
   ],
   "source": [
    "#取出一個鳥類的圖片\n",
    "img, label = cifar2[0] #取出 cifar2 中索引為 0 的圖片\n",
    "plt.imshow(img.permute(1, 2, 0))\n",
    "plt.show()"
   ]
  },
  {
   "cell_type": "code",
   "execution_count": 26,
   "id": "b303592e",
   "metadata": {},
   "outputs": [],
   "source": [
    "img_batch = img.view(-1).unsqueeze(0) #轉為 1D 張量，並在第 0 軸加入一個軸(批次軸)"
   ]
  },
  {
   "cell_type": "code",
   "execution_count": 34,
   "id": "1803ab33",
   "metadata": {},
   "outputs": [
    {
     "data": {
      "text/plain": [
       "torch.Size([1, 3072])"
      ]
     },
     "execution_count": 34,
     "metadata": {},
     "output_type": "execute_result"
    }
   ],
   "source": [
    "img_batch.shape"
   ]
  },
  {
   "cell_type": "code",
   "execution_count": 28,
   "id": "7d7c8076",
   "metadata": {},
   "outputs": [
    {
     "data": {
      "text/plain": [
       "tensor([[0.5797, 0.4203]], grad_fn=<SoftmaxBackward>)"
      ]
     },
     "execution_count": 28,
     "metadata": {},
     "output_type": "execute_result"
    }
   ],
   "source": [
    "out = model(img_batch)\n",
    "out\n",
    "#(飛機的機率, 小鳥的機率)"
   ]
  },
  {
   "cell_type": "code",
   "execution_count": 29,
   "id": "ddc20b62",
   "metadata": {},
   "outputs": [
    {
     "data": {
      "text/plain": [
       "tensor([0])"
      ]
     },
     "execution_count": 29,
     "metadata": {},
     "output_type": "execute_result"
    }
   ],
   "source": [
    "_, index = torch.max(out, dim=1)\n",
    "index #代筆索引為 0 的類別有較高的機率值"
   ]
  },
  {
   "cell_type": "code",
   "execution_count": 30,
   "id": "bb49ba8e",
   "metadata": {},
   "outputs": [],
   "source": [
    "#當機率值趨近於 0 時，機率的對數運算並不容易\n",
    "#故用 nn.LogSoftmax 取代 nn.Softmax\n",
    "model = nn.Sequential(nn.Linear(3072, 512),\n",
    "                      nn.Tanh(),\n",
    "                      nn.Linear(512, 2),\n",
    "                      nn.LogSoftmax(dim=1))"
   ]
  },
  {
   "cell_type": "code",
   "execution_count": 31,
   "id": "acbe9043",
   "metadata": {},
   "outputs": [],
   "source": [
    "#使用 NLL 當作 loss function 的原因可以看 readme '分類任務的損失'\n",
    "loss = nn.NLLLoss()"
   ]
  },
  {
   "cell_type": "code",
   "execution_count": 32,
   "id": "cc205395",
   "metadata": {},
   "outputs": [
    {
     "data": {
      "text/plain": [
       "tensor(0.5716, grad_fn=<NllLossBackward>)"
      ]
     },
     "execution_count": 32,
     "metadata": {},
     "output_type": "execute_result"
    }
   ],
   "source": [
    "out = model(img.view(-1).unsqueeze(0))\n",
    "loss(out, torch.tensor([label])) #(模型的輸出(模型預測的類別), 標籤張量(實際的類別))\n",
    "#該張圖片的 loss"
   ]
  },
  {
   "cell_type": "code",
   "execution_count": 33,
   "id": "4d103794",
   "metadata": {},
   "outputs": [
    {
     "name": "stdout",
     "output_type": "stream",
     "text": [
      "Epoch: 1, Loss: 4.902446\n"
     ]
    },
    {
     "ename": "KeyboardInterrupt",
     "evalue": "",
     "output_type": "error",
     "traceback": [
      "\u001b[1;31m---------------------------------------------------------------------------\u001b[0m",
      "\u001b[1;31mKeyboardInterrupt\u001b[0m                         Traceback (most recent call last)",
      "\u001b[1;32m<ipython-input-33-66289ec2169b>\u001b[0m in \u001b[0;36m<module>\u001b[1;34m\u001b[0m\n\u001b[0;32m     16\u001b[0m         \u001b[0mout\u001b[0m \u001b[1;33m=\u001b[0m \u001b[0mmodel\u001b[0m\u001b[1;33m(\u001b[0m\u001b[0mimg\u001b[0m\u001b[1;33m.\u001b[0m\u001b[0mview\u001b[0m\u001b[1;33m(\u001b[0m\u001b[1;33m-\u001b[0m\u001b[1;36m1\u001b[0m\u001b[1;33m)\u001b[0m\u001b[1;33m.\u001b[0m\u001b[0munsqueeze\u001b[0m\u001b[1;33m(\u001b[0m\u001b[1;36m0\u001b[0m\u001b[1;33m)\u001b[0m\u001b[1;33m.\u001b[0m\u001b[0mcuda\u001b[0m\u001b[1;33m(\u001b[0m\u001b[1;33m)\u001b[0m\u001b[1;33m)\u001b[0m\u001b[1;33m\u001b[0m\u001b[1;33m\u001b[0m\u001b[0m\n\u001b[0;32m     17\u001b[0m         \u001b[0mloss\u001b[0m \u001b[1;33m=\u001b[0m \u001b[0mloss_fn\u001b[0m\u001b[1;33m(\u001b[0m\u001b[0mout\u001b[0m\u001b[1;33m,\u001b[0m \u001b[0mtorch\u001b[0m\u001b[1;33m.\u001b[0m\u001b[0mtensor\u001b[0m\u001b[1;33m(\u001b[0m\u001b[1;33m[\u001b[0m\u001b[0mlabel\u001b[0m\u001b[1;33m]\u001b[0m\u001b[1;33m)\u001b[0m\u001b[1;33m.\u001b[0m\u001b[0mcuda\u001b[0m\u001b[1;33m(\u001b[0m\u001b[1;33m)\u001b[0m\u001b[1;33m)\u001b[0m\u001b[1;33m\u001b[0m\u001b[1;33m\u001b[0m\u001b[0m\n\u001b[1;32m---> 18\u001b[1;33m         \u001b[0moptimizer\u001b[0m\u001b[1;33m.\u001b[0m\u001b[0mzero_grad\u001b[0m\u001b[1;33m(\u001b[0m\u001b[1;33m)\u001b[0m\u001b[1;33m\u001b[0m\u001b[1;33m\u001b[0m\u001b[0m\n\u001b[0m\u001b[0;32m     19\u001b[0m         \u001b[0mloss\u001b[0m\u001b[1;33m.\u001b[0m\u001b[0mbackward\u001b[0m\u001b[1;33m(\u001b[0m\u001b[1;33m)\u001b[0m\u001b[1;33m\u001b[0m\u001b[1;33m\u001b[0m\u001b[0m\n\u001b[0;32m     20\u001b[0m         \u001b[0moptimizer\u001b[0m\u001b[1;33m.\u001b[0m\u001b[0mstep\u001b[0m\u001b[1;33m(\u001b[0m\u001b[1;33m)\u001b[0m\u001b[1;33m\u001b[0m\u001b[1;33m\u001b[0m\u001b[0m\n",
      "\u001b[1;32md:\\anaconda\\envs\\pytorch\\lib\\site-packages\\torch\\optim\\optimizer.py\u001b[0m in \u001b[0;36mzero_grad\u001b[1;34m(self, set_to_none)\u001b[0m\n\u001b[0;32m    214\u001b[0m                             \u001b[1;32melse\u001b[0m\u001b[1;33m:\u001b[0m\u001b[1;33m\u001b[0m\u001b[1;33m\u001b[0m\u001b[0m\n\u001b[0;32m    215\u001b[0m                                 \u001b[0mp\u001b[0m\u001b[1;33m.\u001b[0m\u001b[0mgrad\u001b[0m\u001b[1;33m.\u001b[0m\u001b[0mrequires_grad_\u001b[0m\u001b[1;33m(\u001b[0m\u001b[1;32mFalse\u001b[0m\u001b[1;33m)\u001b[0m\u001b[1;33m\u001b[0m\u001b[1;33m\u001b[0m\u001b[0m\n\u001b[1;32m--> 216\u001b[1;33m                             \u001b[0mp\u001b[0m\u001b[1;33m.\u001b[0m\u001b[0mgrad\u001b[0m\u001b[1;33m.\u001b[0m\u001b[0mzero_\u001b[0m\u001b[1;33m(\u001b[0m\u001b[1;33m)\u001b[0m\u001b[1;33m\u001b[0m\u001b[1;33m\u001b[0m\u001b[0m\n\u001b[0m\u001b[0;32m    217\u001b[0m \u001b[1;33m\u001b[0m\u001b[0m\n\u001b[0;32m    218\u001b[0m     \u001b[1;32mdef\u001b[0m \u001b[0mstep\u001b[0m\u001b[1;33m(\u001b[0m\u001b[0mself\u001b[0m\u001b[1;33m,\u001b[0m \u001b[0mclosure\u001b[0m\u001b[1;33m)\u001b[0m\u001b[1;33m:\u001b[0m\u001b[1;33m\u001b[0m\u001b[1;33m\u001b[0m\u001b[0m\n",
      "\u001b[1;31mKeyboardInterrupt\u001b[0m: "
     ]
    }
   ],
   "source": [
    "import torch\n",
    "import torch.nn as nn\n",
    "\n",
    "model = nn.Sequential(nn.Linear(3072, 512),\n",
    "                      nn.Tanh(),\n",
    "                      nn.Linear(512, 2),\n",
    "                      nn.LogSoftmax(dim=1))\n",
    "learning_rate = 1e-2\n",
    "optimizer = torch.optim.SGD(model.parameters(), lr=learning_rate)\n",
    "loss_fn = nn.NLLLoss()\n",
    "n_epochs = 100\n",
    "model.cuda()\n",
    "for epoch in range(1, n_epochs + 1):\n",
    "    for img, label in cifar2:\n",
    "        #img = to_tensor(img)\n",
    "        out = model(img.view(-1).unsqueeze(0).cuda())\n",
    "        loss = loss_fn(out, torch.tensor([label]).cuda())\n",
    "        optimizer.zero_grad()\n",
    "        loss.backward()\n",
    "        optimizer.step()\n",
    "    print(\"Epoch: %d, Loss: %f\" % (epoch, float(loss))) #每個迴圈結束後，將損失列印出來"
   ]
  },
  {
   "cell_type": "code",
   "execution_count": null,
   "id": "7067e93f",
   "metadata": {},
   "outputs": [],
   "source": [
    "train_loader = torch.utils.data.DataLoader(cifar2, batch_size=64, shuffle=True) #(Dataset 物件, batch_size, 是否shuffle)"
   ]
  },
  {
   "cell_type": "code",
   "execution_count": null,
   "id": "8797bcb7",
   "metadata": {},
   "outputs": [],
   "source": [
    "import torch\n",
    "import torch.nn as nn\n",
    "model = nn.Sequential(nn.Linear(3072, 512),\n",
    "                      nn.Tanh(),\n",
    "                      nn.Linear(512, 2),\n",
    "                      nn.LogSoftmax(dim=1))\n",
    "learning_rate = 1e-2\n",
    "\n",
    "optimizer = torch.optim.SGD(model.parameters(), lr=learning_rate)\n",
    "loss_fn = nn.NLLLoss()\n",
    "n_epochs = 100\n",
    "for epoch in range(1, n_epochs + 1):\n",
    "    train_loader = torch.utils.data.DataLoader(cifar2, batch_size=64, shuffle=True)\n",
    "    for imgs, labels in train_loader:\n",
    "        batch_size = imgs.shape[0]\n",
    "        ouputs = model(imgs.view(batch_size, -1))\n",
    "        loss = loss_fn(ouputs, labels)\n",
    "        optimizer.zero_grad()\n",
    "        loss.backward()\n",
    "        optimizer.step()\n",
    "    print(\"Epoch: %d, Loss: %f\" % (epoch, float(loss))) #列印隨機批次的損失值"
   ]
  },
  {
   "cell_type": "code",
   "execution_count": null,
   "id": "407205cf",
   "metadata": {},
   "outputs": [],
   "source": [
    "val_loader = torch.utils.data.DataLoader(cifar2_val, batch_size=64, shuffle=False)\n",
    "correct = 0\n",
    "total = 0\n",
    "with torch.no_grad():\n",
    "    for imgs, labels in val_loader:\n",
    "        batch_size = imgs.shape[0]\n",
    "        outputs = model(imgs.view(imgs.shape[0], -1))\n",
    "        _, predicted = torch.max(outputs, dim=1)\n",
    "        total += labels.shape[0]\n",
    "        correct += int((predicted == labels).sum())\n",
    "print(\"Accuracy: %f\" %(correct/total))"
   ]
  },
  {
   "cell_type": "code",
   "execution_count": null,
   "id": "11a0580d",
   "metadata": {},
   "outputs": [],
   "source": [
    "model = nn.Sequential(nn.Linear(3072, 1024),\n",
    "                      nn.Tanh(),\n",
    "                      nn.Linear(1024, 512),\n",
    "                      nn.Tanh(),\n",
    "                      nn.Linear(512, 128),\n",
    "                      nn.Tanh(),\n",
    "                      nn.Linear(128, 2),\n",
    "                      nn.LogSoftmax(dim=1))"
   ]
  },
  {
   "cell_type": "code",
   "execution_count": null,
   "id": "b2ba4884",
   "metadata": {},
   "outputs": [],
   "source": [
    "model = nn.Sequential(nn.Linear(3072, 1024),\n",
    "                      nn.Tanh(),\n",
    "                      nn.Linear(1024, 512),\n",
    "                      nn.Tanh(),\n",
    "                      nn.Linear(512, 128),\n",
    "                      nn.Tanh(),\n",
    "                      nn.Linear(128, 2),\n",
    "                      nn.LogSoftmax(dim=1))\n",
    "loss_fn = nn.CrossEntropyLoss()\n",
    "learning_rate = 1e-2\n",
    "optimizer = torch.optim.SGD(model.parameters(), lr=learning_rate)"
   ]
  },
  {
   "cell_type": "code",
   "execution_count": null,
   "id": "24a06ada",
   "metadata": {},
   "outputs": [],
   "source": [
    "def training(n_epochs, model, loss_fn, optimizer, training_dataset, batch_size):\n",
    "    model.train()\n",
    "    model.cuda()\n",
    "    for epoch in range(1, n_epochs + 1):\n",
    "        train_loader = torch.utils.data.DataLoader(training_dataset, batch_size=batch_size, shuffle=True)\n",
    "        for imgs, labels in train_loader:\n",
    "            outputs = model(imgs.view(imgs.shape[0], -1).cuda())\n",
    "            loss = loss_fn(outputs, labels.cuda())\n",
    "            optimizer.zero_grad()\n",
    "            loss.backward()\n",
    "            optimizer.step()\n",
    "        print(\"Epoch: %d, Loss: %f\" %(epoch, float(loss)))"
   ]
  },
  {
   "cell_type": "code",
   "execution_count": null,
   "id": "abce5d1a",
   "metadata": {},
   "outputs": [],
   "source": [
    "def valid(model, val_dataset, batch_size):\n",
    "    model.eval()\n",
    "    model.cuda()\n",
    "    val_dataload = torch.utils.data.DataLoader(val_dataset, batch_size=batch_size, shuffle=False)\n",
    "    correct = 0\n",
    "    total = 0\n",
    "    for imgs, labels in val_dataload:\n",
    "        outputs = model(imgs.view(imgs.shape[0], -1).cuda())\n",
    "        _, predicted = torch.max(outputs, dim=1)\n",
    "        total += labels.shape[0]\n",
    "        correct += ((labels.cuda()==predicted).sum())\n",
    "    print(\"Accuracy: %f\" %(correct/total))"
   ]
  },
  {
   "cell_type": "code",
   "execution_count": null,
   "id": "77fb8845",
   "metadata": {},
   "outputs": [],
   "source": [
    "training(\n",
    "    n_epochs = 100,\n",
    "    model = model, \n",
    "    loss_fn = loss_fn, \n",
    "    optimizer=optimizer, \n",
    "    training_dataset = cifar2, \n",
    "    batch_size = 64\n",
    ")"
   ]
  },
  {
   "cell_type": "code",
   "execution_count": null,
   "id": "d70a1b73",
   "metadata": {},
   "outputs": [],
   "source": [
    "valid(\n",
    "    model = model, \n",
    "    val_dataset = cifar2_val, \n",
    "    batch_size = 64\n",
    ")"
   ]
  },
  {
   "cell_type": "code",
   "execution_count": null,
   "id": "48f79a50",
   "metadata": {},
   "outputs": [],
   "source": [
    "#計算模型可訓練參數\n",
    "numel_list = [\n",
    "    p.numel()\n",
    "    for p in model.parameters()\n",
    "    if p.requires_grad == True #只計算可訓練參數的數量\n",
    "]\n",
    "sum(numel_list), numel_list"
   ]
  }
 ],
 "metadata": {
  "kernelspec": {
   "display_name": "Python 3",
   "language": "python",
   "name": "python3"
  },
  "language_info": {
   "codemirror_mode": {
    "name": "ipython",
    "version": 3
   },
   "file_extension": ".py",
   "mimetype": "text/x-python",
   "name": "python",
   "nbconvert_exporter": "python",
   "pygments_lexer": "ipython3",
   "version": "3.6.8"
  }
 },
 "nbformat": 4,
 "nbformat_minor": 5
}
