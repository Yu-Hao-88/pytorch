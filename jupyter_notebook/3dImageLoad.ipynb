{
 "cells": [
  {
   "cell_type": "code",
   "execution_count": 5,
   "id": "4c74bcb8",
   "metadata": {},
   "outputs": [
    {
     "name": "stdout",
     "output_type": "stream",
     "text": [
      "Reading DICOM (examining files): 1/99 files (1.0%99/99 files (100.0%)\n",
      "  Found 1 correct series.\n",
      "Reading DICOM (loading data): 99/99  (100.0%)\n"
     ]
    },
    {
     "data": {
      "text/plain": [
       "(99, 512, 512)"
      ]
     },
     "execution_count": 5,
     "metadata": {},
     "output_type": "execute_result"
    }
   ],
   "source": [
    "import imageio\n",
    "\n",
    "dir_path = \"../data/p1ch4/volumetric-dicom/2-LUNG 3.0  B70f-04083\"\n",
    "vol_arr = imageio.volread(dir_path, 'DICOM') #讀取檔案，存放在 vol_arr\n",
    "vol_arr.shape #輸出 vol_arr 的 shape\n",
    "#(99, 512, 512) => (張數, (尺寸)) 通道軸被省略掉了"
   ]
  },
  {
   "cell_type": "code",
   "execution_count": 9,
   "id": "e4c60d05",
   "metadata": {},
   "outputs": [
    {
     "data": {
      "text/plain": [
       "torch.Size([99, 1, 1, 512, 512])"
      ]
     },
     "execution_count": 9,
     "metadata": {},
     "output_type": "execute_result"
    }
   ],
   "source": [
    "import torch\n",
    "\n",
    "vol = torch.from_numpy(vol_arr).float() #先把資料轉成浮點數張量\n",
    "vol = torch.unsqueeze(vol, 1) #在第 1 軸的位置增加插入一個通道軸 維度為 1\n",
    "vol = torch.unsqueeze(vol, 2) #在第 2 軸的位置增加插入一個深度軸 維度為 1\n",
    "\n",
    "vol.shape # N x C x D x H x W   D = depth"
   ]
  }
 ],
 "metadata": {
  "kernelspec": {
   "display_name": "Python 3",
   "language": "python",
   "name": "python3"
  },
  "language_info": {
   "codemirror_mode": {
    "name": "ipython",
    "version": 3
   },
   "file_extension": ".py",
   "mimetype": "text/x-python",
   "name": "python",
   "nbconvert_exporter": "python",
   "pygments_lexer": "ipython3",
   "version": "3.6.8"
  }
 },
 "nbformat": 4,
 "nbformat_minor": 5
}
