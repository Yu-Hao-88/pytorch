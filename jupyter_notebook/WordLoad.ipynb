{
 "cells": [
  {
   "cell_type": "code",
   "execution_count": 1,
   "id": "cfd60c4e",
   "metadata": {},
   "outputs": [],
   "source": [
    "with open('../data/p1ch4/jane-austen/1342-0.txt', encoding='utf8') as f:\n",
    "    text = f.read()"
   ]
  },
  {
   "cell_type": "code",
   "execution_count": 12,
   "id": "c20632ab",
   "metadata": {},
   "outputs": [
    {
     "data": {
      "text/plain": [
       "'“Impossible, Mr. Bennet, impossible, when I am not acquainted with him'"
      ]
     },
     "execution_count": 12,
     "metadata": {},
     "output_type": "execute_result"
    }
   ],
   "source": [
    "lines = text.split('\\n') #將不同列的文字存入串列 lines\n",
    "line = lines[200] #取出串列 lines 中的第 200 列文字\n",
    "line"
   ]
  },
  {
   "cell_type": "code",
   "execution_count": 7,
   "id": "cdb09325",
   "metadata": {},
   "outputs": [
    {
     "data": {
      "text/plain": [
       "torch.Size([70, 128])"
      ]
     },
     "execution_count": 7,
     "metadata": {},
     "output_type": "execute_result"
    }
   ],
   "source": [
    "import torch\n",
    "\n",
    "letter_t = torch.zeros(len(line), 128) #創建一個張量 letter_t，元素值皆初始化為 0，shape為((該行文字的字元數), ASCII 碼的字元數)\n",
    "\n",
    "letter_t.shape #印出 letter_t 的 shape"
   ]
  },
  {
   "cell_type": "code",
   "execution_count": 9,
   "id": "1050b37f",
   "metadata": {},
   "outputs": [],
   "source": [
    "#將文字轉換為小寫，依序讀入該列文字中的字元\n",
    "for i, letter in enumerate(line.lower().strip()):\n",
    "    letter_index = ord(letter) if ord(letter) < 0 else 0 #ord() 可取得讀入字元的 ASCII 碼\n",
    "    letter_t[i][letter_index] = 1 #將對應到位置的元素值設為 1"
   ]
  },
  {
   "cell_type": "code",
   "execution_count": 19,
   "id": "dd2bcd60",
   "metadata": {},
   "outputs": [
    {
     "data": {
      "text/plain": [
       "('“Impossible, Mr. Bennet, impossible, when I am not acquainted with him',\n",
       " ['impossible',\n",
       "  'mr',\n",
       "  'bennet',\n",
       "  'impossible',\n",
       "  'when',\n",
       "  'i',\n",
       "  'am',\n",
       "  'not',\n",
       "  'acquainted',\n",
       "  'with',\n",
       "  'him'])"
      ]
     },
     "execution_count": 19,
     "metadata": {},
     "output_type": "execute_result"
    }
   ],
   "source": [
    "def clean_words(input_str):\n",
    "    punctuation = '.,;:\"!?“”_-' #定義一些常用的標點符號\n",
    "    word_list = input_str.lower().split() #將文字都轉為小寫，並以空白字元進行切割\n",
    "    word_list = [word.strip(punctuation) for word in word_list] #利用 strip() 去除文字前、後的標點符號\n",
    "    return word_list\n",
    "words_in_line = clean_words(line) #利用 clean_words()套用在之前的 line 上\n",
    "line, words_in_line #文字被切割成一個個單字"
   ]
  },
  {
   "cell_type": "code",
   "execution_count": 17,
   "id": "d83dbca1",
   "metadata": {},
   "outputs": [
    {
     "data": {
      "text/plain": [
       "(7261, 3394)"
      ]
     },
     "execution_count": 17,
     "metadata": {},
     "output_type": "execute_result"
    }
   ],
   "source": [
    "#將 clean_words(text) 傳回的單字串列轉為 Python 的 set 結構，然後再轉為依字母順序排列的串列\n",
    "word_list = sorted(set(clean_words(text)))\n",
    "\n",
    "#將 word_list 中的單字編入字典，key 為單字，value 為其編碼(就是該單字在單字串列中的索引)\n",
    "word2index_dict = {word: i for (i, word) in enumerate(word_list)}\n",
    "\n",
    "#text 文本中的單字數, 單字'impossible'在字典中的編碼(對應的索引值)\n",
    "len(word2index_dict), word2index_dict['impossible'] "
   ]
  },
  {
   "cell_type": "code",
   "execution_count": 23,
   "id": "1be8266d",
   "metadata": {},
   "outputs": [
    {
     "name": "stdout",
     "output_type": "stream",
     "text": [
      "0 3394 impossible\n",
      "1 4305 mr\n",
      "2 813 bennet\n",
      "3 3394 impossible\n",
      "4 7078 when\n",
      "5 3315 i\n",
      "6 415 am\n",
      "7 4436 not\n",
      "8 239 acquainted\n",
      "9 7148 with\n",
      "10 3215 him\n",
      "torch.Size([11, 7261])\n"
     ]
    }
   ],
   "source": [
    "word_t = torch.zeros(len(words_in_line), len(word2index_dict)) #創建一個張量，用來儲存編碼後的單字向量\n",
    "\n",
    "for i, word in enumerate(words_in_line):\n",
    "    word_index = word2index_dict[word]\n",
    "    word_t[i][word_index] = 1 #進行 one-hot 編碼\n",
    "    print('{} {} {}'.format(i, word_index, word))\n",
    "print(word_t.shape) #(這段句子的單字數量, 文本中的相異單字數量)"
   ]
  }
 ],
 "metadata": {
  "kernelspec": {
   "display_name": "Python 3",
   "language": "python",
   "name": "python3"
  },
  "language_info": {
   "codemirror_mode": {
    "name": "ipython",
    "version": 3
   },
   "file_extension": ".py",
   "mimetype": "text/x-python",
   "name": "python",
   "nbconvert_exporter": "python",
   "pygments_lexer": "ipython3",
   "version": "3.6.8"
  }
 },
 "nbformat": 4,
 "nbformat_minor": 5
}
