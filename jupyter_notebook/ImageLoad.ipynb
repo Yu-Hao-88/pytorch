{
 "cells": [
  {
   "cell_type": "code",
   "execution_count": 3,
   "id": "4c661747",
   "metadata": {},
   "outputs": [
    {
     "data": {
      "text/plain": [
       "(720, 1280, 3)"
      ]
     },
     "execution_count": 3,
     "metadata": {},
     "output_type": "execute_result"
    }
   ],
   "source": [
    "import numpy as np\n",
    "import torch\n",
    "import imageio\n",
    "\n",
    "img_arr = imageio.imread('../data/p1ch4/image-dog/bobby.jpg')\n",
    "img_arr.shape #輸出 img_arr 的 shape\n",
    "#(720, 1280, 3) => ((空間大小), 色彩通道數) img_arr 為 1 個 3 軸張量"
   ]
  },
  {
   "cell_type": "code",
   "execution_count": 4,
   "id": "5d76732c",
   "metadata": {},
   "outputs": [
    {
     "data": {
      "text/plain": [
       "torch.Size([3, 720, 1280])"
      ]
     },
     "execution_count": 4,
     "metadata": {},
     "output_type": "execute_result"
    }
   ],
   "source": [
    "img = torch.from_numpy(img_arr) #先將 img_arr 轉成 PyTorch 張量(以 img 表示) \n",
    "out = img.permute(2, 0, 1) #將第 2 軸移至第 0 軸，原本的第 0 軸與第 1 軸往後移\n",
    "out.shape #輸出調整後的軸順序"
   ]
  },
  {
   "cell_type": "code",
   "execution_count": 6,
   "id": "2c3b8686",
   "metadata": {},
   "outputs": [],
   "source": [
    "batch_size = 100 #設定一次可載入 100 張圖片\n",
    "batch = torch.zeros(batch_size, 3, 256, 256, dtype = torch.uint8) #此張量可儲存 100 張高度與寬度都是 256 像素的 RBG 圖片"
   ]
  },
  {
   "cell_type": "code",
   "execution_count": 29,
   "id": "83b5223f",
   "metadata": {
    "scrolled": false
   },
   "outputs": [
    {
     "data": {
      "text/plain": [
       "torch.Size([100, 3, 256, 256])"
      ]
     },
     "execution_count": 29,
     "metadata": {},
     "output_type": "execute_result"
    }
   ],
   "source": [
    "import os\n",
    "data_dir = '../data/p1ch4/image-cats/' #設定圖檔所在的資料夾路徑\n",
    "filenames = [name for name in os.listdir(data_dir) if os.path.splitext(name)[-1] == '.png'] #找出所有 png\n",
    "\n",
    "for i, filename in enumerate(filenames): #依序載入每個 png 檔\n",
    "    img_arr = imageio.imread(os.path.join(data_dir, filename))\n",
    "    img_t = torch.from_numpy(img_arr)\n",
    "    img_t = img_t.permute(2, 0, 1) #調整張量中各軸的排列順序\n",
    "    img_t = img_t[:3] #有些圖片會友表示透明度的第 3 軸，是我們不需要的，故只保留前面 3 軸(H, W, C)\n",
    "    \n",
    "    batch[i] = img_t\n",
    "batch.shape\n",
    "#torch.Size([100, 3, 256, 256]) => (N X C X H X W)"
   ]
  },
  {
   "cell_type": "code",
   "execution_count": 30,
   "id": "6367a417",
   "metadata": {},
   "outputs": [],
   "source": [
    "#對像素值進行正規化，常見的做法是將像素質除以 255\n",
    "batch = batch.float() #將 batch 張量內的像素值轉換成浮點數\n",
    "batch /= 255.0 #將像素值同除以 255\n"
   ]
  },
  {
   "cell_type": "code",
   "execution_count": 32,
   "id": "ecc8e877",
   "metadata": {},
   "outputs": [],
   "source": [
    "#另一種方法是做標準化\n",
    "n_channels = batch.shape[1] #取得色彩通道數(batch張量的 shape 中，第 1 軸維度)\n",
    "\n",
    "for c in range(n_channels): #依次走訪每個色彩通道\n",
    "    mean = torch.mean(batch[:, c]) #計算平均值\n",
    "    std = torch.std(batch[:, c]) #計算標準差\n",
    "    batch[:, c] = (batch[:, c] - mean) /std #正規化公式\n"
   ]
  }
 ],
 "metadata": {
  "kernelspec": {
   "display_name": "Python 3",
   "language": "python",
   "name": "python3"
  },
  "language_info": {
   "codemirror_mode": {
    "name": "ipython",
    "version": 3
   },
   "file_extension": ".py",
   "mimetype": "text/x-python",
   "name": "python",
   "nbconvert_exporter": "python",
   "pygments_lexer": "ipython3",
   "version": "3.6.8"
  }
 },
 "nbformat": 4,
 "nbformat_minor": 5
}
