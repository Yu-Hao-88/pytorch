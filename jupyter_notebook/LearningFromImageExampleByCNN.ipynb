{
 "cells": [
  {
   "cell_type": "code",
   "execution_count": 1,
   "id": "560e7030",
   "metadata": {},
   "outputs": [
    {
     "data": {
      "text/plain": [
       "Conv2d(3, 16, kernel_size=(3, 3), stride=(1, 1))"
      ]
     },
     "execution_count": 1,
     "metadata": {},
     "output_type": "execute_result"
    }
   ],
   "source": [
    "import torch\n",
    "import torch.nn as nn\n",
    "\n",
    "#(輸入通道數, 輸出通道數, 卷積核大小)\n",
    "conv = nn.Conv2d(3, 16, kernel_size=3) #建構一個卷積層\n",
    "conv"
   ]
  },
  {
   "cell_type": "code",
   "execution_count": 2,
   "id": "f548409f",
   "metadata": {},
   "outputs": [
    {
     "data": {
      "text/plain": [
       "(torch.Size([16, 3, 3, 3]), torch.Size([16]))"
      ]
     },
     "execution_count": 2,
     "metadata": {},
     "output_type": "execute_result"
    }
   ],
   "source": [
    "conv.weight.shape, conv.bias.shape\n",
    "#weight shape: out_ch x in_ch x kernel_size x kernel_size\n",
    "#bias shape: out_ch "
   ]
  },
  {
   "cell_type": "code",
   "execution_count": 3,
   "id": "bc8bfaf6",
   "metadata": {},
   "outputs": [
    {
     "name": "stdout",
     "output_type": "stream",
     "text": [
      "Files already downloaded and verified\n",
      "Files already downloaded and verified\n"
     ]
    }
   ],
   "source": [
    "from torchvision import datasets, transforms\n",
    "\n",
    "data_path = '../data/p1ch7'  #檔案路徑\n",
    "transformed_cifar10 = datasets.CIFAR10( #對訓練資料集進行正規化\n",
    "    data_path, train=True, download=True,\n",
    "    transform=transforms.Compose([\n",
    "        transforms.ToTensor(),\n",
    "        transforms.Normalize((0.4914, 0.4822, 0.4465), #各通道的平均值，計算方法參閱 LearningFromImageExample\n",
    "                             (0.2470, 0.2435, 0.2616)) #各通道的標準差，計算方法參閱 LearningFromImageExample\n",
    "    ])\n",
    ")\n",
    "\n",
    "cifar10_val = datasets.CIFAR10( #對驗證資料集進行正規化\n",
    "    data_path, train=False, download=True,\n",
    "    transform=transforms.Compose([\n",
    "        transforms.ToTensor(),\n",
    "        transforms.Normalize((0.4914, 0.4822, 0.4465), #驗證集必須使用和訓練集相同的平均值及標準差來正規化\n",
    "                             (0.2470, 0.2435, 0.2616))\n",
    "    ])\n",
    ")"
   ]
  },
  {
   "cell_type": "code",
   "execution_count": 4,
   "id": "038160be",
   "metadata": {},
   "outputs": [],
   "source": [
    "#7.2 區分鳥和飛機\n",
    "label_map = {0: 0, 2: 1} #將飛機的類別標籤對應到 0 (原本為 0)；將小鳥的標籤對應到 1 (原本為 2)\n",
    "class_name = ['airplane', 'bird']\n",
    "cifar2 = [(img, label_map[label]) #取出原有訓練資料集中，飛機及小鳥的圖片\n",
    "          for img, label in transformed_cifar10\n",
    "          if label in [0,2]]\n",
    "cifar2_val = [(img, label_map[label]) #取出原有驗證資料集中，飛機及小鳥的圖片\n",
    "              for img, label in cifar10_val\n",
    "              if label in [0, 2]]"
   ]
  },
  {
   "cell_type": "code",
   "execution_count": 5,
   "id": "e0191c1b",
   "metadata": {},
   "outputs": [
    {
     "data": {
      "text/plain": [
       "(torch.Size([1, 3, 32, 32]), torch.Size([1, 16, 30, 30]))"
      ]
     },
     "execution_count": 5,
     "metadata": {},
     "output_type": "execute_result"
    }
   ],
   "source": [
    "img, _ = cifar2[0]\n",
    "output = conv(img.unsqueeze(0)) #先在 img 的第 0 軸加入批次軸，再傳進 conv 模組\n",
    "img.unsqueeze(0).shape, output.shape"
   ]
  },
  {
   "cell_type": "code",
   "execution_count": 6,
   "id": "a1453c8f",
   "metadata": {},
   "outputs": [
    {
     "data": {
      "image/png": "[encoded data removed]",
      "text/plain": [
       "<Figure size 432x288 with 2 Axes>"
      ]
     },
     "metadata": {
      "needs_background": "light"
     },
     "output_type": "display_data"
    }
   ],
   "source": [
    "from matplotlib import pyplot as plt\n",
    "\n",
    "ax1 = plt.subplot(1, 2, 1)\n",
    "plt.title('output')\n",
    "plt.imshow(output[0, 0].detach(), cmap='gray')\n",
    "plt.subplot(1, 2, 2, sharex=ax1, sharey=ax1)\n",
    "plt.imshow(img.mean(0), cmap='gray')\n",
    "plt.title('input')\n",
    "plt.show()"
   ]
  },
  {
   "cell_type": "code",
   "execution_count": 8,
   "id": "2774cde0",
   "metadata": {},
   "outputs": [
    {
     "data": {
      "text/plain": [
       "(torch.Size([1, 3, 32, 32]), torch.Size([1, 1, 32, 32]))"
      ]
     },
     "execution_count": 8,
     "metadata": {},
     "output_type": "execute_result"
    }
   ],
   "source": [
    "conv = nn.Conv2d(3, 1, kernel_size=3, padding=1) #這裡設定了填補\n",
    "output = conv(img.unsqueeze(0))\n",
    "img.unsqueeze(0).shape, output.shape #輸出圖片大小與原始圖片大小一致"
   ]
  },
  {
   "cell_type": "code",
   "execution_count": 9,
   "id": "db78f3dd",
   "metadata": {},
   "outputs": [],
   "source": [
    "with torch.no_grad():\n",
    "    conv.bias.zero_() #將卷積層的 bias 設為 0\n",
    "\n",
    "with torch.no_grad():\n",
    "    conv.weight.fill_(1.0 / 9.0) #將卷積層的 weights 設為 1/9 (這樣就能讓每個輸出值等於所有像素值的平均值)"
   ]
  },
  {
   "cell_type": "code",
   "execution_count": 11,
   "id": "c77f6df2",
   "metadata": {},
   "outputs": [
    {
     "data": {
      "image/png": "[encoded data removed]",
      "text/plain": [
       "<Figure size 432x288 with 2 Axes>"
      ]
     },
     "metadata": {
      "needs_background": "light"
     },
     "output_type": "display_data"
    }
   ],
   "source": [
    "ax1 = plt.subplot(1, 2, 1)\n",
    "plt.title('output')\n",
    "plt.imshow(output[0, 0].detach(), cmap='gray')\n",
    "plt.subplot(1, 2, 2, sharex=ax1, sharey=ax1)\n",
    "plt.imshow(img.mean(0), cmap='gray')\n",
    "plt.title('input')\n",
    "plt.show()\n",
    "#output 變成原始圖片的平滑化版本\n",
    "#由於輸出圖片中每個像素的值都是其區域像素的平均，因此輸出像素間的相關性很高，值的變化也更加平滑"
   ]
  },
  {
   "cell_type": "code",
   "execution_count": 18,
   "id": "c00f195c",
   "metadata": {},
   "outputs": [],
   "source": [
    "conv = nn.Conv2d(3, 1, kernel_size=3, padding=1)\n",
    "with torch.no_grad():\n",
    "    conv.weight[:] = torch.tensor([[-1.0, 0.0, 1.0], #手動設定核權重矩陣中的值\n",
    "                                   [-1.0, 0.0, 1.0],\n",
    "                                   [-1.0, 0.0, 1.0]])\n",
    "    conv.bias.zero_()"
   ]
  },
  {
   "cell_type": "code",
   "execution_count": 19,
   "id": "cfef4a89",
   "metadata": {},
   "outputs": [
    {
     "data": {
      "text/plain": [
       "(torch.Size([1, 3, 32, 32]), torch.Size([1, 1, 32, 32]))"
      ]
     },
     "execution_count": 19,
     "metadata": {},
     "output_type": "execute_result"
    }
   ],
   "source": [
    "output = conv(img.unsqueeze(0))\n",
    "img.unsqueeze(0).shape, output.shape #輸出圖片大小與原始圖片大小一致"
   ]
  },
  {
   "cell_type": "code",
   "execution_count": 20,
   "id": "c1cbec0d",
   "metadata": {},
   "outputs": [
    {
     "data": {
      "image/png": "[encoded data removed]",
      "text/plain": [
       "<Figure size 432x288 with 2 Axes>"
      ]
     },
     "metadata": {
      "needs_background": "light"
     },
     "output_type": "display_data"
    }
   ],
   "source": [
    "ax1 = plt.subplot(1, 2, 1)\n",
    "plt.title('output')\n",
    "plt.imshow(output[0, 0].detach(), cmap='gray')\n",
    "plt.subplot(1, 2, 2, sharex=ax1, sharey=ax1)\n",
    "plt.imshow(img.mean(0), cmap='gray')\n",
    "plt.title('input')\n",
    "plt.show()\n",
    "#此卷積核的功能為 將 右邊的像素值 減去 左邊的像素值\n",
    "#此為一個邊緣偵測(edge-detection)核"
   ]
  },
  {
   "cell_type": "code",
   "execution_count": 24,
   "id": "6864f8cf",
   "metadata": {},
   "outputs": [
    {
     "data": {
      "text/plain": [
       "(torch.Size([1, 3, 32, 32]), torch.Size([1, 3, 16, 16]))"
      ]
     },
     "execution_count": 24,
     "metadata": {},
     "output_type": "execute_result"
    }
   ],
   "source": [
    "pool = nn.MaxPool2d(2) #將池化區域設成 2\n",
    "output = pool(img.unsqueeze(0)) #此處一樣要先在第 0 軸添加一個批次軸\n",
    "img.unsqueeze(0).shape, output.shape #圖片大小已縮小成一半"
   ]
  },
  {
   "cell_type": "code",
   "execution_count": 32,
   "id": "bd50ea06",
   "metadata": {},
   "outputs": [],
   "source": [
    "model = nn.Sequential(\n",
    "    nn.Conv2d(3, 16, kernel_size=3, padding=1), #第一層卷積層\n",
    "    nn.Tanh(),\n",
    "    nn.MaxPool2d(2), #第一層最大池化層\n",
    "    nn.Conv2d(16, 8, kernel_size=3, padding=1), #第二層卷積層\n",
    "    nn.Tanh(),\n",
    "    nn.MaxPool2d(2), #第二層最大池化層\n",
    "    nn.Flatten(), #Flatten在書裡先被省略，這裡是自己補上的，這裡省略了很重要的東西\n",
    "    nn.Linear(8 * 8 * 8, 32),\n",
    "    nn.Tanh(),\n",
    "    nn.Linear(32, 2)\n",
    ")"
   ]
  },
  {
   "cell_type": "code",
   "execution_count": 27,
   "id": "2fca53a8",
   "metadata": {},
   "outputs": [
    {
     "data": {
      "text/plain": [
       "(18090, [432, 16, 1152, 8, 16384, 32, 64, 2])"
      ]
     },
     "execution_count": 27,
     "metadata": {},
     "output_type": "execute_result"
    }
   ],
   "source": [
    "numel_list = [p.numel() for p in model.parameters()]\n",
    "sum(numel_list), numel_list"
   ]
  },
  {
   "cell_type": "code",
   "execution_count": 31,
   "id": "1a3d0f74",
   "metadata": {},
   "outputs": [
    {
     "data": {
      "text/plain": [
       "tensor([[-0.1884, -0.0594]], grad_fn=<AddmmBackward>)"
      ]
     },
     "execution_count": 31,
     "metadata": {},
     "output_type": "execute_result"
    }
   ],
   "source": [
    "model(img.unsqueeze(0))"
   ]
  },
  {
   "cell_type": "code",
   "execution_count": 33,
   "id": "ec260188",
   "metadata": {},
   "outputs": [],
   "source": [
    "class Net(nn.Module):\n",
    "    def __init__(self):\n",
    "        super().__init__()\n",
    "        #定義需要用到的模組物件\n",
    "        self.conv1 = nn.Conv2d(3, 16, kernel_size=3, padding=1)\n",
    "        self.act1 = nn.Tanh()\n",
    "        self.pool1 = nn.MaxPool2d(2)\n",
    "        self.conv2 = nn.Conv2d(16, 8, kernel_size=3, padding=1)\n",
    "        self.act2 = nn.Tanh()\n",
    "        self.pool2 = nn.MaxPool2d(2)\n",
    "        self.fc1 = nn.Linear(8 * 8 * 8, 32)\n",
    "        self.act3 = nn.Tanh()\n",
    "        self.fc2 = nn.Linear(32, 2)\n",
    "    \n",
    "    def forward(self, x):\n",
    "        out = self.pool1(self.act1(self.conv1(x)))\n",
    "        out = self.pool2(self.act2(self.conv2(out)))\n",
    "        out = out.view(-1, 8 * 8 * 8) #之前省略的部分(扁平化卷積模組輸出)\n",
    "        out = self.act3(self.fc1(out))\n",
    "        out = self.fc2(out)\n",
    "        \n",
    "        return out"
   ]
  },
  {
   "cell_type": "code",
   "execution_count": 34,
   "id": "83ec0647",
   "metadata": {},
   "outputs": [
    {
     "data": {
      "text/plain": [
       "(18090, [432, 16, 1152, 8, 16384, 32, 64, 2])"
      ]
     },
     "execution_count": 34,
     "metadata": {},
     "output_type": "execute_result"
    }
   ],
   "source": [
    "model = Net()\n",
    "numel_list = [p.numel() for p in model.parameters()]\n",
    "sum(numel_list), numel_list"
   ]
  },
  {
   "cell_type": "code",
   "execution_count": 65,
   "id": "e0a33cb4",
   "metadata": {},
   "outputs": [],
   "source": [
    "import torch.nn.functional as F\n",
    "\n",
    "class Net(nn.Module):\n",
    "    def __init__(self):\n",
    "        super().__init__()\n",
    "        #僅定義卷積模組與線性模組\n",
    "        self.conv1 = nn.Conv2d(3, 16, kernel_size=3, padding=1)\n",
    "        self.conv2 = nn.Conv2d(16, 8, kernel_size=3, padding=1)\n",
    "        self.fc1 = nn.Linear(8 * 8 * 8, 32)\n",
    "        self.fc2 = nn.Linear(32, 2)\n",
    "        self.flatten = nn.Flatten()\n",
    "    \n",
    "    def forward(self, x):\n",
    "        out = F.max_pool2d(torch.tanh(self.conv1(x)), 2) #將最大化池和激活函數替換成函數式API\n",
    "        out = F.max_pool2d(torch.tanh(self.conv2(out)), 2)\n",
    "        #out = out.view(-1, 8 * 8 * 8) #之前省略的部分(扁平化卷積模組輸出) 書裡使用 view 自己壓平\n",
    "        out = self.flatten(out) #可用 flatten 讓 PyTorch 幫忙壓平\n",
    "        out = torch.tanh(self.fc1(out))\n",
    "        out = self.fc2(out)\n",
    "        \n",
    "        return out"
   ]
  },
  {
   "cell_type": "code",
   "execution_count": 62,
   "id": "33b85852",
   "metadata": {},
   "outputs": [
    {
     "data": {
      "text/plain": [
       "tensor([ 0.1150, -0.0944], grad_fn=<AddBackward0>)"
      ]
     },
     "execution_count": 62,
     "metadata": {},
     "output_type": "execute_result"
    }
   ],
   "source": [
    "model = Net() #建立一個 Net()物件\n",
    "model(img.unsqueeze(0)) #嘗試運行模型"
   ]
  },
  {
   "cell_type": "code",
   "execution_count": 79,
   "id": "fc9fe043",
   "metadata": {},
   "outputs": [
    {
     "name": "stdout",
     "output_type": "stream",
     "text": [
      "Training on device cuda.\n"
     ]
    }
   ],
   "source": [
    "device = (torch.device('cuda') if torch.cuda.is_available() else torch.device('cpu'))\n",
    "print(f\"Training on device {device}.\") #可以根據輸出結果知道是否有可用的 GPU"
   ]
  },
  {
   "cell_type": "code",
   "execution_count": 85,
   "id": "c3ef1b60",
   "metadata": {},
   "outputs": [],
   "source": [
    "import datetime #使用 Python 內建的 datetime 模組\n",
    "\n",
    "def training_loop(n_epochs, optimizer, model, loss_fn, train_loader):\n",
    "    for epoch in range(1, n_epochs + 1): #控制訓練週期的迴圈，注意範圍是從 1 開始到 n_epochs，而非從 0 開始\n",
    "        loss_train = 0.0\n",
    "        for imgs, labels in train_loader: #走訪 train_loader，每次會取出一批次的訓練資料及標籤\n",
    "            imgs = imgs.to(device = device) #將 imgs 和 labels 轉移到指定的硬體(由 device 變數決定)\n",
    "            labels = labels.to(device = device) \n",
    "            \n",
    "            outputs = model(imgs) #將一批次資料餵入模型中\n",
    "            loss = loss_fn(outputs, labels) #計算損失(最小化的目標)\n",
    "            \n",
    "            optimizer.zero_grad() #將上一輪的梯度清除\n",
    "            loss.backward() #反向運算一次，以便取得損失對所有可訓練參數的梯度\n",
    "            optimizer.step() #更新模型參數\n",
    "            \n",
    "            loss_train += loss.item() #將此次訓練週期中的所有損失加總起來；必須使用 item() 將損失轉換為 Python 數字\n",
    "        \n",
    "        if epoch == 1 or epoch % 10 == 0:\n",
    "            print('{} Epoch {}, Training loss {}'.format(datetime.datetime.now(), epoch, loss_train / len(train_loader)))\n",
    "            #將損失總和除以批次量(即 train_loader 的長度)，已取得每批次的平均損失(相較於總和，以平均值來測量損失更加值觀)"
   ]
  },
  {
   "cell_type": "code",
   "execution_count": 86,
   "id": "5806e9b0",
   "metadata": {},
   "outputs": [
    {
     "name": "stdout",
     "output_type": "stream",
     "text": [
      "2021-08-22 16:46:14.366183 Epoch 1, Training loss 0.5893626040334154\n",
      "2021-08-22 16:46:17.246123 Epoch 10, Training loss 0.3295111513821183\n",
      "2021-08-22 16:46:20.479506 Epoch 20, Training loss 0.2878500471828849\n",
      "2021-08-22 16:46:23.693540 Epoch 30, Training loss 0.26162087214980156\n",
      "2021-08-22 16:46:26.911584 Epoch 40, Training loss 0.24312472723092243\n",
      "2021-08-22 16:46:30.142778 Epoch 50, Training loss 0.22602944831796892\n",
      "2021-08-22 16:46:33.361936 Epoch 60, Training loss 0.2110026646761378\n",
      "2021-08-22 16:46:36.581419 Epoch 70, Training loss 0.19781206348899064\n",
      "2021-08-22 16:46:39.799103 Epoch 80, Training loss 0.18491125026136446\n",
      "2021-08-22 16:46:43.000716 Epoch 90, Training loss 0.16998820066167292\n",
      "2021-08-22 16:46:46.205959 Epoch 100, Training loss 0.1592594383723417\n"
     ]
    }
   ],
   "source": [
    "#先將 cifar 資料集隨機洗牌，然後我們每次讀取時會由其中抽取一批次( 64筆)的資料\n",
    "train_loader = torch.utils.data.DataLoader(cifar2, batch_size=64, shuffle=True)\n",
    "\n",
    "model = Net().to(device=device) #建立模型\n",
    "#將模型所有參數移到 GPU 上。所有的模型參數及輸入資料都要移到 GPU 上，否則會有錯誤訊息提醒你:\n",
    "#張量不在同一個硬體上(PyTorch 的算符不知原混用 GPU 和 CPU 上的資烙\n",
    "\n",
    "optimizer = torch.optim.SGD(model.parameters(), lr=1e-2) #隨機梯度下降優化器\n",
    "loss_fn = nn.CrossEntropyLoss() #交叉熵損失函數\n",
    "\n",
    "#呼叫稍早之前定義的訓練迴圈\n",
    "training_loop(n_epochs = 100, \n",
    "              optimizer = optimizer,\n",
    "              model = model,\n",
    "              loss_fn = loss_fn,\n",
    "              train_loader = train_loader,\n",
    "             )"
   ]
  },
  {
   "cell_type": "code",
   "execution_count": 88,
   "id": "d0533ecd",
   "metadata": {},
   "outputs": [
    {
     "name": "stdout",
     "output_type": "stream",
     "text": [
      "Accuracy train: 0.92\n",
      "Accuracy val: 0.88\n"
     ]
    }
   ],
   "source": [
    "train_loader = torch.utils.data.DataLoader(cifar2, batch_size=64, shuffle=False) #取得訓練資料集(推論階段，不用洗牌)\n",
    "\n",
    "val_loader = torch.utils.data.DataLoader(cifar2_val, batch_size=64, shuffle=False) #取得驗證資料集(推論階段，不用洗牌)\n",
    "\n",
    "def validate(model, train_loader, val_loader): #定義用來計算模型準確度(在訓練資料及驗證資料上)的函式\n",
    "    for name, loader in [(\"train\", train_loader), (\"val\", val_loader)]:\n",
    "        correct = 0\n",
    "        total = 0\n",
    "        with torch.no_grad(): #由於不需要做參數更新，因此不須計算梯度\n",
    "            for imgs, labels in loader:\n",
    "                imgs = imgs.to(device = device) #將 imgs 和 labels 轉移到指定的硬體(由 device 變數決定)\n",
    "                labels = labels.to(device = device) \n",
    "                \n",
    "                outputs = model(imgs)\n",
    "                _, predicted = torch.max(outputs, dim=1) #取得最大值所在的索引，並存進 predicted 陣列\n",
    "                total += labels.shape[0] #計算一共有多少樣本\n",
    "                #比較預測陣列跟標籤陣列，進而得到一個布林陣列。接著算出該批次中有多少預測是正確的\n",
    "                correct += int((predicted == labels).sum())\n",
    "        print(\"Accuracy {}: {:.2f}\".format(name, correct/total))#印出準確率\n",
    "        \n",
    "validate(model, train_loader, val_loader)"
   ]
  },
  {
   "cell_type": "code",
   "execution_count": 89,
   "id": "da64bf5c",
   "metadata": {},
   "outputs": [],
   "source": [
    "torch.save(model.state_dict(), data_path + '/pretrained/birds_vs_airplane.pt') #包含 model 的所有參數，但不包含模型架構"
   ]
  },
  {
   "cell_type": "code",
   "execution_count": 92,
   "id": "e0ba6f0f",
   "metadata": {},
   "outputs": [
    {
     "data": {
      "text/plain": [
       "<All keys matched successfully>"
      ]
     },
     "execution_count": 92,
     "metadata": {},
     "output_type": "execute_result"
    }
   ],
   "source": [
    "loaded_model = Net().to(device=device) #必須確保在儲存參數之後，Net類別的定義未被更改\n",
    "#載入剛剛儲存的模型參數，並透過 map_location 直接指示 PyTorch 要載入到哪一個裝置\n",
    "loaded_model.load_state_dict(torch.load(data_path + '/pretrained/birds_vs_airplane.pt', map_location=device))"
   ]
  },
  {
   "cell_type": "code",
   "execution_count": 93,
   "id": "11b0eb7c",
   "metadata": {},
   "outputs": [],
   "source": [
    "class NetWidth(nn.Module): #創建一個名為 NetWidth 的子類別\n",
    "    def __init__(self):\n",
    "        super().__init__()\n",
    "        #僅定義卷積模組與線性模組\n",
    "        self.conv1 = nn.Conv2d(3, 32, kernel_size=3, padding=1)\n",
    "        self.conv2 = nn.Conv2d(32, 16, kernel_size=3, padding=1)\n",
    "        self.fc1 = nn.Linear(16 * 8 * 8, 32)\n",
    "        self.fc2 = nn.Linear(32, 2)\n",
    "        self.flatten = nn.Flatten()\n",
    "    \n",
    "    def forward(self, x):\n",
    "        out = F.max_pool2d(torch.tanh(self.conv1(x)), 2) #將最大化池和激活函數替換成函數式API\n",
    "        out = F.max_pool2d(torch.tanh(self.conv2(out)), 2)\n",
    "        #out = out.view(-1, 8 * 8 * 8) #之前省略的部分(扁平化卷積模組輸出) 書裡使用 view 自己壓平\n",
    "        out = self.flatten(out) #可用 flatten 讓 PyTorch 幫忙壓平\n",
    "        out = torch.tanh(self.fc1(out))\n",
    "        out = self.fc2(out)\n",
    "        \n",
    "        return out\n",
    "    \n",
    "class NetWidth(nn.Module): #創建一個名為 NetWidth 的子類別\n",
    "    def __init__(self, n_channel): #也可將寬度參數化\n",
    "        super().__init__()\n",
    "        #僅定義卷積模組與線性模組\n",
    "        self.n_channel = n_channel\n",
    "        self.conv1 = nn.Conv2d(3, n_channel, kernel_size=3, padding=1)\n",
    "        self.conv2 = nn.Conv2d(n_channel, n_channel // 2, kernel_size=3, padding=1)\n",
    "        self.fc1 = nn.Linear((n_channel // 2) * 8 * 8, 32)\n",
    "        self.fc2 = nn.Linear(32, 2)\n",
    "        self.flatten = nn.Flatten()\n",
    "    \n",
    "    def forward(self, x):\n",
    "        out = F.max_pool2d(torch.tanh(self.conv1(x)), 2) #將最大化池和激活函數替換成函數式API\n",
    "        out = F.max_pool2d(torch.tanh(self.conv2(out)), 2)\n",
    "        #out = out.view(-1, 8 * 8 * 8) #之前省略的部分(扁平化卷積模組輸出) 書裡使用 view 自己壓平\n",
    "        out = self.flatten(out) #可用 flatten 讓 PyTorch 幫忙壓平\n",
    "        out = torch.tanh(self.fc1(out))\n",
    "        out = self.fc2(out)\n",
    "        \n",
    "        return out"
   ]
  },
  {
   "cell_type": "code",
   "execution_count": 96,
   "id": "70e51437",
   "metadata": {},
   "outputs": [
    {
     "data": {
      "text/plain": [
       "38386"
      ]
     },
     "execution_count": 96,
     "metadata": {},
     "output_type": "execute_result"
    }
   ],
   "source": [
    "model = NetWidth(32).to(device = device)\n",
    "sum(p.numel() for p in model.parameters())"
   ]
  },
  {
   "cell_type": "code",
   "execution_count": 97,
   "id": "6fd615b1",
   "metadata": {},
   "outputs": [],
   "source": [
    "def training_loop_l2reg(n_epochs, optimizer, model, loss_fn, train_loader):\n",
    "    for epoch in range(1, n_epochs + 1):\n",
    "        loss_train = 0.0\n",
    "        for imgs, labels in train_loader: \n",
    "            imgs = imgs.to(device = device)\n",
    "            labels = labels.to(device = device) \n",
    "            \n",
    "            outputs = model(imgs)\n",
    "            loss = loss_fn(outputs, labels)\n",
    "            \n",
    "            #這裡是手動 weight decay，也可在 optimizer 裡就給參數 weight_decay\n",
    "            l2_lambda = 0.001\n",
    "            l2_norm = sum(p.pow(2.0).sum() for p in model.parameters()) #若要改用 L1常規化，只需將 pow() 改為 abs()即可\n",
    "            loss = loss + l2_lambda * l2_norm #把 L2懲罰項加入損失值\n",
    "            \n",
    "            optimizer.zero_grad()\n",
    "            loss.backward() \n",
    "            optimizer.step() \n",
    "            \n",
    "            loss_train += loss.item()\n",
    "        \n",
    "        if epoch == 1 or epoch % 10 == 0:\n",
    "            print('{} Epoch {}, Training loss {}'.format(datetime.datetime.now(), epoch, loss_train / len(train_loader)))"
   ]
  },
  {
   "cell_type": "code",
   "execution_count": 102,
   "id": "37ee24e8",
   "metadata": {},
   "outputs": [],
   "source": [
    "class NetDropout(nn.Module):\n",
    "    def __init__(self, n_chans1 =32): \n",
    "        super().__init__()\n",
    "        self.n_chans1 = n_chans1\n",
    "        self.conv1 = nn.Conv2d(3, n_chans1, kernel_size=3, padding=1)\n",
    "        #個別神經元被丟棄的機率為 0.4，換言之，經過 dropout 處理後，只會留下大約 60% 的神經元，且每一次留下的神經元基本是不相同\n",
    "        self.conv1_dropout = nn.Dropout2d(p=0.4)\n",
    "        self.conv2 = nn.Conv2d(n_chans1, n_chans1 // 2, kernel_size=3, padding=1)\n",
    "        self.conv2_dropout = nn.Dropout2d(p=0.4)\n",
    "        self.fc1 = nn.Linear((n_chans1 // 2) * 8 * 8, 32)\n",
    "        self.fc2 = nn.Linear(32, 2)\n",
    "        self.flatten = nn.Flatten()\n",
    "    \n",
    "    def forward(self, x):\n",
    "        out = F.max_pool2d(torch.tanh(self.conv1(x)), 2)\n",
    "        out = self.conv1_dropout(out)\n",
    "        out = F.max_pool2d(torch.tanh(self.conv2(out)), 2)\n",
    "        out = self.conv2_dropout(out)\n",
    "        #out = out.view(-1, 8 * 8 * 8) #之前省略的部分(扁平化卷積模組輸出) 書裡使用 view 自己壓平\n",
    "        out = self.flatten(out) #可用 flatten 讓 PyTorch 幫忙壓平\n",
    "        out = torch.tanh(self.fc1(out))\n",
    "        out = self.fc2(out)\n",
    "        \n",
    "        return out"
   ]
  },
  {
   "cell_type": "code",
   "execution_count": 99,
   "id": "dd749034",
   "metadata": {},
   "outputs": [
    {
     "data": {
      "text/plain": [
       "NetWidth(\n",
       "  (conv1): Conv2d(3, 32, kernel_size=(3, 3), stride=(1, 1), padding=(1, 1))\n",
       "  (conv2): Conv2d(32, 16, kernel_size=(3, 3), stride=(1, 1), padding=(1, 1))\n",
       "  (fc1): Linear(in_features=1024, out_features=32, bias=True)\n",
       "  (fc2): Linear(in_features=32, out_features=2, bias=True)\n",
       "  (flatten): Flatten(start_dim=1, end_dim=-1)\n",
       ")"
      ]
     },
     "execution_count": 99,
     "metadata": {},
     "output_type": "execute_result"
    }
   ],
   "source": [
    "#用來控制 dropout 是否啟動\n",
    "model.eval()\n",
    "model.train()"
   ]
  },
  {
   "cell_type": "code",
   "execution_count": 101,
   "id": "422d4f40",
   "metadata": {},
   "outputs": [],
   "source": [
    "class NetBatchNorm(nn.Module):\n",
    "    def __init__(self, n_chans1 =32): \n",
    "        super().__init__()\n",
    "        self.n_chans1 = n_chans1\n",
    "        self.conv1 = nn.Conv2d(3, n_chans1, kernel_size=3, padding=1)\n",
    "        self.con1_batchnorm = nn.BatchNorm2d(num_features=n_chans1)\n",
    "        self.conv2 = nn.Conv2d(n_chans1, n_chans1 // 2, kernel_size=3, padding=1)\n",
    "        self.con2_batchnorm = nn.BatchNorm2d(num_features=n_chans1//2)\n",
    "        self.fc1 = nn.Linear((n_chans1 // 2) * 8 * 8, 32)\n",
    "        self.fc2 = nn.Linear(32, 2)\n",
    "        self.flatten = nn.Flatten()\n",
    "    \n",
    "    def forward(self, x):\n",
    "        out = self.conv1.batchnorm(self.conv1(x))\n",
    "        out = F.max_pool2d(torch.tanh(out), 2)\n",
    "        out = self.conv2.batchnorm(out)\n",
    "        out = F.max_pool2d(torch.tanh(self.conv2(out)), 2)\n",
    "        #out = out.view(-1, 8 * 8 * 8) #之前省略的部分(扁平化卷積模組輸出) 書裡使用 view 自己壓平\n",
    "        out = self.flatten(out) #可用 flatten 讓 PyTorch 幫忙壓平\n",
    "        out = torch.tanh(self.fc1(out))\n",
    "        out = self.fc2(out)\n",
    "        \n",
    "        return out"
   ]
  },
  {
   "cell_type": "code",
   "execution_count": 103,
   "id": "ee9c0a39",
   "metadata": {},
   "outputs": [],
   "source": [
    "class NetDepth(nn.Module):\n",
    "    def __init__(self, n_chans1 =32): \n",
    "        super().__init__()\n",
    "        self.n_chans1 = n_chans1\n",
    "        self.conv1 = nn.Conv2d(3, n_chans1, kernel_size=3, padding=1)\n",
    "        self.conv2 = nn.Conv2d(n_chans1, n_chans1 // 2, kernel_size=3, padding=1)\n",
    "        self.conv3 = nn.Conv2d(n_chans1 // 2, n_chans1 // 2, kernel_size=3, padding=1)\n",
    "        self.fc1 = nn.Linear((n_chans1 // 2) * 4 * 4, 32)\n",
    "        self.fc2 = nn.Linear(32, 2)\n",
    "        self.flatten = nn.Flatten()\n",
    "    \n",
    "    def forward(self, x):\n",
    "        out = F.max_pool2d(torch.relu(self.conv1(x)), 2)\n",
    "        out = F.max_pool2d(torch.relu(self.conv2(out)), 2)\n",
    "        out = F.max_pool2d(torch.relu(self.conv3(out)), 2) #此處多加了一層卷積模組，變成總共有 3 層卷積層\n",
    "        #out = out.view(-1, 8 * 8 * 8) #之前省略的部分(扁平化卷積模組輸出) 書裡使用 view 自己壓平\n",
    "        out = self.flatten(out) #可用 flatten 讓 PyTorch 幫忙壓平\n",
    "        out = torch.relu(self.fc1(out))\n",
    "        out = self.fc2(out)\n",
    "        \n",
    "        return out"
   ]
  },
  {
   "cell_type": "code",
   "execution_count": null,
   "id": "8b771681",
   "metadata": {},
   "outputs": [],
   "source": [
    "class NetRes(nn.Module):\n",
    "    def __init__(self, n_chans1 =32): \n",
    "        super().__init__()\n",
    "        self.n_chans1 = n_chans1\n",
    "        self.conv1 = nn.Conv2d(3, n_chans1, kernel_size=3, padding=1)\n",
    "        self.conv2 = nn.Conv2d(n_chans1, n_chans1 // 2, kernel_size=3, padding=1)\n",
    "        self.conv3 = nn.Conv2d(n_chans1 // 2, n_chans1 // 2, kernel_size=3, padding=1)\n",
    "        self.fc1 = nn.Linear((n_chans1 // 2) * 4 * 4, 32)\n",
    "        self.fc2 = nn.Linear(32, 2)\n",
    "        self.flatten = nn.Flatten()\n",
    "    \n",
    "    def forward(self, x):\n",
    "        out = F.max_pool2d(torch.relu(self.conv1(x)), 2)\n",
    "        out = F.max_pool2d(torch.relu(self.conv2(out)), 2)\n",
    "        \n",
    "        out1 = out\n",
    "        out = F.max_pool2d(torch.relu(self.conv3(out)) + out1, 2) #殘差處理\n",
    "        \n",
    "        #out = out.view(-1, 8 * 8 * 8) #之前省略的部分(扁平化卷積模組輸出) 書裡使用 view 自己壓平\n",
    "        out = self.flatten(out) #可用 flatten 讓 PyTorch 幫忙壓平\n",
    "        out = torch.relu(self.fc1(out))\n",
    "        out = self.fc2(out)\n",
    "        \n",
    "        return out"
   ]
  },
  {
   "cell_type": "code",
   "execution_count": 108,
   "id": "86a121c7",
   "metadata": {},
   "outputs": [],
   "source": [
    "class ResBlock(nn.Module):\n",
    "    def __init__(self, n_chans):\n",
    "        super().__init__()\n",
    "        #由於 BatchNorm 層會抵消偏值的作用，因此這裡將偏值設為 False\n",
    "        self.conv = nn.Conv2d(n_chans, n_chans, kernel_size=3, padding=1, bias=False)\n",
    "        self.batch_norm = nn.BatchNorm2d(num_features=n_chans)\n",
    "        \n",
    "        #這裡使用了客製的初始化方法 .kaiming_normal_，其利用與原始 ResNet 論文相同的標準差產生正規化的隨機元素。\n",
    "        #在初始階段，batch_norm 的輸出分佈平均值為 0、標準差為 0.5\n",
    "        torch.nn.init.kaiming_normal_(self.conv.weight, nonlinearity='relu')\n",
    "        torch.nn.init.constant_(self.batch_norm.weight, 0.5)\n",
    "        torch.nn.init.zeros_(self.batch_norm.bias)\n",
    "        \n",
    "    def forward(self, x):\n",
    "        out = self.conv(x)\n",
    "        out = self.batch_norm(out)\n",
    "        out = torch.relu(out)\n",
    "        return out + x"
   ]
  },
  {
   "cell_type": "code",
   "execution_count": 110,
   "id": "4d686d41",
   "metadata": {},
   "outputs": [],
   "source": [
    "class NetResDeep(nn.Module):\n",
    "    def __init__(self, n_chans1=32, n_blocks=1):\n",
    "        super().__init__()\n",
    "        self.n_chans1 = n_chans1\n",
    "        self.conv1 = nn.Conv2d(3, n_chans1, kernel_size=3, padding=1)\n",
    "        self.resblocks = nn.Sequential(*(n_blocks * [ResBlock(n_chans=n_chans1)])) #將 n_blocks 個殘差塊組合在一起\n",
    "        self.flatten = nn.Flatten()\n",
    "        self.fc1 = nn.Linear(8 * 8 * n_chans1, 32)\n",
    "        self.fc2 = nn.Linear(32, 2)\n",
    "    \n",
    "    def forward(self, x):\n",
    "        out = F.max_pool2d(torch.relu(self.conv1(x)), 2)\n",
    "        out = self.resblocks(out)\n",
    "        out = F.max_pool2d(out, 2)\n",
    "        out = self.flatten(out)\n",
    "        out = torch.relu(self.fc1(out))\n",
    "        out = self.fc2(out)\n",
    "        return out"
   ]
  },
  {
   "cell_type": "code",
   "execution_count": 119,
   "id": "2d195d1c",
   "metadata": {},
   "outputs": [
    {
     "name": "stdout",
     "output_type": "stream",
     "text": [
      "2021-08-22 19:58:48.463146 Epoch 1, Training loss 0.41343583897420555\n",
      "2021-08-22 19:58:52.920702 Epoch 10, Training loss 0.17855342553489528\n",
      "2021-08-22 19:58:57.884057 Epoch 20, Training loss 0.07576872475421542\n",
      "2021-08-22 19:59:02.842903 Epoch 30, Training loss 0.015435591232547667\n",
      "2021-08-22 19:59:07.783312 Epoch 40, Training loss 0.0032385249846840314\n",
      "2021-08-22 19:59:12.756212 Epoch 50, Training loss 0.001958803034974796\n",
      "2021-08-22 19:59:17.749145 Epoch 60, Training loss 0.001706862446420476\n",
      "2021-08-22 19:59:22.737815 Epoch 70, Training loss 0.001496302496414234\n",
      "2021-08-22 19:59:27.758555 Epoch 80, Training loss 0.05298970217051305\n",
      "2021-08-22 19:59:32.804266 Epoch 90, Training loss 0.0018397006167285737\n",
      "2021-08-22 19:59:37.816476 Epoch 100, Training loss 0.0013244326349131311\n",
      "2021-08-22 19:59:42.800519 Epoch 110, Training loss 0.0012356443769983639\n",
      "2021-08-22 19:59:47.773212 Epoch 120, Training loss 0.001210782686574681\n",
      "2021-08-22 19:59:52.749085 Epoch 130, Training loss 0.0012824830918344461\n",
      "2021-08-22 19:59:57.723748 Epoch 140, Training loss 0.0012490672202466447\n",
      "2021-08-22 20:00:02.760221 Epoch 150, Training loss 0.0011748804362625355\n",
      "2021-08-22 20:00:07.819776 Epoch 160, Training loss 0.0011903277937927918\n",
      "2021-08-22 20:00:12.854000 Epoch 170, Training loss 0.07057384914083845\n",
      "2021-08-22 20:00:17.849941 Epoch 180, Training loss 0.001486564150275099\n",
      "2021-08-22 20:00:22.881853 Epoch 190, Training loss 0.0010693690944967233\n",
      "2021-08-22 20:00:27.883381 Epoch 200, Training loss 0.0010672209828507724\n"
     ]
    }
   ],
   "source": [
    "train_loader = torch.utils.data.DataLoader(cifar2, batch_size=64, shuffle=True)\n",
    "\n",
    "model = NetResDeep(32, 3).to(device=device) \n",
    "\n",
    "optimizer = torch.optim.SGD(model.parameters(), lr=3e-3, momentum=0.9, weight_decay=1e-3) #隨機梯度下降優化器\n",
    "loss_fn = nn.CrossEntropyLoss() #交叉熵損失函數\n",
    "\n",
    "model.train()\n",
    "#呼叫稍早之前定義的訓練迴圈\n",
    "training_loop(n_epochs = 200, \n",
    "              optimizer = optimizer,\n",
    "              model = model,\n",
    "              loss_fn = loss_fn,\n",
    "              train_loader = train_loader,\n",
    "             )"
   ]
  },
  {
   "cell_type": "code",
   "execution_count": 121,
   "id": "48efa15c",
   "metadata": {},
   "outputs": [
    {
     "name": "stdout",
     "output_type": "stream",
     "text": [
      "Accuracy train: 0.99\n",
      "Accuracy val: 0.90\n"
     ]
    }
   ],
   "source": [
    "train_loader = torch.utils.data.DataLoader(cifar2, batch_size=64, shuffle=False) #取得訓練資料集(推論階段，不用洗牌)\n",
    "\n",
    "val_loader = torch.utils.data.DataLoader(cifar2_val, batch_size=64, shuffle=False) #取得驗證資料集(推論階段，不用洗牌)\n",
    "        \n",
    "model.eval()\n",
    "validate(model, train_loader, val_loader)"
   ]
  },
  {
   "cell_type": "code",
   "execution_count": 122,
   "id": "6c787896",
   "metadata": {},
   "outputs": [],
   "source": [
    "torch.save(model.state_dict(), data_path + '/pretrained/birds_vs_airplane_resnet.pt')"
   ]
  },
  {
   "cell_type": "code",
   "execution_count": 124,
   "id": "78a0a97f",
   "metadata": {},
   "outputs": [
    {
     "data": {
      "text/plain": [
       "<All keys matched successfully>"
      ]
     },
     "execution_count": 124,
     "metadata": {},
     "output_type": "execute_result"
    }
   ],
   "source": [
    "loaded_model = NetResDeep(32, 3).to(device=device) \n",
    "loaded_model.load_state_dict(torch.load(data_path + '/pretrained/birds_vs_airplane_resnet.pt', map_location=device))"
   ]
  }
 ],
 "metadata": {
  "kernelspec": {
   "display_name": "Python 3",
   "language": "python",
   "name": "python3"
  },
  "language_info": {
   "codemirror_mode": {
    "name": "ipython",
    "version": 3
   },
   "file_extension": ".py",
   "mimetype": "text/x-python",
   "name": "python",
   "nbconvert_exporter": "python",
   "pygments_lexer": "ipython3",
   "version": "3.6.8"
  }
 },
 "nbformat": 4,
 "nbformat_minor": 5
}
