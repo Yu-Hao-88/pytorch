{
 "cells": [
  {
   "cell_type": "code",
   "execution_count": 1,
   "id": "afa5277d",
   "metadata": {},
   "outputs": [],
   "source": [
    "#3.2 多維張量\n",
    "a = [1.0, 2.0, 1.0]"
   ]
  },
  {
   "cell_type": "code",
   "execution_count": 2,
   "id": "b508543c",
   "metadata": {},
   "outputs": [
    {
     "data": {
      "text/plain": [
       "1.0"
      ]
     },
     "execution_count": 2,
     "metadata": {},
     "output_type": "execute_result"
    }
   ],
   "source": [
    "a[0]"
   ]
  },
  {
   "cell_type": "code",
   "execution_count": 3,
   "id": "5c7145ef",
   "metadata": {},
   "outputs": [
    {
     "data": {
      "text/plain": [
       "[3.0, 2.0, 1.0]"
      ]
     },
     "execution_count": 3,
     "metadata": {},
     "output_type": "execute_result"
    }
   ],
   "source": [
    "a[0] = 3.0\n",
    "a"
   ]
  },
  {
   "cell_type": "code",
   "execution_count": 4,
   "id": "5589c4ac",
   "metadata": {},
   "outputs": [
    {
     "data": {
      "text/plain": [
       "tensor([1., 1., 1.])"
      ]
     },
     "execution_count": 4,
     "metadata": {},
     "output_type": "execute_result"
    }
   ],
   "source": [
    "import torch #匯入 torch 模組\n",
    "a = torch.ones(3) #創建一個 3 維的 1 軸張量，其元素皆為 1 \n",
    "a"
   ]
  },
  {
   "cell_type": "code",
   "execution_count": 5,
   "id": "0e230ef8",
   "metadata": {},
   "outputs": [
    {
     "data": {
      "text/plain": [
       "tensor(1.)"
      ]
     },
     "execution_count": 5,
     "metadata": {},
     "output_type": "execute_result"
    }
   ],
   "source": [
    "a[1] #印出索引為 1 的元素"
   ]
  },
  {
   "cell_type": "code",
   "execution_count": 6,
   "id": "0db5573a",
   "metadata": {},
   "outputs": [
    {
     "data": {
      "text/plain": [
       "1.0"
      ]
     },
     "execution_count": 6,
     "metadata": {},
     "output_type": "execute_result"
    }
   ],
   "source": [
    "float(a[1]) #將 a[1] 轉換為浮點數後再輸出"
   ]
  },
  {
   "cell_type": "code",
   "execution_count": 7,
   "id": "01148711",
   "metadata": {},
   "outputs": [
    {
     "data": {
      "text/plain": [
       "tensor([1., 1., 2.])"
      ]
     },
     "execution_count": 7,
     "metadata": {},
     "output_type": "execute_result"
    }
   ],
   "source": [
    "a[2] = 2.0 #修改索引為 2 的元素\n",
    "a"
   ]
  },
  {
   "cell_type": "code",
   "execution_count": 8,
   "id": "b3e3d189",
   "metadata": {},
   "outputs": [
    {
     "data": {
      "text/plain": [
       "tensor([4., 1., 5., 3., 2., 1.])"
      ]
     },
     "execution_count": 8,
     "metadata": {},
     "output_type": "execute_result"
    }
   ],
   "source": [
    "points = torch.zeros(6) #利用 zeros() 來創建初始元素值皆為 0 的 1 軸張量\n",
    "points[0] = 4.0 #點 A 的 x 座標\n",
    "points[1] = 1.0 #點 A 的 y 座標\n",
    "points[2] = 5.0 #點 B 的 x 座標\n",
    "points[3] = 3.0 #點 B 的 y 座標\n",
    "points[4] = 2.0 #點 C 的 x 座標\n",
    "points[5] = 1.0 #點 C 的 y 座標\n",
    "points"
   ]
  },
  {
   "cell_type": "code",
   "execution_count": 9,
   "id": "a6fd7990",
   "metadata": {},
   "outputs": [
    {
     "data": {
      "text/plain": [
       "tensor([4., 1., 5., 3., 2., 1.])"
      ]
     },
     "execution_count": 9,
     "metadata": {},
     "output_type": "execute_result"
    }
   ],
   "source": [
    "points = torch.tensor([4.0, 1.0, 5.0, 3.0, 2.0, 1.0]) #存有座標值的串列\n",
    "points"
   ]
  },
  {
   "cell_type": "code",
   "execution_count": 10,
   "id": "3c0191f8",
   "metadata": {},
   "outputs": [
    {
     "data": {
      "text/plain": [
       "(4.0, 1.0)"
      ]
     },
     "execution_count": 10,
     "metadata": {},
     "output_type": "execute_result"
    }
   ],
   "source": [
    "#點 A 的 x 座標, 點 A 的 x 座標\n",
    "float(points[0]), float(points[1])"
   ]
  },
  {
   "cell_type": "code",
   "execution_count": 11,
   "id": "e973d2a7",
   "metadata": {},
   "outputs": [
    {
     "data": {
      "text/plain": [
       "tensor([4., 1.])"
      ]
     },
     "execution_count": 11,
     "metadata": {},
     "output_type": "execute_result"
    }
   ],
   "source": [
    "points = torch.tensor([[4.0, 1.0], [5.0, 3.0], [2.0, 1.0]])\n",
    "points[0] #用索引 0 來提取點 A 的座標值"
   ]
  },
  {
   "cell_type": "code",
   "execution_count": 12,
   "id": "748a7449",
   "metadata": {},
   "outputs": [
    {
     "data": {
      "text/plain": [
       "torch.Size([3, 2])"
      ]
     },
     "execution_count": 12,
     "metadata": {},
     "output_type": "execute_result"
    }
   ],
   "source": [
    "points.shape #shape 會回傳張量在每個軸的維度\n",
    "# 輸出: torch.Size([3, 2]) 表示 points 為 2 軸張量，第 0 軸有 3 維，第 1 軸有 2 維。"
   ]
  },
  {
   "cell_type": "code",
   "execution_count": 13,
   "id": "128c2040",
   "metadata": {},
   "outputs": [
    {
     "data": {
      "text/plain": [
       "tensor([[0., 0.],\n",
       "        [0., 0.],\n",
       "        [0., 0.]])"
      ]
     },
     "execution_count": 13,
     "metadata": {},
     "output_type": "execute_result"
    }
   ],
   "source": [
    "points = torch.zeros(3, 2) #創建一個元素值全為 0 的張量，並指定期 shape 為(3,2)\n",
    "points"
   ]
  },
  {
   "cell_type": "code",
   "execution_count": 14,
   "id": "c850b773",
   "metadata": {},
   "outputs": [
    {
     "data": {
      "text/plain": [
       "tensor([[4., 1.],\n",
       "        [5., 3.],\n",
       "        [2., 1.]])"
      ]
     },
     "execution_count": 14,
     "metadata": {},
     "output_type": "execute_result"
    }
   ],
   "source": [
    "points = torch.tensor([[4.0, 1.0], [5.0, 3.0], [2.0, 1.0]]) #先創建一個 2 軸張量\n",
    "points"
   ]
  },
  {
   "cell_type": "code",
   "execution_count": 15,
   "id": "76e62b44",
   "metadata": {},
   "outputs": [
    {
     "data": {
      "text/plain": [
       "tensor(1.)"
      ]
     },
     "execution_count": 15,
     "metadata": {},
     "output_type": "execute_result"
    }
   ],
   "source": [
    "points[0, 1] #取出第 0 列，第 1 行的元素"
   ]
  },
  {
   "cell_type": "code",
   "execution_count": 16,
   "id": "283e837d",
   "metadata": {},
   "outputs": [
    {
     "data": {
      "text/plain": [
       "[0, 1, 2, 3, 4, 5]"
      ]
     },
     "execution_count": 16,
     "metadata": {},
     "output_type": "execute_result"
    }
   ],
   "source": [
    "#3.3 利用索引值操作張量\n",
    "some_list = list(range(6)) #產生一個 0 到 5 的數字串列\n",
    "some_list[:] #提取串列中所有元素"
   ]
  },
  {
   "cell_type": "code",
   "execution_count": 17,
   "id": "9812a9aa",
   "metadata": {},
   "outputs": [
    {
     "data": {
      "text/plain": [
       "[0, 1, 2, 3]"
      ]
     },
     "execution_count": 17,
     "metadata": {},
     "output_type": "execute_result"
    }
   ],
   "source": [
    "some_list[0:4] #提取第 0 個到第 3 個元素"
   ]
  },
  {
   "cell_type": "code",
   "execution_count": 18,
   "id": "229589b2",
   "metadata": {},
   "outputs": [
    {
     "data": {
      "text/plain": [
       "[1, 2, 3, 4, 5]"
      ]
     },
     "execution_count": 18,
     "metadata": {},
     "output_type": "execute_result"
    }
   ],
   "source": [
    "some_list[1:] #提取第 1 個元素到最後一個元素"
   ]
  },
  {
   "cell_type": "code",
   "execution_count": 19,
   "id": "03819000",
   "metadata": {},
   "outputs": [
    {
     "data": {
      "text/plain": [
       "[0, 1, 2, 3]"
      ]
     },
     "execution_count": 19,
     "metadata": {},
     "output_type": "execute_result"
    }
   ],
   "source": [
    "some_list[:4] #提取第 0 個元素到第 3 個元素"
   ]
  },
  {
   "cell_type": "code",
   "execution_count": 20,
   "id": "174369a5",
   "metadata": {},
   "outputs": [
    {
     "data": {
      "text/plain": [
       "[0, 1, 2, 3, 4]"
      ]
     },
     "execution_count": 20,
     "metadata": {},
     "output_type": "execute_result"
    }
   ],
   "source": [
    "some_list[:-1] #提取第 0 個到倒數第二個元素"
   ]
  },
  {
   "cell_type": "code",
   "execution_count": 21,
   "id": "f187e715",
   "metadata": {},
   "outputs": [
    {
     "data": {
      "text/plain": [
       "[1, 3]"
      ]
     },
     "execution_count": 21,
     "metadata": {},
     "output_type": "execute_result"
    }
   ],
   "source": [
    "some_list[1:4:2] #從第 1 個元素到第 3 個元素，每次間隔 2 個元素"
   ]
  },
  {
   "cell_type": "code",
   "execution_count": 22,
   "id": "3579add4",
   "metadata": {},
   "outputs": [
    {
     "data": {
      "text/plain": [
       "tensor([[4., 1.],\n",
       "        [5., 3.],\n",
       "        [2., 1.]])"
      ]
     },
     "execution_count": 22,
     "metadata": {},
     "output_type": "execute_result"
    }
   ],
   "source": [
    "points #利用前面的 points 張量"
   ]
  },
  {
   "cell_type": "code",
   "execution_count": 23,
   "id": "023642fa",
   "metadata": {},
   "outputs": [
    {
     "data": {
      "text/plain": [
       "tensor([[5., 3.],\n",
       "        [2., 1.]])"
      ]
     },
     "execution_count": 23,
     "metadata": {},
     "output_type": "execute_result"
    }
   ],
   "source": [
    "points[1:, :] #提取第 1 列起所有元素"
   ]
  },
  {
   "cell_type": "code",
   "execution_count": 24,
   "id": "314ad15c",
   "metadata": {},
   "outputs": [
    {
     "data": {
      "text/plain": [
       "tensor([5., 2.])"
      ]
     },
     "execution_count": 24,
     "metadata": {},
     "output_type": "execute_result"
    }
   ],
   "source": [
    "points[1:, 0] #提取第 1 列起，位於第 0 行的元素"
   ]
  },
  {
   "cell_type": "code",
   "execution_count": 25,
   "id": "fec0841b",
   "metadata": {},
   "outputs": [
    {
     "name": "stderr",
     "output_type": "stream",
     "text": [
      "d:\\anaconda\\envs\\pytorch\\lib\\site-packages\\ipykernel_launcher.py:4: UserWarning: Named tensors and all their associated APIs are an experimental feature and subject to change. Please do not use them for anything important until they are released as stable. (Triggered internally at  ..\\c10/core/TensorImpl.h:1156.)\n",
      "  after removing the cwd from sys.path.\n"
     ]
    },
    {
     "data": {
      "text/plain": [
       "tensor([0.2126, 0.7152, 0.0722], names=('channels',))"
      ]
     },
     "execution_count": 25,
     "metadata": {},
     "output_type": "execute_result"
    }
   ],
   "source": [
    "#為張量命名\n",
    "\n",
    "#將第 0 軸命名為channels，此張量只有一個軸，shape 為 (3,)\n",
    "weights_named = torch.tensor([0.2126, 0.7152, 0.0722], names=['channels'])\n",
    "weights_named"
   ]
  },
  {
   "cell_type": "code",
   "execution_count": 26,
   "id": "39792082",
   "metadata": {},
   "outputs": [
    {
     "name": "stdout",
     "output_type": "stream",
     "text": [
      "img named: torch.Size([3, 5, 5]) ('channels', 'rows', 'columns')\n",
      "batch named: torch.Size([2, 3, 5, 5]) (None, 'channels', 'rows', 'columns')\n"
     ]
    }
   ],
   "source": [
    "img_t = torch.randn(3, 5, 5) #創建一個 3 軸張量\n",
    "batch_t = torch.randn(2, 3, 5, 5) #創建一個 4 軸張量\n",
    "\n",
    "img_named = img_t.refine_names(..., 'channels', 'rows', 'columns') #針對張量最後三個軸分別命名，'...'表示要略過該軸\n",
    "batch_named = batch_t.refine_names(..., 'channels', 'rows', 'columns')\n",
    "\n",
    "print(\"img named:\", img_named.shape, img_named.names)\n",
    "print(\"batch named:\", batch_named.shape, batch_named.names) #未命名的軸以 none 表示"
   ]
  },
  {
   "cell_type": "code",
   "execution_count": 27,
   "id": "59e5331a",
   "metadata": {},
   "outputs": [
    {
     "data": {
      "text/plain": [
       "(torch.Size([3, 1, 1]), ('channels', 'rows', 'columns'))"
      ]
     },
     "execution_count": 27,
     "metadata": {},
     "output_type": "execute_result"
    }
   ],
   "source": [
    "#weights_named 為 1 軸張量，只有 channels 軸\n",
    "weights_aligned = weights_named.align_as(img_named) #align_as 會將前者對齊後者的軸順序並自動擴張\n",
    "weights_aligned.shape, weights_aligned.names #變成 1 個 3 軸張量，自動添加 rows 和 columns 軸"
   ]
  },
  {
   "cell_type": "code",
   "execution_count": 28,
   "id": "2e5a97c4",
   "metadata": {},
   "outputs": [
    {
     "data": {
      "text/plain": [
       "tensor([[[ 1.4493e-01, -1.0694e-02, -9.6964e-02,  7.9767e-02, -1.4366e-01],\n",
       "         [-1.3180e-01, -1.0499e-01,  4.5727e-01,  2.5240e-01, -1.5206e-02],\n",
       "         [ 2.0946e-02, -9.2050e-02, -4.9546e-02,  2.9886e-02,  9.6666e-02],\n",
       "         [ 2.4582e-01, -1.1718e-01, -1.2161e-01,  1.9325e-01, -6.7592e-02],\n",
       "         [ 3.9028e-02,  1.1417e-01,  1.4450e-01, -1.0200e-01, -4.0800e-01]],\n",
       "\n",
       "        [[ 1.4487e+00, -1.3027e+00, -1.1495e-01,  1.8600e-01, -1.0799e-01],\n",
       "         [-2.2003e-01,  7.8611e-02,  1.1570e+00,  9.8800e-01,  2.5580e-01],\n",
       "         [ 3.6400e-01,  8.0208e-01, -4.2785e-01, -1.3363e+00,  1.0139e+00],\n",
       "         [ 8.7191e-01,  9.6430e-01,  5.9342e-01, -3.2455e-01,  8.9122e-01],\n",
       "         [ 1.1741e+00, -5.1544e-02, -1.9774e-01,  1.2507e+00,  7.7006e-01]],\n",
       "\n",
       "        [[-7.9737e-03, -4.9871e-02,  9.5006e-02, -1.2773e-03,  4.7520e-03],\n",
       "         [-6.7919e-02, -7.0340e-02, -7.2117e-02, -8.1415e-02,  2.0171e-02],\n",
       "         [ 9.5163e-04,  2.7933e-02, -1.2786e-01,  4.4112e-03,  5.8304e-02],\n",
       "         [-1.4573e-01, -9.7667e-02,  5.4842e-02, -1.3638e-02,  1.5690e-01],\n",
       "         [ 1.4551e-01, -4.0749e-02, -8.5976e-03,  5.4242e-02, -6.1202e-03]]],\n",
       "       names=('channels', 'rows', 'columns'))"
      ]
     },
     "execution_count": 28,
     "metadata": {},
     "output_type": "execute_result"
    }
   ],
   "source": [
    "(img_named * weights_aligned)"
   ]
  },
  {
   "cell_type": "code",
   "execution_count": 29,
   "id": "b30a9997",
   "metadata": {},
   "outputs": [
    {
     "data": {
      "text/plain": [
       "(torch.Size([5, 5]), ('rows', 'columns'))"
      ]
     },
     "execution_count": 29,
     "metadata": {},
     "output_type": "execute_result"
    }
   ],
   "source": [
    "gray_named = (img_named * weights_aligned).sum('channels') #兩個張量相乘後，將 channels 軸內的子陣列加總\n",
    "gray_named.shape, gray_named.names"
   ]
  },
  {
   "cell_type": "code",
   "execution_count": 30,
   "id": "7679ea4c",
   "metadata": {},
   "outputs": [],
   "source": [
    "#若試圖將不同名稱的軸組合起來，系統會報錯:\n",
    "#gray_named = (img_named[:3] * weights_named).sum('channels')"
   ]
  },
  {
   "cell_type": "code",
   "execution_count": 31,
   "id": "7bedf016",
   "metadata": {},
   "outputs": [
    {
     "data": {
      "text/plain": [
       "(torch.Size([5, 5]), (None, None))"
      ]
     },
     "execution_count": 31,
     "metadata": {},
     "output_type": "execute_result"
    }
   ],
   "source": [
    "gray_plain = gray_named.rename(None) #將張量變回原本未命名的樣子\n",
    "gray_plain.shape, gray_plain.names"
   ]
  },
  {
   "cell_type": "code",
   "execution_count": 32,
   "id": "0f0d7828",
   "metadata": {},
   "outputs": [],
   "source": [
    "#3.5 張量的元素型別\n",
    "double_points = torch.ones(10, 2, dtype=torch.double) #指定該張量內的數值為 64 位元的雙精度浮點數\n",
    "short_points = torch.tensor([[1, 2], [3, 4]], dtype=torch.short) #指定該張量內的數值為 16 位元的整數"
   ]
  },
  {
   "cell_type": "code",
   "execution_count": 33,
   "id": "8d956003",
   "metadata": {},
   "outputs": [
    {
     "data": {
      "text/plain": [
       "torch.int16"
      ]
     },
     "execution_count": 33,
     "metadata": {},
     "output_type": "execute_result"
    }
   ],
   "source": [
    "short_points.dtype #呼叫 short_point 的 dtype 屬性"
   ]
  },
  {
   "cell_type": "code",
   "execution_count": 34,
   "id": "7e778e46",
   "metadata": {},
   "outputs": [
    {
     "name": "stdout",
     "output_type": "stream",
     "text": [
      "torch.float64\n",
      "torch.int16\n"
     ]
    }
   ],
   "source": [
    "double_points = torch.zeros(10, 2).double()\n",
    "short_points = torch.ones(10, 2).short()\n",
    "print(double_points.dtype)\n",
    "print(short_points.dtype)"
   ]
  },
  {
   "cell_type": "code",
   "execution_count": 35,
   "id": "96aba75f",
   "metadata": {},
   "outputs": [
    {
     "name": "stdout",
     "output_type": "stream",
     "text": [
      "torch.float64\n",
      "torch.int16\n"
     ]
    }
   ],
   "source": [
    "#to 會檢查張量原本的數值類型與我們指定的是否一致，若不一致則轉換。\n",
    "double_points = torch.zeros(10, 2).to(torch.double)\n",
    "short_points = torch.ones(10, 2).to(dtype=torch.short)\n",
    "print(double_points.dtype)\n",
    "print(short_points.dtype)"
   ]
  },
  {
   "cell_type": "code",
   "execution_count": 36,
   "id": "49809093",
   "metadata": {},
   "outputs": [
    {
     "data": {
      "text/plain": [
       "tensor([0., 0., 0., 0., 0.], dtype=torch.float64)"
      ]
     },
     "execution_count": 36,
     "metadata": {},
     "output_type": "execute_result"
    }
   ],
   "source": [
    "points_64 = torch.zeros(5, dtype=torch.double) #建立內含 5 個元素的 64 位元浮點數張量，其中元素值皆為 0\n",
    "points_short = points_64.to(torch.short) #設定 points_short 為 16 位元的整數張量\n",
    "points_64 * points_short #輸出結果為 64 位元的浮點數"
   ]
  },
  {
   "cell_type": "code",
   "execution_count": 37,
   "id": "33e9333b",
   "metadata": {},
   "outputs": [
    {
     "data": {
      "text/plain": [
       "(torch.Size([3, 2]), torch.Size([2, 3]))"
      ]
     },
     "execution_count": 37,
     "metadata": {},
     "output_type": "execute_result"
    }
   ],
   "source": [
    "#3.6 其他常用的張量功能\n",
    "a = torch.ones(3, 2) # 創建一個 shape 為 3x2 的 2 軸張量\n",
    "a_t = torch.transpose(a, 0, 1) #將 a 張量的第 0 軸與第 1 軸轉置\n",
    "a.shape, a_t.shape #印出 a 張量及 a_t 張量的 shape"
   ]
  },
  {
   "cell_type": "code",
   "execution_count": 38,
   "id": "53c559f9",
   "metadata": {},
   "outputs": [
    {
     "data": {
      "text/plain": [
       "(torch.Size([3, 2]), torch.Size([2, 3]))"
      ]
     },
     "execution_count": 38,
     "metadata": {},
     "output_type": "execute_result"
    }
   ],
   "source": [
    "a = torch.ones(3, 2)\n",
    "a_t = a.transpose(0, 1)#將 a 張量的第 0 軸與第 1 軸轉置，但此處是呼叫張量的 method\n",
    "a.shape, a_t.shape"
   ]
  }
 ],
 "metadata": {
  "kernelspec": {
   "display_name": "Python 3",
   "language": "python",
   "name": "python3"
  },
  "language_info": {
   "codemirror_mode": {
    "name": "ipython",
    "version": 3
   },
   "file_extension": ".py",
   "mimetype": "text/x-python",
   "name": "python",
   "nbconvert_exporter": "python",
   "pygments_lexer": "ipython3",
   "version": "3.6.8"
  }
 },
 "nbformat": 4,
 "nbformat_minor": 5
}
