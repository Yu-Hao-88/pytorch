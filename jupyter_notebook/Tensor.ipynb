{
 "cells": [
  {
   "cell_type": "code",
   "execution_count": 1,
   "id": "afa5277d",
   "metadata": {},
   "outputs": [],
   "source": [
    "#3.2 多維張量\n",
    "a = [1.0, 2.0, 1.0]"
   ]
  },
  {
   "cell_type": "code",
   "execution_count": 2,
   "id": "b508543c",
   "metadata": {},
   "outputs": [
    {
     "data": {
      "text/plain": [
       "1.0"
      ]
     },
     "execution_count": 2,
     "metadata": {},
     "output_type": "execute_result"
    }
   ],
   "source": [
    "a[0]"
   ]
  },
  {
   "cell_type": "code",
   "execution_count": 3,
   "id": "5c7145ef",
   "metadata": {},
   "outputs": [
    {
     "data": {
      "text/plain": [
       "[3.0, 2.0, 1.0]"
      ]
     },
     "execution_count": 3,
     "metadata": {},
     "output_type": "execute_result"
    }
   ],
   "source": [
    "a[0] = 3.0\n",
    "a"
   ]
  },
  {
   "cell_type": "code",
   "execution_count": 4,
   "id": "5589c4ac",
   "metadata": {},
   "outputs": [
    {
     "data": {
      "text/plain": [
       "tensor([1., 1., 1.])"
      ]
     },
     "execution_count": 4,
     "metadata": {},
     "output_type": "execute_result"
    }
   ],
   "source": [
    "import torch #匯入 torch 模組\n",
    "a = torch.ones(3) #創建一個 3 維的 1 軸張量，其元素皆為 1 \n",
    "a"
   ]
  },
  {
   "cell_type": "code",
   "execution_count": 5,
   "id": "0e230ef8",
   "metadata": {},
   "outputs": [
    {
     "data": {
      "text/plain": [
       "tensor(1.)"
      ]
     },
     "execution_count": 5,
     "metadata": {},
     "output_type": "execute_result"
    }
   ],
   "source": [
    "a[1] #印出索引為 1 的元素"
   ]
  },
  {
   "cell_type": "code",
   "execution_count": 6,
   "id": "0db5573a",
   "metadata": {},
   "outputs": [
    {
     "data": {
      "text/plain": [
       "1.0"
      ]
     },
     "execution_count": 6,
     "metadata": {},
     "output_type": "execute_result"
    }
   ],
   "source": [
    "float(a[1]) #將 a[1] 轉換為浮點數後再輸出"
   ]
  },
  {
   "cell_type": "code",
   "execution_count": 7,
   "id": "01148711",
   "metadata": {},
   "outputs": [
    {
     "data": {
      "text/plain": [
       "tensor([1., 1., 2.])"
      ]
     },
     "execution_count": 7,
     "metadata": {},
     "output_type": "execute_result"
    }
   ],
   "source": [
    "a[2] = 2.0 #修改索引為 2 的元素\n",
    "a"
   ]
  },
  {
   "cell_type": "code",
   "execution_count": 8,
   "id": "b3e3d189",
   "metadata": {},
   "outputs": [
    {
     "data": {
      "text/plain": [
       "tensor([4., 1., 5., 3., 2., 1.])"
      ]
     },
     "execution_count": 8,
     "metadata": {},
     "output_type": "execute_result"
    }
   ],
   "source": [
    "points = torch.zeros(6) #利用 zeros() 來創建初始元素值皆為 0 的 1 軸張量\n",
    "points[0] = 4.0 #點 A 的 x 座標\n",
    "points[1] = 1.0 #點 A 的 y 座標\n",
    "points[2] = 5.0 #點 B 的 x 座標\n",
    "points[3] = 3.0 #點 B 的 y 座標\n",
    "points[4] = 2.0 #點 C 的 x 座標\n",
    "points[5] = 1.0 #點 C 的 y 座標\n",
    "points"
   ]
  },
  {
   "cell_type": "code",
   "execution_count": 9,
   "id": "a6fd7990",
   "metadata": {},
   "outputs": [
    {
     "data": {
      "text/plain": [
       "tensor([4., 1., 5., 3., 2., 1.])"
      ]
     },
     "execution_count": 9,
     "metadata": {},
     "output_type": "execute_result"
    }
   ],
   "source": [
    "points = torch.tensor([4.0, 1.0, 5.0, 3.0, 2.0, 1.0]) #存有座標值的串列\n",
    "points"
   ]
  },
  {
   "cell_type": "code",
   "execution_count": 10,
   "id": "3c0191f8",
   "metadata": {},
   "outputs": [
    {
     "data": {
      "text/plain": [
       "(4.0, 1.0)"
      ]
     },
     "execution_count": 10,
     "metadata": {},
     "output_type": "execute_result"
    }
   ],
   "source": [
    "#點 A 的 x 座標, 點 A 的 x 座標\n",
    "float(points[0]), float(points[1])"
   ]
  },
  {
   "cell_type": "code",
   "execution_count": 11,
   "id": "e973d2a7",
   "metadata": {},
   "outputs": [
    {
     "data": {
      "text/plain": [
       "tensor([4., 1.])"
      ]
     },
     "execution_count": 11,
     "metadata": {},
     "output_type": "execute_result"
    }
   ],
   "source": [
    "points = torch.tensor([[4.0, 1.0], [5.0, 3.0], [2.0, 1.0]])\n",
    "points[0] #用索引 0 來提取點 A 的座標值"
   ]
  },
  {
   "cell_type": "code",
   "execution_count": 12,
   "id": "748a7449",
   "metadata": {},
   "outputs": [
    {
     "data": {
      "text/plain": [
       "torch.Size([3, 2])"
      ]
     },
     "execution_count": 12,
     "metadata": {},
     "output_type": "execute_result"
    }
   ],
   "source": [
    "points.shape #shape 會回傳張量在每個軸的維度\n",
    "# 輸出: torch.Size([3, 2]) 表示 points 為 2 軸張量，第 0 軸有 3 維，第 1 軸有 2 維。"
   ]
  },
  {
   "cell_type": "code",
   "execution_count": 13,
   "id": "128c2040",
   "metadata": {},
   "outputs": [
    {
     "data": {
      "text/plain": [
       "tensor([[0., 0.],\n",
       "        [0., 0.],\n",
       "        [0., 0.]])"
      ]
     },
     "execution_count": 13,
     "metadata": {},
     "output_type": "execute_result"
    }
   ],
   "source": [
    "points = torch.zeros(3, 2) #創建一個元素值全為 0 的張量，並指定期 shape 為(3,2)\n",
    "points"
   ]
  },
  {
   "cell_type": "code",
   "execution_count": 14,
   "id": "c850b773",
   "metadata": {},
   "outputs": [
    {
     "data": {
      "text/plain": [
       "tensor([[4., 1.],\n",
       "        [5., 3.],\n",
       "        [2., 1.]])"
      ]
     },
     "execution_count": 14,
     "metadata": {},
     "output_type": "execute_result"
    }
   ],
   "source": [
    "points = torch.tensor([[4.0, 1.0], [5.0, 3.0], [2.0, 1.0]]) #先創建一個 2 軸張量\n",
    "points"
   ]
  },
  {
   "cell_type": "code",
   "execution_count": 15,
   "id": "76e62b44",
   "metadata": {},
   "outputs": [
    {
     "data": {
      "text/plain": [
       "tensor(1.)"
      ]
     },
     "execution_count": 15,
     "metadata": {},
     "output_type": "execute_result"
    }
   ],
   "source": [
    "points[0, 1] #取出第 0 列，第 1 行的元素"
   ]
  },
  {
   "cell_type": "code",
   "execution_count": 16,
   "id": "283e837d",
   "metadata": {},
   "outputs": [
    {
     "data": {
      "text/plain": [
       "[0, 1, 2, 3, 4, 5]"
      ]
     },
     "execution_count": 16,
     "metadata": {},
     "output_type": "execute_result"
    }
   ],
   "source": [
    "#3.3 利用索引值操作張量\n",
    "some_list = list(range(6)) #產生一個 0 到 5 的數字串列\n",
    "some_list[:] #提取串列中所有元素"
   ]
  },
  {
   "cell_type": "code",
   "execution_count": 17,
   "id": "9812a9aa",
   "metadata": {},
   "outputs": [
    {
     "data": {
      "text/plain": [
       "[0, 1, 2, 3]"
      ]
     },
     "execution_count": 17,
     "metadata": {},
     "output_type": "execute_result"
    }
   ],
   "source": [
    "some_list[0:4] #提取第 0 個到第 3 個元素"
   ]
  },
  {
   "cell_type": "code",
   "execution_count": 18,
   "id": "229589b2",
   "metadata": {},
   "outputs": [
    {
     "data": {
      "text/plain": [
       "[1, 2, 3, 4, 5]"
      ]
     },
     "execution_count": 18,
     "metadata": {},
     "output_type": "execute_result"
    }
   ],
   "source": [
    "some_list[1:] #提取第 1 個元素到最後一個元素"
   ]
  },
  {
   "cell_type": "code",
   "execution_count": 19,
   "id": "03819000",
   "metadata": {},
   "outputs": [
    {
     "data": {
      "text/plain": [
       "[0, 1, 2, 3]"
      ]
     },
     "execution_count": 19,
     "metadata": {},
     "output_type": "execute_result"
    }
   ],
   "source": [
    "some_list[:4] #提取第 0 個元素到第 3 個元素"
   ]
  },
  {
   "cell_type": "code",
   "execution_count": 20,
   "id": "174369a5",
   "metadata": {},
   "outputs": [
    {
     "data": {
      "text/plain": [
       "[0, 1, 2, 3, 4]"
      ]
     },
     "execution_count": 20,
     "metadata": {},
     "output_type": "execute_result"
    }
   ],
   "source": [
    "some_list[:-1] #提取第 0 個到倒數第二個元素"
   ]
  },
  {
   "cell_type": "code",
   "execution_count": 21,
   "id": "f187e715",
   "metadata": {},
   "outputs": [
    {
     "data": {
      "text/plain": [
       "[1, 3]"
      ]
     },
     "execution_count": 21,
     "metadata": {},
     "output_type": "execute_result"
    }
   ],
   "source": [
    "some_list[1:4:2] #從第 1 個元素到第 3 個元素，每次間隔 2 個元素"
   ]
  },
  {
   "cell_type": "code",
   "execution_count": 22,
   "id": "3579add4",
   "metadata": {},
   "outputs": [
    {
     "data": {
      "text/plain": [
       "tensor([[4., 1.],\n",
       "        [5., 3.],\n",
       "        [2., 1.]])"
      ]
     },
     "execution_count": 22,
     "metadata": {},
     "output_type": "execute_result"
    }
   ],
   "source": [
    "points #利用前面的 points 張量"
   ]
  },
  {
   "cell_type": "code",
   "execution_count": 23,
   "id": "023642fa",
   "metadata": {},
   "outputs": [
    {
     "data": {
      "text/plain": [
       "tensor([[5., 3.],\n",
       "        [2., 1.]])"
      ]
     },
     "execution_count": 23,
     "metadata": {},
     "output_type": "execute_result"
    }
   ],
   "source": [
    "points[1:, :] #提取第 1 列起所有元素"
   ]
  },
  {
   "cell_type": "code",
   "execution_count": 24,
   "id": "314ad15c",
   "metadata": {},
   "outputs": [
    {
     "data": {
      "text/plain": [
       "tensor([5., 2.])"
      ]
     },
     "execution_count": 24,
     "metadata": {},
     "output_type": "execute_result"
    }
   ],
   "source": [
    "points[1:, 0] #提取第 1 列起，位於第 0 行的元素"
   ]
  },
  {
   "cell_type": "code",
   "execution_count": 25,
   "id": "fec0841b",
   "metadata": {},
   "outputs": [
    {
     "name": "stderr",
     "output_type": "stream",
     "text": [
      "d:\\anaconda\\envs\\pytorch\\lib\\site-packages\\ipykernel_launcher.py:4: UserWarning: Named tensors and all their associated APIs are an experimental feature and subject to change. Please do not use them for anything important until they are released as stable. (Triggered internally at  ..\\c10/core/TensorImpl.h:1156.)\n",
      "  after removing the cwd from sys.path.\n"
     ]
    },
    {
     "data": {
      "text/plain": [
       "tensor([0.2126, 0.7152, 0.0722], names=('channels',))"
      ]
     },
     "execution_count": 25,
     "metadata": {},
     "output_type": "execute_result"
    }
   ],
   "source": [
    "#為張量命名\n",
    "\n",
    "#將第 0 軸命名為channels，此張量只有一個軸，shape 為 (3,)\n",
    "weights_named = torch.tensor([0.2126, 0.7152, 0.0722], names=['channels'])\n",
    "weights_named"
   ]
  },
  {
   "cell_type": "code",
   "execution_count": 26,
   "id": "39792082",
   "metadata": {},
   "outputs": [
    {
     "name": "stdout",
     "output_type": "stream",
     "text": [
      "img named: torch.Size([3, 5, 5]) ('channels', 'rows', 'columns')\n",
      "batch named: torch.Size([2, 3, 5, 5]) (None, 'channels', 'rows', 'columns')\n"
     ]
    }
   ],
   "source": [
    "img_t = torch.randn(3, 5, 5) #創建一個 3 軸張量\n",
    "batch_t = torch.randn(2, 3, 5, 5) #創建一個 4 軸張量\n",
    "\n",
    "img_named = img_t.refine_names(..., 'channels', 'rows', 'columns') #針對張量最後三個軸分別命名，'...'表示要略過該軸\n",
    "batch_named = batch_t.refine_names(..., 'channels', 'rows', 'columns')\n",
    "\n",
    "print(\"img named:\", img_named.shape, img_named.names)\n",
    "print(\"batch named:\", batch_named.shape, batch_named.names) #未命名的軸以 none 表示"
   ]
  },
  {
   "cell_type": "code",
   "execution_count": 27,
   "id": "59e5331a",
   "metadata": {},
   "outputs": [
    {
     "data": {
      "text/plain": [
       "(torch.Size([3, 1, 1]), ('channels', 'rows', 'columns'))"
      ]
     },
     "execution_count": 27,
     "metadata": {},
     "output_type": "execute_result"
    }
   ],
   "source": [
    "#weights_named 為 1 軸張量，只有 channels 軸\n",
    "weights_aligned = weights_named.align_as(img_named) #align_as 會將前者對齊後者的軸順序並自動擴張\n",
    "weights_aligned.shape, weights_aligned.names #變成 1 個 3 軸張量，自動添加 rows 和 columns 軸"
   ]
  },
  {
   "cell_type": "code",
   "execution_count": 28,
   "id": "2e5a97c4",
   "metadata": {},
   "outputs": [
    {
     "data": {
      "text/plain": [
       "tensor([[[-0.1505,  0.0476,  0.0430, -0.0749,  0.0162],\n",
       "         [-0.0727, -0.0429,  0.0763,  0.0336,  0.3425],\n",
       "         [-0.5103, -0.2020, -0.0388, -0.0338, -0.0217],\n",
       "         [-0.0774,  0.2711,  0.2309, -0.1066,  0.0477],\n",
       "         [-0.2388,  0.3354, -0.1622, -0.3442, -0.2895]],\n",
       "\n",
       "        [[-1.0878,  0.7059,  0.1438, -0.1788, -0.6182],\n",
       "         [-0.3951,  0.2574,  0.4641,  0.0075, -0.8880],\n",
       "         [ 0.0406, -0.1926, -0.7543,  1.3226,  0.1801],\n",
       "         [-0.9436,  1.2400,  0.4850,  0.7961, -1.4018],\n",
       "         [ 1.3471,  0.1448, -1.0721,  0.4818, -0.3103]],\n",
       "\n",
       "        [[-0.0158,  0.0056, -0.0026,  0.0569,  0.0563],\n",
       "         [-0.0613, -0.0954, -0.0452, -0.0323,  0.0197],\n",
       "         [-0.0252,  0.0456, -0.0246, -0.0129,  0.0571],\n",
       "         [ 0.1728,  0.0192,  0.0491, -0.1073, -0.0429],\n",
       "         [-0.1136,  0.1430,  0.2094,  0.0382,  0.0652]]],\n",
       "       names=('channels', 'rows', 'columns'))"
      ]
     },
     "execution_count": 28,
     "metadata": {},
     "output_type": "execute_result"
    }
   ],
   "source": [
    "(img_named * weights_aligned)"
   ]
  },
  {
   "cell_type": "code",
   "execution_count": 29,
   "id": "b30a9997",
   "metadata": {},
   "outputs": [
    {
     "data": {
      "text/plain": [
       "(torch.Size([5, 5]), ('rows', 'columns'))"
      ]
     },
     "execution_count": 29,
     "metadata": {},
     "output_type": "execute_result"
    }
   ],
   "source": [
    "gray_named = (img_named * weights_aligned).sum('channels') #兩個張量相乘後，將 channels 軸內的子陣列加總\n",
    "gray_named.shape, gray_named.names"
   ]
  },
  {
   "cell_type": "code",
   "execution_count": 30,
   "id": "7679ea4c",
   "metadata": {},
   "outputs": [],
   "source": [
    "#若試圖將不同名稱的軸組合起來，系統會報錯:\n",
    "#gray_named = (img_named[:3] * weights_named).sum('channels')"
   ]
  },
  {
   "cell_type": "code",
   "execution_count": 31,
   "id": "7bedf016",
   "metadata": {},
   "outputs": [
    {
     "data": {
      "text/plain": [
       "(torch.Size([5, 5]), (None, None))"
      ]
     },
     "execution_count": 31,
     "metadata": {},
     "output_type": "execute_result"
    }
   ],
   "source": [
    "gray_plain = gray_named.rename(None) #將張量變回原本未命名的樣子\n",
    "gray_plain.shape, gray_plain.names"
   ]
  },
  {
   "cell_type": "code",
   "execution_count": 32,
   "id": "0f0d7828",
   "metadata": {},
   "outputs": [],
   "source": [
    "#3.5 張量的元素型別\n",
    "double_points = torch.ones(10, 2, dtype=torch.double) #指定該張量內的數值為 64 位元的雙精度浮點數\n",
    "short_points = torch.tensor([[1, 2], [3, 4]], dtype=torch.short) #指定該張量內的數值為 16 位元的整數"
   ]
  },
  {
   "cell_type": "code",
   "execution_count": 33,
   "id": "8d956003",
   "metadata": {},
   "outputs": [
    {
     "data": {
      "text/plain": [
       "torch.int16"
      ]
     },
     "execution_count": 33,
     "metadata": {},
     "output_type": "execute_result"
    }
   ],
   "source": [
    "short_points.dtype #呼叫 short_point 的 dtype 屬性"
   ]
  },
  {
   "cell_type": "code",
   "execution_count": 34,
   "id": "7e778e46",
   "metadata": {},
   "outputs": [
    {
     "name": "stdout",
     "output_type": "stream",
     "text": [
      "torch.float64\n",
      "torch.int16\n"
     ]
    }
   ],
   "source": [
    "double_points = torch.zeros(10, 2).double()\n",
    "short_points = torch.ones(10, 2).short()\n",
    "print(double_points.dtype)\n",
    "print(short_points.dtype)"
   ]
  },
  {
   "cell_type": "code",
   "execution_count": 35,
   "id": "96aba75f",
   "metadata": {},
   "outputs": [
    {
     "name": "stdout",
     "output_type": "stream",
     "text": [
      "torch.float64\n",
      "torch.int16\n"
     ]
    }
   ],
   "source": [
    "#to 會檢查張量原本的數值類型與我們指定的是否一致，若不一致則轉換。\n",
    "double_points = torch.zeros(10, 2).to(torch.double)\n",
    "short_points = torch.ones(10, 2).to(dtype=torch.short)\n",
    "print(double_points.dtype)\n",
    "print(short_points.dtype)"
   ]
  },
  {
   "cell_type": "code",
   "execution_count": 36,
   "id": "49809093",
   "metadata": {},
   "outputs": [
    {
     "data": {
      "text/plain": [
       "tensor([0., 0., 0., 0., 0.], dtype=torch.float64)"
      ]
     },
     "execution_count": 36,
     "metadata": {},
     "output_type": "execute_result"
    }
   ],
   "source": [
    "points_64 = torch.zeros(5, dtype=torch.double) #建立內含 5 個元素的 64 位元浮點數張量，其中元素值皆為 0\n",
    "points_short = points_64.to(torch.short) #設定 points_short 為 16 位元的整數張量\n",
    "points_64 * points_short #輸出結果為 64 位元的浮點數"
   ]
  },
  {
   "cell_type": "code",
   "execution_count": 37,
   "id": "88fd6455",
   "metadata": {},
   "outputs": [
    {
     "data": {
      "text/plain": [
       "(torch.Size([3, 2]), torch.Size([2, 3]))"
      ]
     },
     "execution_count": 37,
     "metadata": {},
     "output_type": "execute_result"
    }
   ],
   "source": [
    "#3.6 其他常用的張量功能\n",
    "a = torch.ones(3, 2) # 創建一個 shape 為 3x2 的 2 軸張量\n",
    "a_t = torch.transpose(a, 0, 1) #將 a 張量的第 0 軸與第 1 軸轉置\n",
    "a.shape, a_t.shape #印出 a 張量及 a_t 張量的 shape"
   ]
  },
  {
   "cell_type": "code",
   "execution_count": 38,
   "id": "4ecc26bb",
   "metadata": {},
   "outputs": [
    {
     "data": {
      "text/plain": [
       "(torch.Size([3, 2]), torch.Size([2, 3]))"
      ]
     },
     "execution_count": 38,
     "metadata": {},
     "output_type": "execute_result"
    }
   ],
   "source": [
    "a = torch.ones(3, 2)\n",
    "a_t = a.transpose(0, 1)#將 a 張量的第 0 軸與第 1 軸轉置，但此處是呼叫張量的 method\n",
    "a.shape, a_t.shape"
   ]
  },
  {
   "cell_type": "code",
   "execution_count": 39,
   "id": "a9d27003",
   "metadata": {},
   "outputs": [
    {
     "data": {
      "text/plain": [
       " 4.0\n",
       " 1.0\n",
       " 5.0\n",
       " 3.0\n",
       " 2.0\n",
       " 1.0\n",
       "[torch.FloatStorage of size 6]"
      ]
     },
     "execution_count": 39,
     "metadata": {},
     "output_type": "execute_result"
    }
   ],
   "source": [
    "#3.7 張量的儲存原理\n",
    "points = torch.tensor([[4.0, 1.0], [5.0, 3.0], [2.0, 1.0]]) #創建一個 3x2 的 2軸張量，用來存放 3個座標點\n",
    "points.storage() #輸出 points 張量的 storage"
   ]
  },
  {
   "cell_type": "code",
   "execution_count": 40,
   "id": "ee7ac188",
   "metadata": {},
   "outputs": [
    {
     "data": {
      "text/plain": [
       "4.0"
      ]
     },
     "execution_count": 40,
     "metadata": {},
     "output_type": "execute_result"
    }
   ],
   "source": [
    "points_storage = points.storage() #points_storage 為 points 張量的 shape\n",
    "points_storage[0] #取得 points_storage 中第 0 個元素"
   ]
  },
  {
   "cell_type": "code",
   "execution_count": 41,
   "id": "1c4fcf75",
   "metadata": {},
   "outputs": [
    {
     "data": {
      "text/plain": [
       "4.0"
      ]
     },
     "execution_count": 41,
     "metadata": {},
     "output_type": "execute_result"
    }
   ],
   "source": [
    "points.storage()[0] #另一種取得 storage 中元素的方法"
   ]
  },
  {
   "cell_type": "code",
   "execution_count": 42,
   "id": "bc838a63",
   "metadata": {},
   "outputs": [
    {
     "data": {
      "text/plain": [
       "tensor([[2., 1.],\n",
       "        [5., 3.],\n",
       "        [2., 1.]])"
      ]
     },
     "execution_count": 42,
     "metadata": {},
     "output_type": "execute_result"
    }
   ],
   "source": [
    "points_storage[0] = 2.0 #將 points_storage 中索引為 0 的元素值由 4.0 改為 2.0\n",
    "points"
   ]
  },
  {
   "cell_type": "code",
   "execution_count": 43,
   "id": "aae09d91",
   "metadata": {},
   "outputs": [
    {
     "data": {
      "text/plain": [
       "tensor([[1., 1.],\n",
       "        [1., 1.],\n",
       "        [1., 1.]])"
      ]
     },
     "execution_count": 43,
     "metadata": {},
     "output_type": "execute_result"
    }
   ],
   "source": [
    "a = torch.ones(3, 2) #將 a 張量內的所有元素值初始化為 1\n",
    "a"
   ]
  },
  {
   "cell_type": "code",
   "execution_count": 44,
   "id": "7218ea26",
   "metadata": {},
   "outputs": [
    {
     "data": {
      "text/plain": [
       "tensor([[0., 0.],\n",
       "        [0., 0.],\n",
       "        [0., 0.]])"
      ]
     },
     "execution_count": 44,
     "metadata": {},
     "output_type": "execute_result"
    }
   ],
   "source": [
    "a.zero_() #將 a 張量內的所有元素值修改成 0 \n",
    "a"
   ]
  },
  {
   "cell_type": "code",
   "execution_count": 45,
   "id": "da4e30f0",
   "metadata": {},
   "outputs": [
    {
     "data": {
      "text/plain": [
       " 4.0\n",
       " 1.0\n",
       " 5.0\n",
       " 3.0\n",
       " 2.0\n",
       " 1.0\n",
       "[torch.FloatStorage of size 6]"
      ]
     },
     "execution_count": 45,
     "metadata": {},
     "output_type": "execute_result"
    }
   ],
   "source": [
    "#3.8 大小、偏移和步長\n",
    "points = torch.tensor([[4.0, 1.0], [5.0, 3.0], [2.0, 1.0]]) #創建一個 3x2 的 2軸張量，用來存放 3個座標點\n",
    "points.storage() #輸出 points 張量的 storage"
   ]
  },
  {
   "cell_type": "code",
   "execution_count": 46,
   "id": "bea83871",
   "metadata": {},
   "outputs": [
    {
     "data": {
      "text/plain": [
       " 4.0\n",
       " 1.0\n",
       " 5.0\n",
       " 3.0\n",
       " 2.0\n",
       " 1.0\n",
       "[torch.FloatStorage of size 6]"
      ]
     },
     "execution_count": 46,
     "metadata": {},
     "output_type": "execute_result"
    }
   ],
   "source": [
    "second_point = points[1] #從 points 張量中抽取索引為 1 的點，並放入 second_point 張量\n",
    "second_point.storage() # 輸出 second_point 張量的 storage\n",
    "#與 points 張量指向同一個 storage"
   ]
  },
  {
   "cell_type": "code",
   "execution_count": 47,
   "id": "8b7dccc4",
   "metadata": {},
   "outputs": [
    {
     "data": {
      "text/plain": [
       "2"
      ]
     },
     "execution_count": 47,
     "metadata": {},
     "output_type": "execute_result"
    }
   ],
   "source": [
    "second_point.storage_offset() #輸出 second_point 張量的偏移量\n",
    "#由於先跳過 4.0 和 1.0 因此偏移量為 2"
   ]
  },
  {
   "cell_type": "code",
   "execution_count": 48,
   "id": "30e989fa",
   "metadata": {},
   "outputs": [
    {
     "data": {
      "text/plain": [
       "torch.Size([2])"
      ]
     },
     "execution_count": 48,
     "metadata": {},
     "output_type": "execute_result"
    }
   ],
   "source": [
    "second_point.size()"
   ]
  },
  {
   "cell_type": "code",
   "execution_count": 49,
   "id": "f9548eaa",
   "metadata": {},
   "outputs": [
    {
     "data": {
      "text/plain": [
       "torch.Size([2])"
      ]
     },
     "execution_count": 49,
     "metadata": {},
     "output_type": "execute_result"
    }
   ],
   "source": [
    "second_point.shape\n",
    "#結果與使用 size() 相同"
   ]
  },
  {
   "cell_type": "code",
   "execution_count": 50,
   "id": "ab49b90f",
   "metadata": {},
   "outputs": [
    {
     "data": {
      "text/plain": [
       "(2, 1)"
      ]
     },
     "execution_count": 50,
     "metadata": {},
     "output_type": "execute_result"
    }
   ],
   "source": [
    "points.stride()\n",
    "#第 0 軸的索引每 +1，需要跳過 2 個元素, 第 1 軸的索引每加 1 需要跳過 1 個元素"
   ]
  },
  {
   "cell_type": "code",
   "execution_count": 51,
   "id": "646ec03e",
   "metadata": {},
   "outputs": [
    {
     "data": {
      "text/plain": [
       "torch.Size([2])"
      ]
     },
     "execution_count": 51,
     "metadata": {},
     "output_type": "execute_result"
    }
   ],
   "source": [
    "second_point = points[1] #再次產生一個 second_point 張量\n",
    "second_point.size()"
   ]
  },
  {
   "cell_type": "code",
   "execution_count": 52,
   "id": "3bc888e6",
   "metadata": {},
   "outputs": [
    {
     "data": {
      "text/plain": [
       "tensor([[ 4.,  1.],\n",
       "        [10.,  3.],\n",
       "        [ 2.,  1.]])"
      ]
     },
     "execution_count": 52,
     "metadata": {},
     "output_type": "execute_result"
    }
   ],
   "source": [
    "points = torch.tensor([[4.0, 1.0], [5.0, 3.0], [2.0, 1.0]])\n",
    "second_point = points[1]\n",
    "second_point[0] = 10.0 #將 second_point 中索引為 0 的元素值改為 10.0\n",
    "points #檢查看看 points 張量的內容是否有變化"
   ]
  },
  {
   "cell_type": "code",
   "execution_count": 53,
   "id": "83fd4bde",
   "metadata": {},
   "outputs": [
    {
     "data": {
      "text/plain": [
       "tensor([[4., 1.],\n",
       "        [5., 3.],\n",
       "        [2., 1.]])"
      ]
     },
     "execution_count": 53,
     "metadata": {},
     "output_type": "execute_result"
    }
   ],
   "source": [
    "points = torch.tensor([[4.0, 1.0], [5.0, 3.0], [2.0, 1.0]])\n",
    "second_point = points[1].clone() #利用 clone 複製一份 points 張量中索引為 1 的座標資料\n",
    "second_point[0] = 10.0 #修改 second_point 中，索引為 0 的元素值\n",
    "points #points 元素未被修改"
   ]
  },
  {
   "cell_type": "code",
   "execution_count": 54,
   "id": "c22ccf22",
   "metadata": {},
   "outputs": [
    {
     "data": {
      "text/plain": [
       "tensor([[4., 1.],\n",
       "        [5., 3.],\n",
       "        [2., 1.]])"
      ]
     },
     "execution_count": 54,
     "metadata": {},
     "output_type": "execute_result"
    }
   ],
   "source": [
    "points = torch.tensor([[4.0, 1.0], [5.0, 3.0], [2.0, 1.0]])\n",
    "points\n",
    "\n",
    "#tensor([[4., 1.], <- 代表一個座標點\n",
    "#        [5., 3.],\n",
    "#        [2., 1.]])\n",
    "#         ^   ^ \n",
    "#         |   |\n",
    "#x 座標(第0行) y座標(第1行)\n"
   ]
  },
  {
   "cell_type": "code",
   "execution_count": 55,
   "id": "53a642e9",
   "metadata": {},
   "outputs": [
    {
     "data": {
      "text/plain": [
       "tensor([[4., 5., 2.],\n",
       "        [1., 3., 1.]])"
      ]
     },
     "execution_count": 55,
     "metadata": {},
     "output_type": "execute_result"
    }
   ],
   "source": [
    "points_t = points.t() #對 points 張量進行轉置，並存為 points_t\n",
    "points_t\n",
    "\n",
    "#tensor([[4., 5., 2.],  <- x座標\n",
    "#        [1., 3., 1.]]) <- y座標\n",
    "#         ^   \n",
    "#         |   \n",
    "#  代表一個座標點 "
   ]
  },
  {
   "cell_type": "code",
   "execution_count": 56,
   "id": "3d0f63af",
   "metadata": {},
   "outputs": [
    {
     "data": {
      "text/plain": [
       "True"
      ]
     },
     "execution_count": 56,
     "metadata": {},
     "output_type": "execute_result"
    }
   ],
   "source": [
    "id(points.storage()) == id(points_t.storage()) #測試 points 張量及 points_t 張量的 storage 是否相同"
   ]
  },
  {
   "cell_type": "code",
   "execution_count": 57,
   "id": "1caa1977",
   "metadata": {},
   "outputs": [
    {
     "data": {
      "text/plain": [
       "(2, 1)"
      ]
     },
     "execution_count": 57,
     "metadata": {},
     "output_type": "execute_result"
    }
   ],
   "source": [
    "points.stride()"
   ]
  },
  {
   "cell_type": "code",
   "execution_count": 58,
   "id": "6a780b7d",
   "metadata": {},
   "outputs": [
    {
     "data": {
      "text/plain": [
       "(1, 2)"
      ]
     },
     "execution_count": 58,
     "metadata": {},
     "output_type": "execute_result"
    }
   ],
   "source": [
    "points_t.stride()"
   ]
  },
  {
   "cell_type": "code",
   "execution_count": 59,
   "id": "3cdd9f49",
   "metadata": {},
   "outputs": [
    {
     "data": {
      "text/plain": [
       "torch.Size([3, 4, 5])"
      ]
     },
     "execution_count": 59,
     "metadata": {},
     "output_type": "execute_result"
    }
   ],
   "source": [
    "some_t = torch.ones(3, 4, 5) #創建一個 shape 為 3x4x5 的 3 軸張量\n",
    "some_t.shape"
   ]
  },
  {
   "cell_type": "code",
   "execution_count": 60,
   "id": "60918011",
   "metadata": {},
   "outputs": [
    {
     "data": {
      "text/plain": [
       "torch.Size([5, 4, 3])"
      ]
     },
     "execution_count": 60,
     "metadata": {},
     "output_type": "execute_result"
    }
   ],
   "source": [
    "transpose_t = some_t.transpose(0, 2) #將第 0 軸及第 2 軸進行轉置\n",
    "transpose_t.shape"
   ]
  },
  {
   "cell_type": "code",
   "execution_count": 61,
   "id": "b20e37eb",
   "metadata": {},
   "outputs": [
    {
     "data": {
      "text/plain": [
       "(20, 5, 1)"
      ]
     },
     "execution_count": 61,
     "metadata": {},
     "output_type": "execute_result"
    }
   ],
   "source": [
    "some_t.stride()"
   ]
  },
  {
   "cell_type": "code",
   "execution_count": 62,
   "id": "fcfd2b4d",
   "metadata": {},
   "outputs": [
    {
     "data": {
      "text/plain": [
       "(1, 5, 20)"
      ]
     },
     "execution_count": 62,
     "metadata": {},
     "output_type": "execute_result"
    }
   ],
   "source": [
    "transpose_t.stride()"
   ]
  },
  {
   "cell_type": "code",
   "execution_count": 63,
   "id": "26c37dba",
   "metadata": {},
   "outputs": [
    {
     "data": {
      "text/plain": [
       "True"
      ]
     },
     "execution_count": 63,
     "metadata": {},
     "output_type": "execute_result"
    }
   ],
   "source": [
    "points.is_contiguous() #用 is_contiguous()來檢查某個張量是否連續"
   ]
  },
  {
   "cell_type": "code",
   "execution_count": 64,
   "id": "d8ed885f",
   "metadata": {},
   "outputs": [
    {
     "data": {
      "text/plain": [
       "False"
      ]
     },
     "execution_count": 64,
     "metadata": {},
     "output_type": "execute_result"
    }
   ],
   "source": [
    "points_t.is_contiguous() #轉置矩陣不是連續張量"
   ]
  },
  {
   "cell_type": "code",
   "execution_count": 65,
   "id": "b036048d",
   "metadata": {},
   "outputs": [
    {
     "data": {
      "text/plain": [
       "tensor([[4., 5., 2.],\n",
       "        [1., 3., 1.]])"
      ]
     },
     "execution_count": 65,
     "metadata": {},
     "output_type": "execute_result"
    }
   ],
   "source": [
    "points =torch.tensor([[4.0, 1.0], [5.0, 3.0], [2.0, 1.0]])\n",
    "points_t = points.t() #對張量進行轉置\n",
    "points_t"
   ]
  },
  {
   "cell_type": "code",
   "execution_count": 66,
   "id": "5e3986e2",
   "metadata": {},
   "outputs": [
    {
     "data": {
      "text/plain": [
       " 4.0\n",
       " 1.0\n",
       " 5.0\n",
       " 3.0\n",
       " 2.0\n",
       " 1.0\n",
       "[torch.FloatStorage of size 6]"
      ]
     },
     "execution_count": 66,
     "metadata": {},
     "output_type": "execute_result"
    }
   ],
   "source": [
    "points_t.storage()"
   ]
  },
  {
   "cell_type": "code",
   "execution_count": 67,
   "id": "c12182ef",
   "metadata": {},
   "outputs": [
    {
     "data": {
      "text/plain": [
       "(1, 2)"
      ]
     },
     "execution_count": 67,
     "metadata": {},
     "output_type": "execute_result"
    }
   ],
   "source": [
    "points_t.stride()"
   ]
  },
  {
   "cell_type": "code",
   "execution_count": 68,
   "id": "3bc48149",
   "metadata": {},
   "outputs": [
    {
     "data": {
      "text/plain": [
       "tensor([[4., 5., 2.],\n",
       "        [1., 3., 1.]])"
      ]
     },
     "execution_count": 68,
     "metadata": {},
     "output_type": "execute_result"
    }
   ],
   "source": [
    "points_t_cont = points_t.contiguous() #利用 contiguous() 將 points_t 轉換成連續的張量，並存放在 points_t_cont\n",
    "points_t_cont"
   ]
  },
  {
   "cell_type": "code",
   "execution_count": 69,
   "id": "110206a0",
   "metadata": {},
   "outputs": [
    {
     "data": {
      "text/plain": [
       "(3, 1)"
      ]
     },
     "execution_count": 69,
     "metadata": {},
     "output_type": "execute_result"
    }
   ],
   "source": [
    "points_t_cont.stride() #步長改變了，元素變成沿著'列'方向排列"
   ]
  },
  {
   "cell_type": "code",
   "execution_count": 70,
   "id": "70a21d39",
   "metadata": {},
   "outputs": [
    {
     "data": {
      "text/plain": [
       " 4.0\n",
       " 5.0\n",
       " 2.0\n",
       " 1.0\n",
       " 3.0\n",
       " 1.0\n",
       "[torch.FloatStorage of size 6]"
      ]
     },
     "execution_count": 70,
     "metadata": {},
     "output_type": "execute_result"
    }
   ],
   "source": [
    "points_t_cont.storage()"
   ]
  },
  {
   "cell_type": "code",
   "execution_count": 71,
   "id": "d759dbef",
   "metadata": {},
   "outputs": [],
   "source": [
    "#3.9 把張量移到 GPU 上\n",
    "points_gpu = torch.tensor([[4.0, 1.0], [5.0, 3.0], [2.0, 1.0]], device='cuda') #將指定張量存到 GPU 上"
   ]
  },
  {
   "cell_type": "code",
   "execution_count": 72,
   "id": "dca31786",
   "metadata": {},
   "outputs": [],
   "source": [
    "points_gpu = points.to(device='cuda') #之前的例子 points 張量是存在 CPU 上，現在將他轉移至 GPU"
   ]
  },
  {
   "cell_type": "code",
   "execution_count": 73,
   "id": "1e7b41fa",
   "metadata": {},
   "outputs": [],
   "source": [
    "points_gpu = points.to(device='cuda:0') #將 points 轉移到第 0 個 GPU 上"
   ]
  },
  {
   "cell_type": "code",
   "execution_count": 74,
   "id": "634d71d1",
   "metadata": {},
   "outputs": [],
   "source": [
    "points = 2 * points #在 CPU 上的乘法操作\n",
    "points_GPU = 2 * points.to(device='cuda') #在 GPU 上的乘法操作\n",
    "#1. points 張量的值被複製到 GPU 上\n",
    "#2. 在 GPU 上建立一個新張量 (points_gpu)，用來存放接下來的乘法結果\n",
    "#3. 傳回張量的計算結果"
   ]
  },
  {
   "cell_type": "code",
   "execution_count": 75,
   "id": "b65854bc",
   "metadata": {},
   "outputs": [],
   "source": [
    "points_gpu = points_gpu + 4 #一樣在 GPU 上進行"
   ]
  },
  {
   "cell_type": "code",
   "execution_count": 76,
   "id": "19db33f0",
   "metadata": {},
   "outputs": [],
   "source": [
    "points_cpu = points_gpu.to(device='cpu') #把張量搬回 cpu"
   ]
  },
  {
   "cell_type": "code",
   "execution_count": 77,
   "id": "2a8011d9",
   "metadata": {},
   "outputs": [],
   "source": [
    "points_gpu = points.cuda() #將 points 張量轉移至 GPU 上\n",
    "points_gpu = points.cuda(0) #將 points 張量轉移至第 0 顆 GPU 上\n",
    "points_cpu = points_gpu.cpu() #將張量移回 CPU 上"
   ]
  },
  {
   "cell_type": "code",
   "execution_count": 78,
   "id": "98101ca6",
   "metadata": {},
   "outputs": [
    {
     "data": {
      "text/plain": [
       "array([[1., 1., 1., 1.],\n",
       "       [1., 1., 1., 1.],\n",
       "       [1., 1., 1., 1.]], dtype=float32)"
      ]
     },
     "execution_count": 78,
     "metadata": {},
     "output_type": "execute_result"
    }
   ],
   "source": [
    "#3.10 與 NumPy 的互動性\n",
    "points = torch.ones(3, 4) \n",
    "points_np = points.numpy() #利用 numpy() 將 PyTorch 張量轉換為 NumPy 陣列\n",
    "points_np"
   ]
  },
  {
   "cell_type": "code",
   "execution_count": 79,
   "id": "61cf03c4",
   "metadata": {},
   "outputs": [],
   "source": [
    "points = torch.from_numpy(points_np) #轉回 pytorch 張量"
   ]
  },
  {
   "cell_type": "code",
   "execution_count": 80,
   "id": "1d2c3794",
   "metadata": {},
   "outputs": [],
   "source": [
    "#3.12 將張量序列化(長期儲存)\n",
    "torch.save(points, 'ourpoints.t') #儲存張量"
   ]
  },
  {
   "cell_type": "code",
   "execution_count": 81,
   "id": "e96c5b2c",
   "metadata": {},
   "outputs": [],
   "source": [
    "with open('ourpoints.t','wb') as f: #儲存張量\n",
    "    torch.save(points, f)"
   ]
  },
  {
   "cell_type": "code",
   "execution_count": 82,
   "id": "02ccd3ec",
   "metadata": {},
   "outputs": [
    {
     "data": {
      "text/plain": [
       "tensor([[1., 1., 1., 1.],\n",
       "        [1., 1., 1., 1.],\n",
       "        [1., 1., 1., 1.]])"
      ]
     },
     "execution_count": 82,
     "metadata": {},
     "output_type": "execute_result"
    }
   ],
   "source": [
    "points = torch.load('ourpoints.t') #讀取張量\n",
    "points"
   ]
  },
  {
   "cell_type": "code",
   "execution_count": 83,
   "id": "03785cb9",
   "metadata": {},
   "outputs": [
    {
     "data": {
      "text/plain": [
       "tensor([[1., 1., 1., 1.],\n",
       "        [1., 1., 1., 1.],\n",
       "        [1., 1., 1., 1.]])"
      ]
     },
     "execution_count": 83,
     "metadata": {},
     "output_type": "execute_result"
    }
   ],
   "source": [
    "with open('ourpoints.t', 'rb') as f:\n",
    "    points = torch.load(f)\n",
    "points\n",
    "#上述的方法不能以 PyTorch 以外的軟體讀取"
   ]
  },
  {
   "cell_type": "code",
   "execution_count": 84,
   "id": "876a6c55",
   "metadata": {},
   "outputs": [],
   "source": [
    "import h5py\n",
    "f = h5py.File('ourpoints.hdf5', 'w') #創建一個 hdf5 檔，並開啟寫入模式\n",
    "dset = f.create_dataset('coords', data=points.numpy()) #先將張量轉換為 NumPy 陣列，並作為 create_dataset()參數\n",
    "f.close()"
   ]
  },
  {
   "cell_type": "code",
   "execution_count": 91,
   "id": "be2772bd",
   "metadata": {},
   "outputs": [
    {
     "data": {
      "text/plain": [
       "array([[1., 1., 1., 1.],\n",
       "       [1., 1., 1., 1.]], dtype=float32)"
      ]
     },
     "execution_count": 91,
     "metadata": {},
     "output_type": "execute_result"
    }
   ],
   "source": [
    "f = h5py.File('ourpoints.hdf5', 'r') #讀入存有各個座標點資訊的 HDF5 檔，r 代表 read\n",
    "dset =  f['coords'] #上個 cell 的 coords 為 index 因為　hdf5 為 dictionary 結構\n",
    "last_points = dset[-2:] #取得最後兩個座標點 此時資料才被載入回來\n",
    "last_points"
   ]
  },
  {
   "cell_type": "code",
   "execution_count": 89,
   "id": "55413062",
   "metadata": {},
   "outputs": [],
   "source": [
    "last_points = torch.from_numpy(dset[-2:]) #資料會被複製到張量的 storage 中\n",
    "f.close()"
   ]
  },
  {
   "cell_type": "code",
   "execution_count": 93,
   "id": "dca4e6e8",
   "metadata": {},
   "outputs": [
    {
     "data": {
      "text/plain": [
       "tensor([0, 1, 2, 3, 4, 5, 6, 7, 8])"
      ]
     },
     "execution_count": 93,
     "metadata": {},
     "output_type": "execute_result"
    }
   ],
   "source": [
    "#延伸思考\n",
    "a = torch.tensor(list(range(9)))\n",
    "a"
   ]
  },
  {
   "cell_type": "code",
   "execution_count": 94,
   "id": "e0bb843e",
   "metadata": {},
   "outputs": [
    {
     "data": {
      "text/plain": [
       "torch.Size([9])"
      ]
     },
     "execution_count": 94,
     "metadata": {},
     "output_type": "execute_result"
    }
   ],
   "source": [
    "a.size()"
   ]
  },
  {
   "cell_type": "code",
   "execution_count": 97,
   "id": "e959ce4f",
   "metadata": {},
   "outputs": [
    {
     "data": {
      "text/plain": [
       "0"
      ]
     },
     "execution_count": 97,
     "metadata": {},
     "output_type": "execute_result"
    }
   ],
   "source": [
    "a.storage_offset()"
   ]
  },
  {
   "cell_type": "code",
   "execution_count": 98,
   "id": "faf9859f",
   "metadata": {},
   "outputs": [
    {
     "data": {
      "text/plain": [
       "(1,)"
      ]
     },
     "execution_count": 98,
     "metadata": {},
     "output_type": "execute_result"
    }
   ],
   "source": [
    "a.stride()"
   ]
  },
  {
   "cell_type": "code",
   "execution_count": 99,
   "id": "f7873beb",
   "metadata": {},
   "outputs": [
    {
     "data": {
      "text/plain": [
       "tensor([[0, 1, 2],\n",
       "        [3, 4, 5],\n",
       "        [6, 7, 8]])"
      ]
     },
     "execution_count": 99,
     "metadata": {},
     "output_type": "execute_result"
    }
   ],
   "source": [
    "b = a.view(3, 3)\n",
    "b"
   ]
  },
  {
   "cell_type": "code",
   "execution_count": 100,
   "id": "069fef81",
   "metadata": {},
   "outputs": [
    {
     "data": {
      "text/plain": [
       "True"
      ]
     },
     "execution_count": 100,
     "metadata": {},
     "output_type": "execute_result"
    }
   ],
   "source": [
    "id(b.storage()) == id(a.storage())"
   ]
  },
  {
   "cell_type": "code",
   "execution_count": 102,
   "id": "1479ad60",
   "metadata": {},
   "outputs": [
    {
     "data": {
      "text/plain": [
       "tensor([[4, 5],\n",
       "        [7, 8]])"
      ]
     },
     "execution_count": 102,
     "metadata": {},
     "output_type": "execute_result"
    }
   ],
   "source": [
    "c = b[1:,1:]\n",
    "c"
   ]
  },
  {
   "cell_type": "code",
   "execution_count": 103,
   "id": "989799e0",
   "metadata": {},
   "outputs": [
    {
     "data": {
      "text/plain": [
       "torch.Size([2, 2])"
      ]
     },
     "execution_count": 103,
     "metadata": {},
     "output_type": "execute_result"
    }
   ],
   "source": [
    "c.size()"
   ]
  },
  {
   "cell_type": "code",
   "execution_count": 104,
   "id": "efa88e99",
   "metadata": {},
   "outputs": [
    {
     "data": {
      "text/plain": [
       "4"
      ]
     },
     "execution_count": 104,
     "metadata": {},
     "output_type": "execute_result"
    }
   ],
   "source": [
    "c.storage_offset()"
   ]
  },
  {
   "cell_type": "code",
   "execution_count": 105,
   "id": "26888d6a",
   "metadata": {},
   "outputs": [
    {
     "data": {
      "text/plain": [
       "(3, 1)"
      ]
     },
     "execution_count": 105,
     "metadata": {},
     "output_type": "execute_result"
    }
   ],
   "source": [
    "c.stride()"
   ]
  },
  {
   "cell_type": "code",
   "execution_count": 113,
   "id": "05a802f4",
   "metadata": {
    "scrolled": true
   },
   "outputs": [
    {
     "data": {
      "text/plain": [
       "torch.float32"
      ]
     },
     "execution_count": 113,
     "metadata": {},
     "output_type": "execute_result"
    }
   ],
   "source": [
    "test = a.cos()\n",
    "test.dtype"
   ]
  },
  {
   "cell_type": "code",
   "execution_count": 125,
   "id": "941d91de",
   "metadata": {},
   "outputs": [
    {
     "data": {
      "text/plain": [
       "tensor([ 1.0000,  0.5403, -0.4161, -0.9900, -0.6536,  0.2837,  0.9602,  0.7539,\n",
       "        -0.1455])"
      ]
     },
     "execution_count": 125,
     "metadata": {},
     "output_type": "execute_result"
    }
   ],
   "source": [
    "a.to(dtype=torch.float32).cos_()\n"
   ]
  }
 ],
 "metadata": {
  "kernelspec": {
   "display_name": "Python 3",
   "language": "python",
   "name": "python3"
  },
  "language_info": {
   "codemirror_mode": {
    "name": "ipython",
    "version": 3
   },
   "file_extension": ".py",
   "mimetype": "text/x-python",
   "name": "python",
   "nbconvert_exporter": "python",
   "pygments_lexer": "ipython3",
   "version": "3.6.8"
  }
 },
 "nbformat": 4,
 "nbformat_minor": 5
}
